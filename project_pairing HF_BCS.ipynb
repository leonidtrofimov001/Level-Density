{
 "cells": [
  {
   "cell_type": "code",
   "execution_count": 3238,
   "metadata": {},
   "outputs": [],
   "source": [
    "import math\n",
    "import numpy as np\n",
    "import matplotlib.pyplot as plt\n",
    "import matplotlib.ticker as ticker\n",
    "import time\n",
    "from mpl_toolkits.mplot3d import Axes3D\n",
    "import collections\n",
    "import requests\n",
    "import re"
   ]
  },
  {
   "cell_type": "markdown",
   "metadata": {},
   "source": [
    "# Входные параметры\n",
    "\n",
    "[nucleus] - определённое ядро, для которого нужно вычислить плотность уровней. Записывается в строковом формате: 39K, 40Ca, 58Ni и т.п. Регистр не важен.\n",
    "\n",
    "[U] - энергия, вплоть до которой нужно вычислить плотность уровней. Формат: целое число в МэВ.\n",
    "\n",
    "[file] - название файла, из которого извлекается информация об одночастичных состояниях ядра.\n",
    "\n",
    "[pairs_2Delta] - булева переменная. Если True, то в расчёте учитывается, что пару нуклонов можно разъединить, но при этом оставить нуклоны в своих одночастичных состояниях. Если False, то это предположение не будет учитываться.\n",
    "\n",
    "# Внутренние переменные\n",
    "\n",
    "[A]- массовое число, определяемое из [nucleus]\n",
    "\n",
    "[N_p]- число протонов, определяемое из [nucleus]\n",
    "\n",
    "[N_n] - аналогично.\n",
    "\n",
    "[p_levels]- количество энергетических уровней для протонов\n",
    "\n",
    "[n_levels] - аналогично.\n",
    "\n",
    "[DP] - энергия спаривания для протонов\n",
    "\n",
    "[DN] - аналогично.\n",
    "\n",
    "[E_0_proton] - энергия основного состояния для протонов.\n",
    "\n",
    "[E_0_neutron] - аналогично.\n",
    "\n",
    "[E_F_proton] - энергия Ферми для протонов.\n",
    "\n",
    "[E_F_neutron] - аналогично.\n",
    "\n",
    "[energy_step] - шаг в распределении по энергии в МэВ. Обычно это целое число.\n",
    "\n",
    "[j2z_limit] - максимальное значение удвоенной проекции углового момента. Если у некоторого многочастичного состояния будет рассчитано j2z > j2z_limit или -j2z < -j2z_limit, то возникнет ошибка. Значение j2z_limit выбирается с запасом; обычно оно равно 50.\n",
    "\n",
    "[level_count] - массив количеств многочастичных состояний в интервалах шириной [energy_step], соответствующих энергии от 0 до $int(\\frac{U_{max}}{\\text{energy\\_step}})$.\n",
    "\n",
    "[dN[n]_over_dU_over_d2jz_pariry[P]] - словарь (dictionary) для нейтронов [n], в котором ключами являются энергии возбуждения с шагом [energy_step], а значениями - массивы, каждый индекс которого соответствует определённой проекции углового момента 2jz. Указывая энергию и проекцию углового момента, можно получить количество многочастичных состояний с положительной чётностью [P] с заданными параметрами. Например, dNn_over_dU_over_d2jz_pariryP[7][56] выдаст количество многочастичных состояний в интервале энергий [7, 8) МэВ, с проекцией углового момента $J_Z$ - [j2z_limit] = 6/2 = 3 и с положительной чётностью $P=1$.\n",
    "\n",
    "[dNn_over_dU_over_d2jz_pariryN] - аналогично.\n",
    "\n",
    "[dNp_over_dU_over_d2jz_pariryP] - аналогично.\n",
    "\n",
    "[dNp_over_dU_over_d2jz_pariryN] - аналогично.\n",
    "\n",
    "[dNp_over_dU] - словарь (dictionary) для протонов, в котором ключами являются энергии возбуждения с шагом [energy_step], а значениями - числа, количества многочастичных состояний в определённых интервалах энергий. Например, dNp_over_dU[7] выдаст количество многочастичных состояний в интервале энергий [7, 8) МэВ.\n",
    "\n",
    "[dNn_over_dU] - аналогично.\n",
    "\n",
    "[N_states] - в расчёте для протонов принимает значение [proton_nstates], для нейтронов - [neutron_nstates].\n",
    "\n",
    "[E_F] - в расчёте для протонов принимает значение [E_F_proton], для нейтронов - [E_F_neutron].\n",
    "\n",
    "[nucl_type] - в расчёте для протонов принимает строковое значение 'p', для нейтронов - 'n'.\n",
    "\n",
    "[E_0] - в расчёте для протонов принимает значение [E_0_proton], для нейтронов - [E_0_neutron].\n",
    "\n",
    "[N] - в расчёте для протонов принимает значение [N_p], для нейтронов - [N_n].\n",
    "\n",
    "[parity] - в расчёте для протонов принимает значение [proton_parity], для нейтронов - [neutron_parity].\n",
    "\n",
    "[j2z] - в расчёте для протонов принимает значение [proton_j2z], для нейтронов - [neutron_j2z].\n",
    "\n",
    "[D] - в расчёте для протонов принимает значение [DP], для нейтронов - [DN].\n",
    "\n",
    "[E] - в расчёте для протонов принимает значение [proton_energies], для нейтронов - [neutron_energies].\n",
    "\n",
    "[array] - массив чисел заполнения одночастичных состояний, состоящий из нулей (состояние не занято) и единиц (состояние занято). Когда производится расчёт для протонов, длина массива равна [proton_nstates], в случае нейтронов - [neutron_nstates].\n",
    "\n",
    "[iteration_array] - вспомогательный массив...\n",
    "\n",
    "[array_energy_pairing] - функция, которая рассчитывает энергию многочастичного состояния с учётом спаривания нуклонов. Возвращает массив, в котором каждый элемент является двумерным массивом [sum, n]. Здесь sum - энергия многочастичного состояния, n - количество многочастичных состояний, соответствующий определённому количеству разъединённых пар. Например, в массиве [[100, 1], [110, a], [120, b]] будет суммарно 1+a+b многочастичных состояний. Первый элемент [100, 1] соответствует случаю, когда разрыв пары не учитывается. Во втором элементе [110, a] разъединена одна пара, что даёт a многочастичных состояний. В третьем элементе [120, b] разъединены две пары, что даёт b многочастичных состояний.\n",
    "\n",
    "[array_parity] - функция, которая рассчитывает чётность многочастичного состояния. Возвращает 1, если чётность положительна, и -1, если отрицательна. Использует в расчёте [parity].\n",
    "\n",
    "[array_j2z] - функция, которая рассчитывает удвоенную проекцию полного углового момента многочастичного состояния. Использует в расчёте [j2z].\n",
    "\n",
    "\n",
    "\n",
    "\n"
   ]
  },
  {
   "cell_type": "code",
   "execution_count": 3251,
   "metadata": {},
   "outputs": [],
   "source": [
    "nucleus = '58Ni'\n",
    "U = 30\n",
    "file = 'SLy4/Ni58_SGII (1).1'\n",
    "pairs_2Delta = False # True of False"
   ]
  },
  {
   "cell_type": "code",
   "execution_count": 3252,
   "metadata": {},
   "outputs": [],
   "source": [
    "# Определение массового числа [A], числа протонов [N_p] и нейтронов [N_n] из [nucleus]\n",
    "\n",
    "element = { 11: 'na', 12: 'mg', 13: 'al', 14: 'si', 15: 'p', 16: 's', 17: 'cl', 18: 'ar', 19: 'k', 20: 'ca', 21: 'sc', 22: 'ti', 23: 'v', 24: 'cr', 25: 'mn', 26: 'fe', 27: 'co', 28: 'ni', 29: 'cu', 30: 'zn', 31: 'ga', 32: 'ge', 33: 'as', 34: 'se', 35: 'br', 36: 'kr', 37: 'rb', 38: 'sr', 39: 'y', 40: 'zr', 41: 'nb', 42: 'mo', 43: 'tc', 44: 'ru', 45: 'rh', 46: 'pd', 47: 'ag', 48: 'cd', 49: 'in', 50: 'sn'}\n",
    "\n",
    "num_len = len(re.findall(r'\\d', nucleus))\n",
    "A = int(nucleus[0:num_len])\n",
    "N_p = list(element.keys())[list(element.values()).index(nucleus[num_len:].lower())]\n",
    "N_n = A - N_p"
   ]
  },
  {
   "cell_type": "markdown",
   "metadata": {},
   "source": [
    "# Определение изначальных параметров\n",
    "\n",
    "Ni58: \n",
    "p_levels = 10\n",
    "n_levels = 12\n",
    "\n",
    "Ni60: \n",
    "p_levels = 10\n",
    "n_levels = 11\n",
    "\n",
    "Ni62: \n",
    "p_levels = 10\n",
    "n_levels = 11\n",
    "\n",
    "Ni64: \n",
    "p_levels = 9\n",
    "n_levels = 11"
   ]
  },
  {
   "cell_type": "code",
   "execution_count": 3253,
   "metadata": {},
   "outputs": [],
   "source": [
    "p_levels = 10\n",
    "n_levels = 12\n",
    "\n",
    "with open(file) as file_text_data:\n",
    "    lines = [line.rstrip() for line in file_text_data]\n",
    "\n",
    "p_lines = lines[123:123+p_levels]\n",
    "n_lines = lines[123+p_levels:123+p_levels+n_levels]\n",
    "\n",
    "proton_nstates = 0 # Полное количество одночастичных состояний протонов\n",
    "proton_energies = [] # Массив энергий одночастичных состояний протонов\n",
    "proton_j2 = [] # Массив удвоенных (целых) значений угловых моментов протонов\n",
    "proton_j2z = [] # Массив удвоенных (целых) значений проеций угловых моментов протонов\n",
    "proton_allocation = [] # Массив вероятностей заселённости V^2 протонов\n",
    "proton_parity = [] # Массив чётностей одночастичных состояний протонов\n",
    "\n",
    "p_lines = sorted(p_lines, key = lambda line: float(line.split()[3])) # sort by energies\n",
    "\n",
    "for line in p_lines:\n",
    "    line = line.split()\n",
    "    j2 = int(float(line[2])*2)\n",
    "\n",
    "    for j2z_ in range(j2+1): # 2j+1 одночастичных состояний на одном уровне\n",
    "        proton_nstates += 1\n",
    "        proton_energies.append(float(line[3]))\n",
    "        proton_j2.append(j2)\n",
    "        proton_allocation.append(line[5])\n",
    "        proton_parity.append((1,-1)[int(float(line[1]))%2])\n",
    "\n",
    "    for i in range(int((j2+1)/2)):\n",
    "        proton_j2z.append(j2 - i * 2)\n",
    "        proton_j2z.append(-j2 + i * 2)\n",
    "\n",
    "neutron_nstates = 0 # Полное количество одночастичных состояний нейтронов\n",
    "neutron_energies = [] # Массив энергий одночастичных состояний нейтронов\n",
    "neutron_j2 = [] # Массив удвоенных (целых) значений угловых моментов нейтронов\n",
    "neutron_j2z = [] # Массив удвоенных (целых) значений проеций угловых моментов нейтронов\n",
    "neutron_allocation = [] # Массив вероятностей заселённости V^2 нейтронов\n",
    "neutron_parity = [] # Массив чётностей одночастичных состояний нейтронов\n",
    "\n",
    "n_lines = sorted(n_lines, key = lambda line: float(line.split()[3])) # sort by energies\n",
    "\n",
    "for line in n_lines:\n",
    "    line = line.split()\n",
    "    j2 = int(float(line[2])*2)\n",
    "\n",
    "    for j2z_ in range(j2+1): # 2j+1 одночастичных состояний на одном уровне\n",
    "        neutron_nstates += 1\n",
    "        neutron_energies.append(float(line[3]))\n",
    "        neutron_j2.append(j2)\n",
    "        neutron_allocation.append(line[5])\n",
    "        neutron_parity.append((1,-1)[int(float(line[1]))%2])\n",
    "\n",
    "    for i in range(int((j2+1)/2)):\n",
    "        neutron_j2z.append(j2 - i * 2)\n",
    "        neutron_j2z.append(-j2 + i * 2)\n",
    "\n"
   ]
  },
  {
   "cell_type": "code",
   "execution_count": 3254,
   "metadata": {},
   "outputs": [
    {
     "name": "stdout",
     "output_type": "stream",
     "text": [
      "order: 0\n",
      "energy: -41.05776\n",
      "j2_level 1\n",
      "j2z 1\n",
      "parity 1\n",
      "==========\n",
      "order: 1\n",
      "energy: -41.05776\n",
      "j2_level 1\n",
      "j2z -1\n",
      "parity 1\n",
      "==========\n",
      "order: 2\n",
      "energy: -30.31723\n",
      "j2_level 3\n",
      "j2z 3\n",
      "parity -1\n",
      "==========\n",
      "order: 3\n",
      "energy: -30.31723\n",
      "j2_level 3\n",
      "j2z -3\n",
      "parity -1\n",
      "==========\n",
      "order: 4\n",
      "energy: -30.31723\n",
      "j2_level 3\n",
      "j2z 1\n",
      "parity -1\n",
      "==========\n",
      "order: 5\n",
      "energy: -30.31723\n",
      "j2_level 3\n",
      "j2z -1\n",
      "parity -1\n",
      "==========\n",
      "order: 6\n",
      "energy: -28.39017\n",
      "j2_level 1\n",
      "j2z 1\n",
      "parity -1\n",
      "==========\n",
      "order: 7\n",
      "energy: -28.39017\n",
      "j2_level 1\n",
      "j2z -1\n",
      "parity -1\n",
      "==========\n",
      "order: 8\n",
      "energy: -19.10396\n",
      "j2_level 5\n",
      "j2z 5\n",
      "parity 1\n",
      "==========\n",
      "order: 9\n",
      "energy: -19.10396\n",
      "j2_level 5\n",
      "j2z -5\n",
      "parity 1\n",
      "==========\n",
      "order: 10\n",
      "energy: -19.10396\n",
      "j2_level 5\n",
      "j2z 3\n",
      "parity 1\n",
      "==========\n",
      "order: 11\n",
      "energy: -19.10396\n",
      "j2_level 5\n",
      "j2z -3\n",
      "parity 1\n",
      "==========\n",
      "order: 12\n",
      "energy: -19.10396\n",
      "j2_level 5\n",
      "j2z 1\n",
      "parity 1\n",
      "==========\n",
      "order: 13\n",
      "energy: -19.10396\n",
      "j2_level 5\n",
      "j2z -1\n",
      "parity 1\n",
      "==========\n",
      "order: 14\n",
      "energy: -14.53384\n",
      "j2_level 3\n",
      "j2z 3\n",
      "parity 1\n",
      "==========\n",
      "order: 15\n",
      "energy: -14.53384\n",
      "j2_level 3\n",
      "j2z -3\n",
      "parity 1\n",
      "==========\n",
      "order: 16\n",
      "energy: -14.53384\n",
      "j2_level 3\n",
      "j2z 1\n",
      "parity 1\n",
      "==========\n",
      "order: 17\n",
      "energy: -14.53384\n",
      "j2_level 3\n",
      "j2z -1\n",
      "parity 1\n",
      "==========\n",
      "order: 18\n",
      "energy: -14.38588\n",
      "j2_level 1\n",
      "j2z 1\n",
      "parity 1\n",
      "==========\n",
      "order: 19\n",
      "energy: -14.38588\n",
      "j2_level 1\n",
      "j2z -1\n",
      "parity 1\n",
      "==========\n",
      "order: 20\n",
      "energy: -7.91785\n",
      "j2_level 7\n",
      "j2z 7\n",
      "parity -1\n",
      "==========\n",
      "order: 21\n",
      "energy: -7.91785\n",
      "j2_level 7\n",
      "j2z -7\n",
      "parity -1\n",
      "==========\n",
      "order: 22\n",
      "energy: -7.91785\n",
      "j2_level 7\n",
      "j2z 5\n",
      "parity -1\n",
      "==========\n",
      "order: 23\n",
      "energy: -7.91785\n",
      "j2_level 7\n",
      "j2z -5\n",
      "parity -1\n",
      "==========\n",
      "order: 24\n",
      "energy: -7.91785\n",
      "j2_level 7\n",
      "j2z 3\n",
      "parity -1\n",
      "==========\n",
      "order: 25\n",
      "energy: -7.91785\n",
      "j2_level 7\n",
      "j2z -3\n",
      "parity -1\n",
      "==========\n",
      "order: 26\n",
      "energy: -7.91785\n",
      "j2_level 7\n",
      "j2z 1\n",
      "parity -1\n",
      "==========\n",
      "order: 27\n",
      "energy: -7.91785\n",
      "j2_level 7\n",
      "j2z -1\n",
      "parity -1\n",
      "==========\n",
      "order: 28\n",
      "energy: -3.13422\n",
      "j2_level 3\n",
      "j2z 3\n",
      "parity -1\n",
      "==========\n",
      "order: 29\n",
      "energy: -3.13422\n",
      "j2_level 3\n",
      "j2z -3\n",
      "parity -1\n",
      "==========\n",
      "order: 30\n",
      "energy: -3.13422\n",
      "j2_level 3\n",
      "j2z 1\n",
      "parity -1\n",
      "==========\n",
      "order: 31\n",
      "energy: -3.13422\n",
      "j2_level 3\n",
      "j2z -1\n",
      "parity -1\n",
      "==========\n",
      "order: 32\n",
      "energy: -1.51411\n",
      "j2_level 1\n",
      "j2z 1\n",
      "parity -1\n",
      "==========\n",
      "order: 33\n",
      "energy: -1.51411\n",
      "j2_level 1\n",
      "j2z -1\n",
      "parity -1\n",
      "==========\n",
      "order: 34\n",
      "energy: -0.805\n",
      "j2_level 5\n",
      "j2z 5\n",
      "parity -1\n",
      "==========\n",
      "order: 35\n",
      "energy: -0.805\n",
      "j2_level 5\n",
      "j2z -5\n",
      "parity -1\n",
      "==========\n",
      "order: 36\n",
      "energy: -0.805\n",
      "j2_level 5\n",
      "j2z 3\n",
      "parity -1\n",
      "==========\n",
      "order: 37\n",
      "energy: -0.805\n",
      "j2_level 5\n",
      "j2z -3\n",
      "parity -1\n",
      "==========\n",
      "order: 38\n",
      "energy: -0.805\n",
      "j2_level 5\n",
      "j2z 1\n",
      "parity -1\n",
      "==========\n",
      "order: 39\n",
      "energy: -0.805\n",
      "j2_level 5\n",
      "j2z -1\n",
      "parity -1\n",
      "==========\n"
     ]
    }
   ],
   "source": [
    "# Вывод набора одночастичных состояний протонов\n",
    "\n",
    "for i in range(proton_nstates):\n",
    "    print('order:', i)\n",
    "    print('energy:', proton_energies[i])\n",
    "    print('j2_level', proton_j2[i])\n",
    "    print('j2z', proton_j2z[i])\n",
    "    print('parity', proton_parity[i])\n",
    "    print('==========')"
   ]
  },
  {
   "cell_type": "code",
   "execution_count": 3255,
   "metadata": {},
   "outputs": [
    {
     "name": "stdout",
     "output_type": "stream",
     "text": [
      "order: 0\n",
      "energy: -49.43785\n",
      "j2_level 1\n",
      "j2z 1\n",
      "parity 1\n",
      "==========\n",
      "order: 1\n",
      "energy: -49.43785\n",
      "j2_level 1\n",
      "j2z -1\n",
      "parity 1\n",
      "==========\n",
      "order: 2\n",
      "energy: -38.90244\n",
      "j2_level 3\n",
      "j2z 3\n",
      "parity -1\n",
      "==========\n",
      "order: 3\n",
      "energy: -38.90244\n",
      "j2_level 3\n",
      "j2z -3\n",
      "parity -1\n",
      "==========\n",
      "order: 4\n",
      "energy: -38.90244\n",
      "j2_level 3\n",
      "j2z 1\n",
      "parity -1\n",
      "==========\n",
      "order: 5\n",
      "energy: -38.90244\n",
      "j2_level 3\n",
      "j2z -1\n",
      "parity -1\n",
      "==========\n",
      "order: 6\n",
      "energy: -36.77155\n",
      "j2_level 1\n",
      "j2z 1\n",
      "parity -1\n",
      "==========\n",
      "order: 7\n",
      "energy: -36.77155\n",
      "j2_level 1\n",
      "j2z -1\n",
      "parity -1\n",
      "==========\n",
      "order: 8\n",
      "energy: -27.64603\n",
      "j2_level 5\n",
      "j2z 5\n",
      "parity 1\n",
      "==========\n",
      "order: 9\n",
      "energy: -27.64603\n",
      "j2_level 5\n",
      "j2z -5\n",
      "parity 1\n",
      "==========\n",
      "order: 10\n",
      "energy: -27.64603\n",
      "j2_level 5\n",
      "j2z 3\n",
      "parity 1\n",
      "==========\n",
      "order: 11\n",
      "energy: -27.64603\n",
      "j2_level 5\n",
      "j2z -3\n",
      "parity 1\n",
      "==========\n",
      "order: 12\n",
      "energy: -27.64603\n",
      "j2_level 5\n",
      "j2z 1\n",
      "parity 1\n",
      "==========\n",
      "order: 13\n",
      "energy: -27.64603\n",
      "j2_level 5\n",
      "j2z -1\n",
      "parity 1\n",
      "==========\n",
      "order: 14\n",
      "energy: -22.85057\n",
      "j2_level 3\n",
      "j2z 3\n",
      "parity 1\n",
      "==========\n",
      "order: 15\n",
      "energy: -22.85057\n",
      "j2_level 3\n",
      "j2z -3\n",
      "parity 1\n",
      "==========\n",
      "order: 16\n",
      "energy: -22.85057\n",
      "j2_level 3\n",
      "j2z 1\n",
      "parity 1\n",
      "==========\n",
      "order: 17\n",
      "energy: -22.85057\n",
      "j2_level 3\n",
      "j2z -1\n",
      "parity 1\n",
      "==========\n",
      "order: 18\n",
      "energy: -22.68996\n",
      "j2_level 1\n",
      "j2z 1\n",
      "parity 1\n",
      "==========\n",
      "order: 19\n",
      "energy: -22.68996\n",
      "j2_level 1\n",
      "j2z -1\n",
      "parity 1\n",
      "==========\n",
      "order: 20\n",
      "energy: -16.19628\n",
      "j2_level 7\n",
      "j2z 7\n",
      "parity -1\n",
      "==========\n",
      "order: 21\n",
      "energy: -16.19628\n",
      "j2_level 7\n",
      "j2z -7\n",
      "parity -1\n",
      "==========\n",
      "order: 22\n",
      "energy: -16.19628\n",
      "j2_level 7\n",
      "j2z 5\n",
      "parity -1\n",
      "==========\n",
      "order: 23\n",
      "energy: -16.19628\n",
      "j2_level 7\n",
      "j2z -5\n",
      "parity -1\n",
      "==========\n",
      "order: 24\n",
      "energy: -16.19628\n",
      "j2_level 7\n",
      "j2z 3\n",
      "parity -1\n",
      "==========\n",
      "order: 25\n",
      "energy: -16.19628\n",
      "j2_level 7\n",
      "j2z -3\n",
      "parity -1\n",
      "==========\n",
      "order: 26\n",
      "energy: -16.19628\n",
      "j2_level 7\n",
      "j2z 1\n",
      "parity -1\n",
      "==========\n",
      "order: 27\n",
      "energy: -16.19628\n",
      "j2_level 7\n",
      "j2z -1\n",
      "parity -1\n",
      "==========\n",
      "order: 28\n",
      "energy: -10.98211\n",
      "j2_level 3\n",
      "j2z 3\n",
      "parity -1\n",
      "==========\n",
      "order: 29\n",
      "energy: -10.98211\n",
      "j2_level 3\n",
      "j2z -3\n",
      "parity -1\n",
      "==========\n",
      "order: 30\n",
      "energy: -10.98211\n",
      "j2_level 3\n",
      "j2z 1\n",
      "parity -1\n",
      "==========\n",
      "order: 31\n",
      "energy: -10.98211\n",
      "j2_level 3\n",
      "j2z -1\n",
      "parity -1\n",
      "==========\n",
      "order: 32\n",
      "energy: -9.15494\n",
      "j2_level 1\n",
      "j2z 1\n",
      "parity -1\n",
      "==========\n",
      "order: 33\n",
      "energy: -9.15494\n",
      "j2_level 1\n",
      "j2z -1\n",
      "parity -1\n",
      "==========\n",
      "order: 34\n",
      "energy: -8.7736\n",
      "j2_level 5\n",
      "j2z 5\n",
      "parity -1\n",
      "==========\n",
      "order: 35\n",
      "energy: -8.7736\n",
      "j2_level 5\n",
      "j2z -5\n",
      "parity -1\n",
      "==========\n",
      "order: 36\n",
      "energy: -8.7736\n",
      "j2_level 5\n",
      "j2z 3\n",
      "parity -1\n",
      "==========\n",
      "order: 37\n",
      "energy: -8.7736\n",
      "j2_level 5\n",
      "j2z -3\n",
      "parity -1\n",
      "==========\n",
      "order: 38\n",
      "energy: -8.7736\n",
      "j2_level 5\n",
      "j2z 1\n",
      "parity -1\n",
      "==========\n",
      "order: 39\n",
      "energy: -8.7736\n",
      "j2_level 5\n",
      "j2z -1\n",
      "parity -1\n",
      "==========\n",
      "order: 40\n",
      "energy: -4.67506\n",
      "j2_level 9\n",
      "j2z 9\n",
      "parity 1\n",
      "==========\n",
      "order: 41\n",
      "energy: -4.67506\n",
      "j2_level 9\n",
      "j2z -9\n",
      "parity 1\n",
      "==========\n",
      "order: 42\n",
      "energy: -4.67506\n",
      "j2_level 9\n",
      "j2z 7\n",
      "parity 1\n",
      "==========\n",
      "order: 43\n",
      "energy: -4.67506\n",
      "j2_level 9\n",
      "j2z -7\n",
      "parity 1\n",
      "==========\n",
      "order: 44\n",
      "energy: -4.67506\n",
      "j2_level 9\n",
      "j2z 5\n",
      "parity 1\n",
      "==========\n",
      "order: 45\n",
      "energy: -4.67506\n",
      "j2_level 9\n",
      "j2z -5\n",
      "parity 1\n",
      "==========\n",
      "order: 46\n",
      "energy: -4.67506\n",
      "j2_level 9\n",
      "j2z 3\n",
      "parity 1\n",
      "==========\n",
      "order: 47\n",
      "energy: -4.67506\n",
      "j2_level 9\n",
      "j2z -3\n",
      "parity 1\n",
      "==========\n",
      "order: 48\n",
      "energy: -4.67506\n",
      "j2_level 9\n",
      "j2z 1\n",
      "parity 1\n",
      "==========\n",
      "order: 49\n",
      "energy: -4.67506\n",
      "j2_level 9\n",
      "j2z -1\n",
      "parity 1\n",
      "==========\n",
      "order: 50\n",
      "energy: -0.27871\n",
      "j2_level 5\n",
      "j2z 5\n",
      "parity 1\n",
      "==========\n",
      "order: 51\n",
      "energy: -0.27871\n",
      "j2_level 5\n",
      "j2z -5\n",
      "parity 1\n",
      "==========\n",
      "order: 52\n",
      "energy: -0.27871\n",
      "j2_level 5\n",
      "j2z 3\n",
      "parity 1\n",
      "==========\n",
      "order: 53\n",
      "energy: -0.27871\n",
      "j2_level 5\n",
      "j2z -3\n",
      "parity 1\n",
      "==========\n",
      "order: 54\n",
      "energy: -0.27871\n",
      "j2_level 5\n",
      "j2z 1\n",
      "parity 1\n",
      "==========\n",
      "order: 55\n",
      "energy: -0.27871\n",
      "j2_level 5\n",
      "j2z -1\n",
      "parity 1\n",
      "==========\n"
     ]
    }
   ],
   "source": [
    "# Вывод набора одночастичных состояний нейтронов\n",
    "\n",
    "for i in range(neutron_nstates):\n",
    "    print('order:', i)\n",
    "    print('energy:', neutron_energies[i])\n",
    "    print('j2_level', neutron_j2[i])\n",
    "    print('j2z', neutron_j2z[i])\n",
    "    print('parity', neutron_parity[i])\n",
    "    print('==========')"
   ]
  },
  {
   "cell_type": "markdown",
   "metadata": {},
   "source": [
    "# Энергия спаривания $\\Delta$\n",
    "\n",
    "## Разные варианты определения $\\Delta$:"
   ]
  },
  {
   "cell_type": "code",
   "execution_count": 3256,
   "metadata": {},
   "outputs": [
    {
     "name": "stdout",
     "output_type": "stream",
     "text": [
      "0 0\n"
     ]
    }
   ],
   "source": [
    "# 1st variant\n",
    "# D = 12 / math.sqrt(A)\n",
    "\n",
    "# 2nd\n",
    "# D = 0.0\n",
    "# DP = 0.0\n",
    "# DN = 0.0\n",
    "\n",
    "# 3rd\n",
    "# M56Ni = 55.942132\n",
    "# M57Ni = 56.9397935\n",
    "# M58Ni = 57.9353429\n",
    "# M59Ni = 58.9343467\n",
    "# D = ((M57Ni + M59Ni)/2 - M58Ni) * 931.5\n",
    "\n",
    "# 4th\n",
    "# D = (M57Ni - (M56Ni + M58Ni)/2) * 931.5\n",
    "\n",
    "# 5th\n",
    "DP = float(lines[145].split(',')[1][5:].strip())\n",
    "DN = float(lines[146].split(',')[1][5:].strip())\n",
    "\n",
    "if pairs_2Delta == False:\n",
    "    DP = 0\n",
    "    DN = 0\n",
    "\n",
    "print(DP, DN)"
   ]
  },
  {
   "cell_type": "markdown",
   "metadata": {},
   "source": [
    "### Задание уровня Ферми"
   ]
  },
  {
   "cell_type": "code",
   "execution_count": 3258,
   "metadata": {},
   "outputs": [
    {
     "name": "stdout",
     "output_type": "stream",
     "text": [
      "-525.0384600000001 -782.2214\n",
      "-7.87019 -11.3661\n"
     ]
    }
   ],
   "source": [
    "E_0_proton = 0\n",
    "for i in range(N_p):\n",
    "    E_0_proton += proton_energies[i]\n",
    "\n",
    "E_0_neutron = 0\n",
    "for i in range(N_n):\n",
    "    E_0_neutron += neutron_energies[i]\n",
    "\n",
    "E_F_proton = proton_energies[N_p - 1]\n",
    "E_F_neutron = neutron_energies[N_n - 1]\n",
    "\n",
    "# Из файла Ni_SGII.1\n",
    "E_F_proton = float(lines[145].split(',')[2][7:].strip())\n",
    "E_F_neutron = float(lines[146].split(',')[2][7:].strip())\n",
    "\n",
    "print(E_0_proton, E_0_neutron)\n",
    "print(E_F_proton, E_F_neutron)"
   ]
  },
  {
   "cell_type": "markdown",
   "metadata": {},
   "source": [
    "# Алгоритм перебора многочастичных состояний"
   ]
  },
  {
   "cell_type": "code",
   "execution_count": 3246,
   "metadata": {},
   "outputs": [],
   "source": [
    "energy_step = 1 # MeV\n",
    "\n",
    "# Общие параметры\n",
    "global j2z_limit\n",
    "\n",
    "# Вычисляемые распределения\n",
    "global dNn_over_dU_over_d2jz_pariryP, dNn_over_dU_over_d2jz_pariryN, dNp_over_dU_over_d2jz_pariryP, dNp_over_dU_over_d2jz_pariryN\n",
    "global dNp_over_dU, dNn_over_dU\n",
    "\n",
    "# Параметры рассчёта, отличающиеся для протонов и нейтронов\n",
    "global N_states, E_F, nucl_type, E_0, N, parity, j2z, D, E\n",
    "\n",
    "# Внутренние переменные, использующиеся в алгоритме\n",
    "global array, iteration_array\n",
    "\n",
    "# Функции\n",
    "global array_energy_pairing, array_parity, array_j2z # array_energy"
   ]
  },
  {
   "cell_type": "code",
   "execution_count": 3186,
   "metadata": {},
   "outputs": [],
   "source": [
    "not_valid_energies = []"
   ]
  },
  {
   "cell_type": "code",
   "execution_count": null,
   "metadata": {},
   "outputs": [],
   "source": [
    "def add_count(calculated_array_energy_pairing):\n",
    "    for n_broken_pairs in range(len(calculated_array_energy_pairing)):\n",
    "        U_interval_float = calculated_array_energy_pairing[n_broken_pairs][0] /energy_step\n",
    "\n",
    "        U_interval = int(U_interval_float)\n",
    "\n",
    "        Number_of_states = calculated_array_energy_pairing[n_broken_pairs][1]\n",
    "\n",
    "        if U_interval > U:\n",
    "            not_valid_energies.append(U_interval_float)\n",
    "            return\n",
    "        \n",
    "        if(U_interval < 0):\n",
    "            print(\"ERROR U_interval < 0\", U_interval)\n",
    "\n",
    "        if nucl_type == 'n':\n",
    "            if array_parity() == 1:\n",
    "                dNn_over_dU_over_d2jz_pariryP[U_interval*energy_step][array_j2z() + j2z_limit] += Number_of_states\n",
    "            else:\n",
    "                dNn_over_dU_over_d2jz_pariryN[U_interval*energy_step][array_j2z() + j2z_limit] += Number_of_states\n",
    "\n",
    "        elif nucl_type == 'p':\n",
    "            if array_parity() == 1:\n",
    "                dNp_over_dU_over_d2jz_pariryP[U_interval*energy_step][array_j2z() + j2z_limit] += Number_of_states\n",
    "            else:\n",
    "                dNp_over_dU_over_d2jz_pariryN[U_interval*energy_step][array_j2z() + j2z_limit] += Number_of_states\n",
    "        else:\n",
    "            raise TypeError('nucl_type is incorrect')\n",
    "        "
   ]
  },
  {
   "cell_type": "code",
   "execution_count": 3188,
   "metadata": {},
   "outputs": [],
   "source": [
    "def binom(n,k):\n",
    "    numerator = 1\n",
    "    for i in range(n-k+1, n+1, 1):\n",
    "        numerator *= i\n",
    "    denominator = 1\n",
    "    for i in range(1, k+1):\n",
    "        denominator *= i\n",
    "    return int(numerator / denominator)"
   ]
  },
  {
   "cell_type": "code",
   "execution_count": 3189,
   "metadata": {},
   "outputs": [],
   "source": [
    "def array_energy():\n",
    "    summ = 0\n",
    "    for i in range(len(array)):\n",
    "        summ += array[i] * E[i]\n",
    "    return summ\n",
    "\n",
    "def array_energy_pairing():\n",
    "    summ = 0\n",
    "    N_pairs = 0\n",
    "    energy_array = []\n",
    "\n",
    "    for i in range(0, N, 2):\n",
    "        N_particles = array[i] + array[i+1]\n",
    "\n",
    "        if N_particles == 2:\n",
    "            N_pairs += 1\n",
    "\n",
    "        if N_particles == 1: # [0 1] или [1 0]\n",
    "            summ += math.sqrt( (E_F - E[i])**2 + D**2 )\n",
    "            summ += D\n",
    "        \n",
    "        if N_particles == 0:\n",
    "            summ += math.sqrt( (E_F - E[i])**2 + D**2 ) * 2\n",
    "\n",
    "    for i in range(N, len(array), 1):\n",
    "        summ += array[i] * math.sqrt( (E[i] - E_F)**2 + D**2 )\n",
    "\n",
    "    energy_array.append([summ, 1]) # [energy, number of many-body states]\n",
    "\n",
    "    # Учёт раъединённых пар нуклонов без перестановок\n",
    "    if pairs_2Delta and D != 0:\n",
    "        for k in range(1, N_pairs+1):\n",
    "            energy_array.append([summ + 2 * D * k , binom(N_pairs, k)])\n",
    "\n",
    "\n",
    "    return energy_array"
   ]
  },
  {
   "cell_type": "code",
   "execution_count": 3190,
   "metadata": {},
   "outputs": [],
   "source": [
    "def array_j2z():\n",
    "    summ = 0\n",
    "    for i in range(len(array)):\n",
    "        summ += array[i] * j2z[i]\n",
    "    return summ"
   ]
  },
  {
   "cell_type": "code",
   "execution_count": 3191,
   "metadata": {},
   "outputs": [],
   "source": [
    "def array_parity():\n",
    "    prod = 1\n",
    "    for i in range(len(array)):\n",
    "        if array[i] == 1:\n",
    "            prod *= parity[i]\n",
    "\n",
    "    return prod"
   ]
  },
  {
   "cell_type": "code",
   "execution_count": 3192,
   "metadata": {},
   "outputs": [],
   "source": [
    "def array_print(array):\n",
    "    message = '['\n",
    "    for i in range(0, len(array), 2):\n",
    "        message += f'[{array[i]}, {array[i+1]}],'\n",
    "\n",
    "    message += ']'\n",
    "    print(message)"
   ]
  },
  {
   "cell_type": "code",
   "execution_count": 3193,
   "metadata": {},
   "outputs": [],
   "source": [
    "def validate():\n",
    "    particles = 0\n",
    "    for i in range(N_states):\n",
    "        if(array[i] == 1):\n",
    "            particles += 1\n",
    "    if particles != N:\n",
    "        print(\"VALIDATION ERROR\")\n",
    "\n",
    "    if (array_j2z() % 2 == 0 and N % 2 != 0) or (array_j2z() % 2 != 0 and N % 2 == 0):\n",
    "        print(f\"{array_j2z()} {array}\\n error\")"
   ]
  },
  {
   "cell_type": "code",
   "execution_count": 3194,
   "metadata": {},
   "outputs": [],
   "source": [
    "def ALGORITHM_CORE(n):\n",
    "    global array\n",
    "    if n == 1:\n",
    "        # validate()\n",
    "        calculated = array_energy_pairing()\n",
    "        if calculated[0][0] <= U:\n",
    "            add_count(calculated)\n",
    "\n",
    "        remember_ens = array.copy()\n",
    "        for i in range(iteration_array[0]):\n",
    "            array[iteration_array[0]-i], array[iteration_array[0]-i-1] = 1, 0\n",
    "            # validate()\n",
    "            calculated = array_energy_pairing()\n",
    "            if calculated[0][0] <= U:\n",
    "                add_count(calculated)\n",
    "\n",
    "            else:\n",
    "                break\n",
    "\n",
    "        array = remember_ens.copy()\n",
    "        array[iteration_array[0] + 1], array[iteration_array[0] - 1] = 1, 0\n",
    "        iteration_array[0] -= 1\n",
    "\n",
    "    else:\n",
    "        iteration_array[n - 2] = iteration_array[n - 1]\n",
    "        # validate()\n",
    "        for i in range(iteration_array[n - 1]):\n",
    "            ALGORITHM_CORE(n - 1)\n",
    "            if array_energy_pairing()[0][0] > U:\n",
    "                break\n",
    "\n",
    "        if n != N_states - N:\n",
    "            array[iteration_array[n - 1] + n] = 1\n",
    "            for i in range(n + 1):\n",
    "                array[iteration_array[n - 1] - 1 + i] = 0\n",
    "\n",
    "            for i in range(iteration_array[n - 1] - 1):\n",
    "                array[i] = 1\n",
    "\n",
    "            # validate()\n",
    "            iteration_array[n - 1] -= 1\n",
    "\n",
    "            "
   ]
  },
  {
   "cell_type": "markdown",
   "metadata": {},
   "source": [
    "## Подготовка распределений"
   ]
  },
  {
   "cell_type": "code",
   "execution_count": 3195,
   "metadata": {},
   "outputs": [],
   "source": [
    "dNn_over_dU_over_d2jz_pariryP = {}\n",
    "dNn_over_dU_over_d2jz_pariryN = {}\n",
    "dNp_over_dU_over_d2jz_pariryP = {}\n",
    "dNp_over_dU_over_d2jz_pariryN = {}\n",
    "\n",
    "j2z_limit = 50 # в одну сторону\n",
    "\n",
    "for i in range(0, U+energy_step, energy_step):\n",
    "    dNn_over_dU_over_d2jz_pariryP[i] = [0 for k in range(2*j2z_limit+1)]\n",
    "    dNn_over_dU_over_d2jz_pariryN[i] = [0 for k in range(2*j2z_limit+1)]\n",
    "    dNp_over_dU_over_d2jz_pariryP[i] = [0 for k in range(2*j2z_limit+1)]\n",
    "    dNp_over_dU_over_d2jz_pariryN[i] = [0 for k in range(2*j2z_limit+1)]\n"
   ]
  },
  {
   "cell_type": "markdown",
   "metadata": {},
   "source": [
    "## Начало расчёта"
   ]
  },
  {
   "cell_type": "code",
   "execution_count": 3196,
   "metadata": {},
   "outputs": [
    {
     "name": "stdout",
     "output_type": "stream",
     "text": [
      "proton started\n",
      "neutron started\n"
     ]
    }
   ],
   "source": [
    "#################### PROTON ####################\n",
    "\n",
    "nucl_type = \"p\"\n",
    "N_states = proton_nstates\n",
    "N = N_p\n",
    "E = proton_energies\n",
    "E_F = E_F_proton\n",
    "E_0 = E_0_proton\n",
    "parity = proton_parity\n",
    "j2z = proton_j2z\n",
    "D = DP\n",
    "\n",
    "iteration_array = []\n",
    "for i in range(N_states - N):\n",
    "    iteration_array.append(N)\n",
    "\n",
    "array = [0 for i in range(N_states)]\n",
    "for i in range(N):\n",
    "    array[i] = 1\n",
    "\n",
    "print('proton started')\n",
    "\n",
    "ALGORITHM_CORE(N_states - N)\n",
    "\n",
    "#################### NEUTRON ####################\n",
    "\n",
    "nucl_type = \"n\"\n",
    "N_states = neutron_nstates\n",
    "N = N_n\n",
    "E = neutron_energies\n",
    "E_F = E_F_neutron\n",
    "E_0 = E_0_neutron\n",
    "parity = neutron_parity\n",
    "j2z = neutron_j2z\n",
    "D = DN\n",
    "\n",
    "iteration_array = []\n",
    "for i in range(N_states - N):\n",
    "    iteration_array.append(N)\n",
    "\n",
    "array = [0 for i in range(N_states)]\n",
    "for i in range(N):\n",
    "    array[i] = 1\n",
    "\n",
    "print('neutron started')\n",
    "\n",
    "ALGORITHM_CORE(N_states - N)"
   ]
  },
  {
   "cell_type": "code",
   "execution_count": 3197,
   "metadata": {},
   "outputs": [
    {
     "name": "stdout",
     "output_type": "stream",
     "text": [
      "113860\n"
     ]
    }
   ],
   "source": [
    "print(len(not_valid_energies))"
   ]
  },
  {
   "cell_type": "markdown",
   "metadata": {},
   "source": [
    "## Проверка на сохранение проекции угловго момента"
   ]
  },
  {
   "cell_type": "code",
   "execution_count": 3198,
   "metadata": {},
   "outputs": [],
   "source": [
    "energy = 0\n",
    "while energy <= U:\n",
    "    for jz in range(j2z_limit+2, 2*j2z_limit+1, 2):\n",
    "        if dNp_over_dU_over_d2jz_pariryN[energy][jz] != dNp_over_dU_over_d2jz_pariryN[energy][2*j2z_limit - jz]:\n",
    "            print(f\"Error, jz = {jz} proton N, energy {energy}\")\n",
    "        if dNp_over_dU_over_d2jz_pariryP[energy][jz] != dNp_over_dU_over_d2jz_pariryP[energy][2*j2z_limit - jz]:\n",
    "            print(f\"Error, jz = {jz} proton P, energy {energy}\")\n",
    "        if dNn_over_dU_over_d2jz_pariryN[energy][jz] != dNn_over_dU_over_d2jz_pariryN[energy][2*j2z_limit - jz]:\n",
    "            print(f\"Error, jz = {jz} neutron N, energy {energy}\")\n",
    "        if dNn_over_dU_over_d2jz_pariryP[energy][jz] != dNn_over_dU_over_d2jz_pariryP[energy][2*j2z_limit - jz]:\n",
    "            print(f\"Error, jz = {jz} neurton P, energy {energy}\")\n",
    "    energy += energy_step"
   ]
  },
  {
   "cell_type": "code",
   "execution_count": 3199,
   "metadata": {},
   "outputs": [],
   "source": [
    "# for i in range(int(U/energy_step)):\n",
    "#     print(dNp_over_dU_over_d2jz_pariryP[i*energy_step])\n"
   ]
  },
  {
   "cell_type": "markdown",
   "metadata": {},
   "source": [
    "# Анализ"
   ]
  },
  {
   "cell_type": "code",
   "execution_count": 3200,
   "metadata": {},
   "outputs": [],
   "source": [
    "# Параметр плотности одночастичных уровней\n",
    "a = 5.44"
   ]
  },
  {
   "cell_type": "markdown",
   "metadata": {},
   "source": [
    "## Ось энергий"
   ]
  },
  {
   "cell_type": "code",
   "execution_count": 3201,
   "metadata": {},
   "outputs": [
    {
     "name": "stdout",
     "output_type": "stream",
     "text": [
      "U_axis [0.5, 1.5, 2.5, 3.5, 4.5, 5.5, 6.5, 7.5, 8.5, 9.5, 10.5, 11.5, 12.5, 13.5, 14.5, 15.5, 16.5, 17.5, 18.5, 19.5, 20.5, 21.5, 22.5, 23.5, 24.5, 25.5, 26.5, 27.5, 28.5, 29.5]\n"
     ]
    }
   ],
   "source": [
    "U_axis = [i + energy_step/2 for i in range(0, int(U), energy_step)]\n",
    "U_axis = [x for x in U_axis]  # MeV\n",
    "print(f'U_axis {U_axis}')"
   ]
  },
  {
   "cell_type": "markdown",
   "metadata": {},
   "source": [
    "## Получение dNn/dU и dNp/dU"
   ]
  },
  {
   "cell_type": "code",
   "execution_count": 3202,
   "metadata": {},
   "outputs": [],
   "source": [
    "dNn_over_dU = {}\n",
    "dNn_over_dU_over_pariryP = {}\n",
    "dNn_over_dU_over_pariryN = {}\n",
    "dNp_over_dU = {}\n",
    "dNp_over_dU_over_pariryP = {}\n",
    "dNp_over_dU_over_pariryN = {}\n",
    "\n",
    "for energy_index in range(len(U_axis)):\n",
    "    energy = energy_index * energy_step # KeV\n",
    "\n",
    "    dNn_over_dU_over_pariryP[energy] = 0\n",
    "    dNn_over_dU_over_pariryN[energy] = 0\n",
    "    dNp_over_dU_over_pariryP[energy] = 0\n",
    "    dNp_over_dU_over_pariryN[energy] = 0\n",
    "\n",
    "    for i in range(len(dNn_over_dU_over_d2jz_pariryP[0])): # Убираем d2jz\n",
    "        dNn_over_dU_over_pariryP[energy] += dNn_over_dU_over_d2jz_pariryP[energy][i]\n",
    "        dNn_over_dU_over_pariryN[energy] += dNn_over_dU_over_d2jz_pariryN[energy][i]\n",
    "\n",
    "        dNp_over_dU_over_pariryP[energy] += dNp_over_dU_over_d2jz_pariryP[energy][i]\n",
    "        dNp_over_dU_over_pariryN[energy] += dNp_over_dU_over_d2jz_pariryN[energy][i]\n",
    "\n",
    "    dNn_over_dU[energy] = dNn_over_dU_over_pariryP[energy] + dNn_over_dU_over_pariryN[energy]\n",
    "    dNp_over_dU[energy] = dNp_over_dU_over_pariryP[energy] + dNp_over_dU_over_pariryN[energy]"
   ]
  },
  {
   "cell_type": "code",
   "execution_count": 3203,
   "metadata": {},
   "outputs": [
    {
     "name": "stdout",
     "output_type": "stream",
     "text": [
      "1, 1\n",
      "0, 0\n",
      "15, 0\n",
      "4, 14\n",
      "0, 0\n",
      "110, 0\n",
      "72, 91\n",
      "554, 0\n",
      "180, 32\n",
      "687, 0\n",
      "2078, 380\n",
      "3320, 48\n",
      "8712, 416\n",
      "6084, 1249\n",
      "10657, 632\n",
      "27006, 2536\n",
      "42369, 124\n",
      "49224, 4034\n",
      "80202, 12968\n",
      "115409, 824\n",
      "229508, 14731\n",
      "296563, 14464\n",
      "458418, 30224\n",
      "504992, 18360\n",
      "640331, 39538\n",
      "1246827, 92948\n",
      "1687598, 40160\n",
      "1975872, 171129\n",
      "2786716, 121490\n",
      "4581424, 210527\n"
     ]
    }
   ],
   "source": [
    "for e in range(len(U_axis)):\n",
    "    print(f'{dNn_over_dU[e * energy_step]}, {dNp_over_dU[e * energy_step]}')"
   ]
  },
  {
   "cell_type": "markdown",
   "metadata": {},
   "source": [
    "## Получение dN/dU"
   ]
  },
  {
   "cell_type": "code",
   "execution_count": 3204,
   "metadata": {},
   "outputs": [
    {
     "name": "stdout",
     "output_type": "stream",
     "text": [
      "begin 0\n",
      "begin 1\n",
      "begin 2\n",
      "begin 3\n",
      "begin 4\n",
      "begin 5\n",
      "begin 6\n",
      "begin 7\n",
      "begin 8\n",
      "begin 9\n",
      "begin 10\n",
      "begin 11\n",
      "begin 12\n",
      "begin 13\n",
      "begin 14\n",
      "begin 15\n",
      "begin 16\n",
      "begin 17\n",
      "begin 18\n",
      "begin 19\n",
      "begin 20\n",
      "begin 21\n",
      "begin 22\n",
      "begin 23\n",
      "begin 24\n",
      "begin 25\n",
      "begin 26\n",
      "begin 27\n",
      "begin 28\n",
      "begin 29\n"
     ]
    }
   ],
   "source": [
    "dN_over_dU = {}\n",
    "dN_over_dU_parityP = {}\n",
    "dN_over_dU_parityN = {}\n",
    "\n",
    "for energy_index in range(len(U_axis)):\n",
    "    energy = energy_index * energy_step\n",
    "\n",
    "    dN_over_dU[energy] = 0\n",
    "    dN_over_dU_parityP[energy] = 0\n",
    "    dN_over_dU_parityN[energy] = 0\n",
    "\n",
    "    print(f'begin {energy}')\n",
    "    for e in range(energy_index + 1):\n",
    "        # print(f'N_n {dNn_over_dU[e * energy_step]}, E_n {e*energy_step}, N_p {dNp_over_dU[energy - e * energy_step]}, E_p {energy - e*energy_step}')\n",
    "        dN_over_dU[energy] += dNn_over_dU[e * energy_step] * dNp_over_dU[energy - e * energy_step]\n",
    "\n",
    "        dN_over_dU_parityP[energy] += dNn_over_dU_over_pariryP[e * energy_step] * dNp_over_dU_over_pariryP[energy - e * energy_step]\n",
    "        dN_over_dU_parityP[energy] += dNn_over_dU_over_pariryN[e * energy_step] * dNp_over_dU_over_pariryN[energy - e * energy_step]\n",
    "\n",
    "        dN_over_dU_parityN[energy] += dNn_over_dU_over_pariryN[e * energy_step] * dNp_over_dU_over_pariryP[energy - e * energy_step]\n",
    "        dN_over_dU_parityN[energy] += dNn_over_dU_over_pariryP[e * energy_step] * dNp_over_dU_over_pariryN[energy - e * energy_step]"
   ]
  },
  {
   "cell_type": "markdown",
   "metadata": {},
   "source": [
    "### Конвертация словарей (dict) в массивы (array)"
   ]
  },
  {
   "cell_type": "code",
   "execution_count": 3205,
   "metadata": {},
   "outputs": [],
   "source": [
    "dN_over_dU_arr = []\n",
    "dN_over_dU_parityP_arr = []\n",
    "dN_over_dU_parityN_arr = []\n",
    "\n",
    "for i in range(len(dN_over_dU)):\n",
    "    dN_over_dU_arr.append(dN_over_dU[i * energy_step])\n",
    "    dN_over_dU_parityP_arr.append(dN_over_dU_parityP[i * energy_step])\n",
    "    dN_over_dU_parityN_arr.append(dN_over_dU_parityN[i * energy_step])\n",
    "    "
   ]
  },
  {
   "cell_type": "markdown",
   "metadata": {},
   "source": [
    "# Сглаживание dN/dE"
   ]
  },
  {
   "cell_type": "markdown",
   "metadata": {},
   "source": [
    "### Сглаживание линейное по 3 точкам"
   ]
  },
  {
   "cell_type": "code",
   "execution_count": 3206,
   "metadata": {},
   "outputs": [],
   "source": [
    "smoothing = 3\n",
    "dN_over_dU_arr_smooth = []\n",
    "U_axis_smooth = []\n",
    "\n",
    "for i in range(len(dN_over_dU_arr)-smoothing+1):\n",
    "\n",
    "    aver_value = 0\n",
    "    aver_axis = 0\n",
    "    for j in range(smoothing):\n",
    "        aver_value += dN_over_dU_arr[i+j]\n",
    "        aver_axis += U_axis[i+j]\n",
    "\n",
    "    dN_over_dU_arr_smooth.append(aver_value/smoothing)\n",
    "    U_axis_smooth.append(aver_axis/smoothing)\n"
   ]
  },
  {
   "cell_type": "markdown",
   "metadata": {},
   "source": [
    "### Сглаживание экспоненциальное из [2013 Uhrenholt]\n",
    "\n",
    "$\\rho(U_b) = \\sum\\limits_{a} \\rho(U_a) \\frac{1}{2} \\left[ \n",
    "    erf\\left( \\frac{U_a + \\Delta E/2 - U_b}{\\sqrt{2}\\sigma} \\right) -\n",
    "    erf\\left( \\frac{U_a - \\Delta E/2 - U_b}{\\sqrt{2}\\sigma} \\right) \n",
    "    \\right]$\n",
    "\n",
    "$\\sigma = \\frac{\\Gamma}{2\\sqrt{2 \\ln(2)}}$\n",
    "\n",
    "$\\Gamma = 0.039 \\left( \\frac{A}{160} \\right)^{-1/2} E^{3/2}$ MeV"
   ]
  },
  {
   "cell_type": "code",
   "execution_count": 3207,
   "metadata": {},
   "outputs": [
    {
     "name": "stdout",
     "output_type": "stream",
     "text": [
      "1.0 1\n",
      "14.999974455597796 15\n",
      "17.942211180680935 18\n",
      "9.614789735169072 0\n",
      "286.5819053319468 320\n",
      "279.5715449073371 219\n",
      "969.3045569371269 554\n",
      "2394.1943945662924 3117\n",
      "4751.686917841435 2059\n",
      "10810.348710176426 10694\n",
      "23437.98045532902 16026\n",
      "49463.724040414694 30998\n",
      "98831.60963082257 92599\n",
      "198397.66943578448 82885\n",
      "396141.85273724317 293954\n",
      "771007.0941667978 369643\n",
      "1475053.8922862257 826864\n",
      "2811607.31282817 1604880\n",
      "5334260.88289927 2089901\n",
      "9987112.569689602 4306508\n",
      "18064716.990352575 6568637\n",
      "30480195.325341403 13689035\n",
      "46491107.427291594 18738850\n",
      "63284629.40163244 32446741\n",
      "77232042.9789103 61460724\n",
      "85700660.40445034 84741526\n",
      "87952734.13564251 144945659\n",
      "84864268.19819191 233605152\n",
      "78100998.73361403 367588880\n"
     ]
    }
   ],
   "source": [
    "dN_over_dU_arr_smooth_erf = []\n",
    "\n",
    "for i in range(len(U_axis)):\n",
    "    if U_axis[i] == 0:\n",
    "        dN_over_dU_arr_smooth_erf.append(0)\n",
    "        continue\n",
    "\n",
    "    Г = 0.039 * (A/160)**(-1/2) * U_axis[i]**(3/2)\n",
    "    sigma = Г/(2*math.sqrt(2*math.log(2)))\n",
    "\n",
    "    # print('iter', i)\n",
    "\n",
    "    summ = 0\n",
    "    for j in range(len(dN_over_dU_arr)):\n",
    "        # if i == j:\n",
    "        #     continue\n",
    "\n",
    "        erf1 = math.erf((U_axis[j]+0.5-U_axis[i])/(math.sqrt(2)*sigma))\n",
    "        erf2 = math.erf((U_axis[j]-0.5-U_axis[i])/(math.sqrt(2)*sigma))\n",
    "        summ += dN_over_dU_arr[j] * (erf1 - erf2) / 2 \n",
    "        # print('    j =', j, erf1)\n",
    "\n",
    "    if summ < 1:\n",
    "        dN_over_dU_arr_smooth_erf.append(0)\n",
    "        continue\n",
    "\n",
    "    dN_over_dU_arr_smooth_erf.append(summ)\n",
    "    print(dN_over_dU_arr_smooth_erf[i], dN_over_dU_arr[i])\n"
   ]
  },
  {
   "cell_type": "code",
   "execution_count": 3208,
   "metadata": {},
   "outputs": [
    {
     "data": {
      "text/plain": [
       "28"
      ]
     },
     "execution_count": 3208,
     "metadata": {},
     "output_type": "execute_result"
    }
   ],
   "source": [
    "len(dN_over_dU_arr_smooth)"
   ]
  },
  {
   "cell_type": "markdown",
   "metadata": {},
   "source": [
    "# Графики для плотности многочастичных состояний"
   ]
  },
  {
   "cell_type": "markdown",
   "metadata": {},
   "source": [
    "## Аналитическая формула (2.46 Соколов)\n",
    "\n",
    "$\n",
    "\\omega(U) = \n",
    "\\frac{\\sqrt{\\pi}}{12}\n",
    "\\frac{\\exp(2\\sqrt{aU})}{a^{1/4}U^{5/4}}\n",
    "$"
   ]
  },
  {
   "cell_type": "code",
   "execution_count": 3209,
   "metadata": {},
   "outputs": [],
   "source": [
    "def Sokolov_246_formula(U):\n",
    "    frac = math.sqrt(math.pi) / 12\n",
    "    exp = math.exp(2 * math.sqrt(a * U))\n",
    "    bottom = pow(a, 1 / 4) * pow(U, 5 / 4)\n",
    "    return frac * exp / bottom"
   ]
  },
  {
   "cell_type": "code",
   "execution_count": 3210,
   "metadata": {},
   "outputs": [],
   "source": [
    "Sokolov_246_formula_range = np.arange(1.0, U, 0.1).tolist()\n",
    "\n",
    "Sokolov_246_formula_values = []\n",
    "for i in range(len(Sokolov_246_formula_range)):\n",
    "    Sokolov_246_formula_values.append(Sokolov_246_formula(Sokolov_246_formula_range[i]))"
   ]
  },
  {
   "cell_type": "code",
   "execution_count": 3211,
   "metadata": {},
   "outputs": [
    {
     "data": {
      "text/plain": [
       "<matplotlib.legend.Legend at 0x21e7bdde430>"
      ]
     },
     "execution_count": 3211,
     "metadata": {},
     "output_type": "execute_result"
    },
    {
     "data": {
      "image/png": "[encoded data removed]",
      "text/plain": [
       "<Figure size 1152x576 with 1 Axes>"
      ]
     },
     "metadata": {
      "needs_background": "light"
     },
     "output_type": "display_data"
    }
   ],
   "source": [
    "fig, graph = plt.subplots(figsize=(16, 8))\n",
    "\n",
    "# dN_over_dU_arr_OSC58Ni = [6, 0, 24, 8, 224, 67, 1345, 620, 3232, 5120, 20317, 17872, 43816, 107376, 150712, 309314, 529284, 1007912, 1178196, 3021540]\n",
    "# graph.scatter(U_axis, dN_over_dU_arr_OSC58Ni, linewidths=3, color='r' )\n",
    "\n",
    "graph.set_xlabel(\"Энергия возбуждения U, МэВ\", fontsize=24) # fontweight=\"bold\"\n",
    "graph.set_ylabel(f\"Количество многочастичных состояний\", fontsize=18)\n",
    "\n",
    "plt.rcParams.update({'font.size': 22})\n",
    "\n",
    "# graph.xaxis.set_major_locator(ticker.MultipleLocator(2))\n",
    "graph.yaxis.set_major_locator(ticker.MultipleLocator(1))\n",
    "graph.grid(which='major', color='gray', linestyle=':')\n",
    "graph.minorticks_on()\n",
    "# graph.grid(which='minor', axis='both', color='gray', linestyle=':')\n",
    "\n",
    "graph.plot(Sokolov_246_formula_range, Sokolov_246_formula_values, 'k', label='$\\omega(U)$')\n",
    "graph.scatter(U_axis, dN_over_dU_arr, linewidths=3, color='blue', label='$\\Delta N / \\Delta U$' )\n",
    "\n",
    "# graph.scatter(U_axis, dN_over_dU_arr_smooth_erf, linewidths=3, color='red', label='Формула (21) в 2013 Uhrenholt')\n",
    "# graph.scatter(U_axis_smooth, dN_over_dU_arr_smooth, linewidths=3, color='red', label='Среднее по 3 точкам' )\n",
    "\n",
    "graph.set_yscale('log')\n",
    "\n",
    "textHeight = math.log(max(dN_over_dU_arr) / 2)\n",
    "graph.text(20, textHeight, f'Модель HF+BCS\\n'\n",
    "                    f'{A}Ni\\n'\n",
    "                    f'N = {N_n}\\n'\n",
    "                    f'Z = {N_p}\\n'\n",
    "                    f'$\\Delta_p$ = {round(DP, ndigits=2)} МэВ\\n'\n",
    "                    f'$\\Delta_n$ = {round(DN, ndigits=2)} МэВ\\n'\n",
    "                    f'a = {a} МэВ${{}}^{{-1}}$',\n",
    "           bbox={'facecolor': 'white', 'alpha': 1, 'pad': 10}, fontsize=20)\n",
    "graph.legend()\n",
    "\n",
    "                    \n"
   ]
  },
  {
   "cell_type": "code",
   "execution_count": 3212,
   "metadata": {},
   "outputs": [
    {
     "name": "stdout",
     "output_type": "stream",
     "text": [
      "[1, 0, 15, 18, 0, 320, 219, 554, 3117, 2059, 10694, 16026, 30998, 92599, 82885, 293954, 369643, 826864, 1604880, 2089901, 4306508, 6568637, 13689035, 18738850, 32446741, 61460724, 84741526, 144945659, 233605152, 367588880]\n"
     ]
    }
   ],
   "source": [
    "print(dN_over_dU_arr)"
   ]
  },
  {
   "cell_type": "code",
   "execution_count": 3213,
   "metadata": {},
   "outputs": [
    {
     "data": {
      "text/plain": [
       "<matplotlib.legend.Legend at 0x21e7c119820>"
      ]
     },
     "execution_count": 3213,
     "metadata": {},
     "output_type": "execute_result"
    },
    {
     "data": {
      "image/png": "[encoded data removed]",
      "text/plain": [
       "<Figure size 1152x576 with 1 Axes>"
      ]
     },
     "metadata": {
      "needs_background": "light"
     },
     "output_type": "display_data"
    }
   ],
   "source": [
    "fig, graph = plt.subplots(figsize=(16, 8))\n",
    "\n",
    "graph.set_xlabel(\"Энергия возбуждения U, МэВ\", fontsize=24)\n",
    "graph.set_ylabel(f\"Количество многочастичных состояний\", fontsize=18)\n",
    "\n",
    "plt.rcParams.update({'font.size': 22})\n",
    "\n",
    "graph.yaxis.set_major_locator(ticker.MultipleLocator(1))\n",
    "graph.grid(which='major', color='gray', linestyle=':')\n",
    "# graph.minorticks_on()\n",
    "# graph.grid(which='minor', axis='both', color='gray', linestyle=':')\n",
    "\n",
    "graph.plot(Sokolov_246_formula_range, Sokolov_246_formula_values, 'k')\n",
    "graph.scatter(U_axis, dN_over_dU_parityP_arr, linewidths=3, color='red', label='P = +1' )\n",
    "graph.scatter(U_axis, dN_over_dU_parityN_arr, linewidths=3, color='blue', label='P = -1' )\n",
    "\n",
    "graph.set_yscale('log')\n",
    "\n",
    "textHeight = math.log(max(dN_over_dU_parityP_arr) / 3)\n",
    "graph.text(20, textHeight, f'Модель HF+BCS\\n'\n",
    "                    f'{A}Ni\\n'\n",
    "                    f'N = {N_n}\\n'\n",
    "                    f'Z = {N_p}\\n'\n",
    "                    f'a = {a} МэВ${{}}^{{-1}}$',\n",
    "           bbox={'facecolor': 'white', 'alpha': 1, 'pad': 10}, fontsize=20)\n",
    "graph.legend()\n"
   ]
  },
  {
   "cell_type": "markdown",
   "metadata": {},
   "source": [
    "# Массив $J_Z$"
   ]
  },
  {
   "cell_type": "code",
   "execution_count": 3214,
   "metadata": {},
   "outputs": [
    {
     "name": "stdout",
     "output_type": "stream",
     "text": [
      "finished 0 of out 30\n",
      "finished 1 of out 30\n",
      "finished 2 of out 30\n",
      "finished 3 of out 30\n",
      "finished 4 of out 30\n",
      "finished 5 of out 30\n",
      "finished 6 of out 30\n",
      "finished 7 of out 30\n",
      "finished 8 of out 30\n",
      "finished 9 of out 30\n",
      "finished 10 of out 30\n",
      "finished 11 of out 30\n",
      "finished 12 of out 30\n",
      "finished 13 of out 30\n",
      "finished 14 of out 30\n",
      "finished 15 of out 30\n",
      "finished 16 of out 30\n",
      "finished 17 of out 30\n",
      "finished 18 of out 30\n",
      "finished 19 of out 30\n",
      "finished 20 of out 30\n",
      "finished 21 of out 30\n",
      "finished 22 of out 30\n",
      "finished 23 of out 30\n",
      "finished 24 of out 30\n",
      "finished 25 of out 30\n",
      "finished 26 of out 30\n",
      "finished 27 of out 30\n",
      "finished 28 of out 30\n",
      "finished 29 of out 30\n",
      "finished 30 of out 30\n"
     ]
    }
   ],
   "source": [
    "J2z_array_parityP = {}\n",
    "J2z_array_parityN = {}\n",
    "\n",
    "# Требуется уточнение. Возможно, здесь ошибка. Для чётно-чётных ядер верно.\n",
    "if N_n % 2 == 0:\n",
    "    if N_p % 2 == 0:\n",
    "        J_iter_lim = j2z_limit # N even P even\n",
    "    else:\n",
    "        J_iter_lim = j2z_limit - 1 # N even P odd\n",
    "else:\n",
    "    if N_p % 2 == 0:\n",
    "        J_iter_lim = j2z_limit # N odd P even\n",
    "    else:\n",
    "        J_iter_lim = j2z_limit - 1 # N odd P odd\n",
    "\n",
    "for energy in range(int(U / energy_step) + 1):\n",
    "    energy = energy * energy_step\n",
    "    tmp_J2z_array_P = []\n",
    "    tmp_J2z_array_N = []\n",
    "    for J2z in range(-j2z_limit, j2z_limit + 1):\n",
    "        E_neutron = 0\n",
    "        E_proton = energy\n",
    "        J2z = abs(J2z)\n",
    "        total_states_pariryP = 0\n",
    "        total_states_pariryN = 0\n",
    "        while E_neutron <= energy:\n",
    "            for i in range(-J_iter_lim, J_iter_lim + 1 - J2z, 2):\n",
    "                x1 = dNn_over_dU_over_d2jz_pariryP[E_neutron][j2z_limit + i + J2z]\n",
    "                x2 = dNp_over_dU_over_d2jz_pariryP[E_proton][j2z_limit - i]\n",
    "                total_states_pariryP += x1 * x2\n",
    "\n",
    "                x1 = dNn_over_dU_over_d2jz_pariryN[E_neutron][j2z_limit + i + J2z]\n",
    "                x2 = dNp_over_dU_over_d2jz_pariryN[E_proton][j2z_limit - i]\n",
    "                total_states_pariryP += x1 * x2\n",
    "\n",
    "                x1 = dNn_over_dU_over_d2jz_pariryN[E_neutron][j2z_limit + i + J2z]\n",
    "                x2 = dNp_over_dU_over_d2jz_pariryP[E_proton][j2z_limit - i]\n",
    "                total_states_pariryN += x1 * x2\n",
    "\n",
    "                x1 = dNn_over_dU_over_d2jz_pariryP[E_neutron][j2z_limit + i + J2z]\n",
    "                x2 = dNp_over_dU_over_d2jz_pariryN[E_proton][j2z_limit - i]\n",
    "                total_states_pariryN += x1 * x2\n",
    "                # print(f\"(energy) {energy  : < 4} (J2z) {J2z : < 4} (j2z_limit + i + J2z) {j2z_limit + i + J2z : < 4} (j2z_limit - i) {j2z_limit - i : < 4} {total_states_pariryP != 0}\")\n",
    "\n",
    "            E_neutron += energy_step\n",
    "            E_proton -= energy_step\n",
    "\n",
    "        tmp_J2z_array_P.append(total_states_pariryP)\n",
    "        tmp_J2z_array_N.append(total_states_pariryN)\n",
    "\n",
    "    print(f\"finished {energy} of out {int(U)}\")\n",
    "\n",
    "    J2z_array_parityP[energy] = tmp_J2z_array_P\n",
    "    J2z_array_parityN[energy] = tmp_J2z_array_N\n",
    "    \n",
    "# Убираем все нулевые элементы на нечётных (или чётных) местах\n",
    "\n",
    "Jz_array_parityP = J2z_array_parityP\n",
    "Jz_array_parityN = J2z_array_parityN\n",
    "\n",
    "del J2z_array_parityP\n",
    "del J2z_array_parityN\n",
    "\n",
    "if A % 2 == 0:\n",
    "    start_selection = 1 # Удаление элементов +1, -1, +3, -3, ...\n",
    "else:\n",
    "    start_selection = 0 # Удаление элементов 0, +1, -1, ...\n",
    "\n",
    "for energy in range(int(U / energy_step) + 1):\n",
    "    energy = energy * energy_step\n",
    "    del Jz_array_parityP[energy][start_selection::2]\n",
    "    del Jz_array_parityN[energy][start_selection::2]"
   ]
  },
  {
   "cell_type": "code",
   "execution_count": 3215,
   "metadata": {},
   "outputs": [
    {
     "name": "stdout",
     "output_type": "stream",
     "text": [
      "51\n"
     ]
    }
   ],
   "source": [
    "if A % 2 == 0:\n",
    "    lim = 1\n",
    "    length = int((len(Jz_array_parityP[0]) - 1) / 2)\n",
    "    axis_J_array = [i for i in range(-length, length + 1)]\n",
    "else:\n",
    "    lim = 0\n",
    "\n",
    "    length = int((len(Jz_array_parityP[0]) - 1) / 2)\n",
    "    axis_J_array = [(i + 0.5) for i in range(-length - 1, length + 1)]\n",
    "\n",
    "print(len(axis_J_array))"
   ]
  },
  {
   "cell_type": "code",
   "execution_count": 3216,
   "metadata": {},
   "outputs": [
    {
     "name": "stdout",
     "output_type": "stream",
     "text": [
      "[0, 0, 0, 0, 0, 0, 0, 0, 0, 0, 0, 0, 0, 0, 0, 0, 0, 0, 0, 0, 0, 0, 0, 0, 0, 1, 0, 0, 0, 0, 0, 0, 0, 0, 0, 0, 0, 0, 0, 0, 0, 0, 0, 0, 0, 0, 0, 0, 0, 0, 0]\n",
      "[0, 0, 0, 0, 0, 0, 0, 0, 0, 0, 0, 0, 0, 0, 0, 0, 0, 0, 0, 0, 0, 0, 0, 0, 0, 0, 0, 0, 0, 0, 0, 0, 0, 0, 0, 0, 0, 0, 0, 0, 0, 0, 0, 0, 0, 0, 0, 0, 0, 0, 0]\n",
      "[0, 0, 0, 0, 0, 0, 0, 0, 0, 0, 0, 0, 0, 0, 0, 0, 0, 0, 0, 0, 0, 0, 0, 0, 0, 15, 0, 0, 0, 0, 0, 0, 0, 0, 0, 0, 0, 0, 0, 0, 0, 0, 0, 0, 0, 0, 0, 0, 0, 0, 0]\n",
      "[0, 0, 0, 0, 0, 0, 0, 0, 0, 0, 0, 0, 0, 0, 0, 0, 0, 0, 0, 0, 0, 0, 0, 1, 1, 14, 1, 1, 0, 0, 0, 0, 0, 0, 0, 0, 0, 0, 0, 0, 0, 0, 0, 0, 0, 0, 0, 0, 0, 0, 0]\n",
      "[0, 0, 0, 0, 0, 0, 0, 0, 0, 0, 0, 0, 0, 0, 0, 0, 0, 0, 0, 0, 0, 0, 0, 0, 0, 0, 0, 0, 0, 0, 0, 0, 0, 0, 0, 0, 0, 0, 0, 0, 0, 0, 0, 0, 0, 0, 0, 0, 0, 0, 0]\n",
      "[0, 0, 0, 0, 0, 0, 0, 0, 0, 0, 0, 0, 0, 0, 0, 0, 0, 0, 0, 0, 0, 0, 0, 1, 1, 316, 1, 1, 0, 0, 0, 0, 0, 0, 0, 0, 0, 0, 0, 0, 0, 0, 0, 0, 0, 0, 0, 0, 0, 0, 0]\n",
      "[0, 0, 0, 0, 0, 0, 0, 0, 0, 0, 0, 0, 0, 0, 0, 0, 0, 0, 0, 0, 0, 1, 1, 29, 31, 95, 31, 29, 1, 1, 0, 0, 0, 0, 0, 0, 0, 0, 0, 0, 0, 0, 0, 0, 0, 0, 0, 0, 0, 0, 0]\n",
      "[0, 0, 0, 0, 0, 0, 0, 0, 0, 0, 0, 0, 0, 0, 0, 0, 0, 0, 0, 0, 0, 1, 3, 18, 18, 474, 18, 18, 3, 1, 0, 0, 0, 0, 0, 0, 0, 0, 0, 0, 0, 0, 0, 0, 0, 0, 0, 0, 0, 0, 0]\n",
      "[0, 0, 0, 0, 0, 0, 0, 0, 0, 0, 0, 0, 0, 0, 0, 0, 0, 0, 0, 0, 1, 16, 18, 34, 48, 2883, 48, 34, 18, 16, 1, 0, 0, 0, 0, 0, 0, 0, 0, 0, 0, 0, 0, 0, 0, 0, 0, 0, 0, 0, 0]\n",
      "[0, 0, 0, 0, 0, 0, 0, 0, 0, 0, 0, 0, 0, 0, 0, 0, 0, 0, 0, 1, 2, 19, 35, 429, 472, 123, 472, 429, 35, 19, 2, 1, 0, 0, 0, 0, 0, 0, 0, 0, 0, 0, 0, 0, 0, 0, 0, 0, 0, 0, 0]\n",
      "[0, 0, 0, 0, 0, 0, 0, 0, 0, 0, 0, 0, 0, 0, 0, 0, 0, 0, 0, 0, 15, 59, 117, 433, 433, 8560, 433, 433, 117, 59, 15, 0, 0, 0, 0, 0, 0, 0, 0, 0, 0, 0, 0, 0, 0, 0, 0, 0, 0, 0, 0]\n",
      "[0, 0, 0, 0, 0, 0, 0, 0, 0, 0, 0, 0, 0, 0, 0, 0, 0, 0, 1, 4, 8, 313, 359, 846, 1227, 10510, 1227, 846, 359, 313, 8, 4, 1, 0, 0, 0, 0, 0, 0, 0, 0, 0, 0, 0, 0, 0, 0, 0, 0, 0, 0]\n",
      "[0, 0, 0, 0, 0, 0, 0, 0, 0, 0, 0, 0, 0, 0, 0, 0, 0, 0, 0, 29, 72, 353, 802, 4072, 4479, 10804, 4479, 4072, 802, 353, 72, 29, 0, 0, 0, 0, 0, 0, 0, 0, 0, 0, 0, 0, 0, 0, 0, 0, 0, 0, 0]\n",
      "[0, 0, 0, 0, 0, 0, 0, 0, 0, 0, 0, 0, 0, 0, 0, 0, 0, 1, 4, 24, 152, 945, 1556, 4782, 5166, 66611, 5166, 4782, 1556, 945, 152, 24, 4, 1, 0, 0, 0, 0, 0, 0, 0, 0, 0, 0, 0, 0, 0, 0, 0, 0, 0]\n",
      "[0, 0, 0, 0, 0, 0, 0, 0, 0, 0, 0, 0, 0, 0, 0, 0, 1, 4, 23, 72, 348, 3540, 4380, 11131, 15369, 11021, 15369, 11131, 4380, 3540, 348, 72, 23, 4, 1, 0, 0, 0, 0, 0, 0, 0, 0, 0, 0, 0, 0, 0, 0, 0, 0]\n",
      "[0, 0, 0, 0, 0, 0, 0, 0, 0, 0, 0, 0, 0, 0, 0, 0, 1, 6, 43, 519, 1574, 4949, 10952, 30017, 31769, 127174, 31769, 30017, 10952, 4949, 1574, 519, 43, 6, 1, 0, 0, 0, 0, 0, 0, 0, 0, 0, 0, 0, 0, 0, 0, 0, 0]\n",
      "[0, 0, 0, 0, 0, 0, 0, 0, 0, 0, 0, 0, 0, 0, 0, 0, 15, 75, 182, 652, 1287, 9971, 13835, 32501, 40841, 159697, 40841, 32501, 13835, 9971, 1287, 652, 182, 75, 15, 0, 0, 0, 0, 0, 0, 0, 0, 0, 0, 0, 0, 0, 0, 0, 0]\n",
      "[0, 0, 0, 0, 0, 0, 0, 0, 0, 0, 0, 0, 0, 0, 1, 5, 16, 93, 358, 1180, 4958, 22011, 31829, 92280, 114863, 251028, 114863, 92280, 31829, 22011, 4958, 1180, 358, 93, 16, 5, 1, 0, 0, 0, 0, 0, 0, 0, 0, 0, 0, 0, 0, 0, 0]\n",
      "[0, 0, 0, 0, 0, 0, 0, 0, 0, 0, 0, 0, 0, 0, 0, 1, 46, 180, 781, 5349, 12137, 41234, 78791, 152371, 162030, 634996, 162030, 152371, 78791, 41234, 12137, 5349, 781, 180, 46, 1, 0, 0, 0, 0, 0, 0, 0, 0, 0, 0, 0, 0, 0, 0, 0]\n",
      "[0, 0, 0, 0, 0, 0, 0, 0, 0, 0, 0, 0, 0, 0, 0, 17, 184, 981, 2992, 8161, 22160, 95030, 134810, 247816, 326175, 304697, 326175, 247816, 134810, 95030, 22160, 8161, 2992, 981, 184, 17, 0, 0, 0, 0, 0, 0, 0, 0, 0, 0, 0, 0, 0, 0, 0]\n",
      "[0, 0, 0, 0, 0, 0, 0, 0, 0, 0, 0, 0, 0, 1, 19, 88, 553, 2229, 5746, 19075, 51481, 121487, 196048, 406066, 452897, 1382096, 452897, 406066, 196048, 121487, 51481, 19075, 5746, 2229, 553, 88, 19, 1, 0, 0, 0, 0, 0, 0, 0, 0, 0, 0, 0, 0, 0]\n",
      "[0, 0, 0, 0, 0, 0, 0, 0, 0, 0, 0, 0, 1, 5, 27, 111, 1068, 4102, 12516, 45699, 85194, 232241, 385355, 734858, 855461, 1369041, 855461, 734858, 385355, 232241, 85194, 45699, 12516, 4102, 1068, 111, 27, 5, 1, 0, 0, 0, 0, 0, 0, 0, 0, 0, 0, 0, 0]\n",
      "[0, 0, 0, 0, 0, 0, 0, 0, 0, 0, 0, 0, 0, 0, 2, 380, 1792, 8612, 24555, 59206, 172239, 520999, 811550, 1499172, 1796647, 3046319, 1796647, 1499172, 811550, 520999, 172239, 59206, 24555, 8612, 1792, 380, 2, 0, 0, 0, 0, 0, 0, 0, 0, 0, 0, 0, 0, 0, 0]\n",
      "[0, 0, 0, 0, 0, 0, 0, 0, 0, 0, 0, 0, 2, 39, 252, 978, 6116, 22127, 56466, 182895, 365641, 796373, 1219178, 1776407, 2036402, 3597758, 2036402, 1776407, 1219178, 796373, 365641, 182895, 56466, 22127, 6116, 978, 252, 39, 2, 0, 0, 0, 0, 0, 0, 0, 0, 0, 0, 0, 0]\n",
      "[0, 0, 0, 0, 0, 0, 0, 0, 0, 0, 0, 2, 23, 97, 537, 2441, 12238, 44186, 122559, 284357, 557477, 1235905, 1889094, 3327257, 3915672, 5210379, 3915672, 3327257, 1889094, 1235905, 557477, 284357, 122559, 44186, 12238, 2441, 537, 97, 23, 2, 0, 0, 0, 0, 0, 0, 0, 0, 0, 0, 0]\n",
      "[0, 0, 0, 0, 0, 0, 0, 0, 0, 0, 0, 1, 45, 195, 960, 5488, 22736, 85872, 212032, 532644, 1204589, 2653794, 4033202, 6267292, 7007646, 12564544, 7007646, 6267292, 4033202, 2653794, 1204589, 532644, 212032, 85872, 22736, 5488, 960, 195, 45, 1, 0, 0, 0, 0, 0, 0, 0, 0, 0, 0, 0]\n",
      "[0, 0, 0, 0, 0, 0, 0, 0, 0, 0, 0, 18, 89, 649, 2325, 9354, 47852, 151745, 377918, 979345, 1761021, 3732609, 5423998, 8034501, 9780535, 10526148, 9780535, 8034501, 5423998, 3732609, 1761021, 979345, 377918, 151745, 47852, 9354, 2325, 649, 89, 18, 0, 0, 0, 0, 0, 0, 0, 0, 0, 0, 0]\n",
      "[0, 0, 0, 0, 0, 0, 0, 0, 0, 0, 2, 37, 286, 1231, 6335, 28097, 100942, 340570, 841289, 1794241, 3466272, 6500064, 9609908, 13758863, 15871509, 20536439, 15871509, 13758863, 9609908, 6500064, 3466272, 1794241, 841289, 340570, 100942, 28097, 6335, 1231, 286, 37, 2, 0, 0, 0, 0, 0, 0, 0, 0, 0, 0]\n",
      "[0, 0, 0, 0, 0, 0, 0, 0, 0, 0, 1, 60, 879, 3836, 12633, 43157, 172539, 533515, 1233233, 3038324, 5722138, 10054583, 15123919, 22327367, 24513743, 32857042, 24513743, 22327367, 15123919, 10054583, 5722138, 3038324, 1233233, 533515, 172539, 43157, 12633, 3836, 879, 60, 1, 0, 0, 0, 0, 0, 0, 0, 0, 0, 0]\n",
      "[0, 0, 0, 0, 0, 0, 0, 0, 0, 1, 20, 278, 1706, 8468, 30801, 105434, 358453, 995986, 2321837, 4714759, 8381777, 16240528, 22560657, 32446175, 38594738, 46430396, 38594738, 32446175, 22560657, 16240528, 8381777, 4714759, 2321837, 995986, 358453, 105434, 30801, 8468, 1706, 278, 20, 1, 0, 0, 0, 0, 0, 0, 0, 0, 0]\n",
      "[0, 0, 0, 0, 0, 0, 0, 0, 0, 3, 41, 741, 3944, 15673, 60928, 221800, 653907, 1897092, 4244191, 9083154, 16793703, 28464830, 40988309, 54240594, 60654287, 70907959, 60654287, 54240594, 40988309, 28464830, 16793703, 9083154, 4244191, 1897092, 653907, 221800, 60928, 15673, 3944, 741, 41, 3, 0, 0, 0, 0, 0, 0, 0, 0, 0]\n"
     ]
    }
   ],
   "source": [
    "for i in range(U+energy_step):\n",
    "    print(Jz_array_parityP[i])\n"
   ]
  },
  {
   "cell_type": "code",
   "execution_count": 3217,
   "metadata": {},
   "outputs": [
    {
     "data": {
      "text/plain": [
       "<matplotlib.legend.Legend at 0x21e7c88bfd0>"
      ]
     },
     "execution_count": 3217,
     "metadata": {},
     "output_type": "execute_result"
    },
    {
     "data": {
      "image/png": "[encoded data removed]",
      "text/plain": [
       "<Figure size 1152x576 with 1 Axes>"
      ]
     },
     "metadata": {
      "needs_background": "light"
     },
     "output_type": "display_data"
    }
   ],
   "source": [
    "current_energy = 15\n",
    "fig, graph = plt.subplots(figsize=(16, 8))\n",
    "\n",
    "graph.set_xlabel(\"Проекция углового момента $J_Z$\", fontsize=24)\n",
    "graph.set_ylabel(\"Количество многочастичных состояний\", fontsize=20)\n",
    "\n",
    "# plt.rcParams.update({'font.size': 20})\n",
    "\n",
    "graph.xaxis.set_major_locator(ticker.MultipleLocator(4))\n",
    "graph.grid(which='major', color='k')\n",
    "graph.minorticks_on()\n",
    "graph.grid(axis='x', which='minor', color='gray', linestyle=':')\n",
    "\n",
    "graph.scatter(axis_J_array, Jz_array_parityP[current_energy], color='red', linewidths=1, label='P = +1')\n",
    "graph.scatter(axis_J_array, Jz_array_parityN[current_energy], color='blue', linewidths=1, label='P = -1')\n",
    "\n",
    "# graph.set_yscale('log')\n",
    "\n",
    "textHeight = max(Jz_array_parityP[current_energy][int(j2z_limit/2)], Jz_array_parityN[current_energy][int(j2z_limit/2)]) / 3\n",
    "graph.text(12, textHeight, f'Модель HF+BCS\\n'\n",
    "                    f'{A}Ni\\n'\n",
    "                    f'N = {N_n}\\n'\n",
    "                    f'Z = {N_p}\\n'\n",
    "                    f'E = 15.5 МэВ',\n",
    "           bbox={'facecolor': 'white', 'alpha': 1, 'pad': 10}, fontsize=20)\n",
    "\n",
    "formatter = ticker.ScalarFormatter(useMathText=True)\n",
    "formatter.set_scientific(True)\n",
    "formatter.set_powerlimits((-1,1))\n",
    "graph.yaxis.set_major_formatter(formatter)\n",
    "graph.legend()"
   ]
  },
  {
   "cell_type": "markdown",
   "metadata": {},
   "source": [
    "# Плотность уровней"
   ]
  },
  {
   "cell_type": "code",
   "execution_count": 3218,
   "metadata": {},
   "outputs": [],
   "source": [
    "start_index = int(len(Jz_array_parityP[0]) / 2) # Возможно, это j2z_limit/2"
   ]
  },
  {
   "cell_type": "code",
   "execution_count": 3219,
   "metadata": {},
   "outputs": [
    {
     "name": "stdout",
     "output_type": "stream",
     "text": [
      "0\n"
     ]
    }
   ],
   "source": [
    "ad_1_or_0 = 1\n",
    "if (A%2 == 0):\n",
    "    ad_1_or_0 = 0\n",
    "print(ad_1_or_0)"
   ]
  },
  {
   "cell_type": "code",
   "execution_count": 3220,
   "metadata": {},
   "outputs": [],
   "source": [
    "rho_array_parityP = {}\n",
    "rho_array_parityN = {}\n",
    "\n",
    "for energy in range(int(U / energy_step) + 1):\n",
    "    energy = energy * energy_step\n",
    "    tmp_parity_array_P = []\n",
    "    tmp_parity_array_N = []\n",
    "\n",
    "    for jz in range(start_index, start_index * 2 - ad_1_or_0): # !!! for 43sc -1\n",
    "        p = Jz_array_parityP[energy]\n",
    "        n = Jz_array_parityN[energy]\n",
    "\n",
    "        tmp_parity_array_P.append(p[jz] - p[jz + 1])\n",
    "        tmp_parity_array_N.append(n[jz] - n[jz + 1])\n",
    "\n",
    "    rho_array_parityP[energy] = tmp_parity_array_P\n",
    "    rho_array_parityN[energy] = tmp_parity_array_N\n"
   ]
  },
  {
   "cell_type": "markdown",
   "metadata": {},
   "source": [
    "## Суммирование по чётностям"
   ]
  },
  {
   "cell_type": "code",
   "execution_count": 3221,
   "metadata": {},
   "outputs": [],
   "source": [
    "rho_array_parity_total = {}\n",
    "for energy in range(int(U / energy_step) + 1):\n",
    "    energy = energy * energy_step\n",
    "    tmp_parity_array = []\n",
    "    for i in range(len(rho_array_parityP[0])):\n",
    "        tmp_parity_array.append(rho_array_parityP[energy][i] + rho_array_parityN[energy][i])\n",
    "\n",
    "    rho_array_parity_total[energy] = tmp_parity_array"
   ]
  },
  {
   "cell_type": "markdown",
   "metadata": {},
   "source": [
    "## Ось энергий"
   ]
  },
  {
   "cell_type": "code",
   "execution_count": 3222,
   "metadata": {},
   "outputs": [
    {
     "name": "stdout",
     "output_type": "stream",
     "text": [
      "[0, 1, 2, 3, 4, 5, 6, 7, 8, 9, 10, 11, 12, 13, 14, 15, 16, 17, 18, 19, 20, 21, 22, 23, 24]\n"
     ]
    }
   ],
   "source": [
    "length = int((len(Jz_array_parityP[0]) - 1) / 2)\n",
    "axis_J_array_rho = [i for i in range(length)]\n",
    "print(axis_J_array_rho)"
   ]
  },
  {
   "cell_type": "markdown",
   "metadata": {},
   "source": [
    "## График. Плотность уровней в зависимости от $J_Z$"
   ]
  },
  {
   "cell_type": "code",
   "execution_count": 3223,
   "metadata": {},
   "outputs": [
    {
     "name": "stderr",
     "output_type": "stream",
     "text": [
      "No artists with labels found to put in legend.  Note that artists whose label start with an underscore are ignored when legend() is called with no argument.\n"
     ]
    },
    {
     "data": {
      "text/plain": [
       "<matplotlib.legend.Legend at 0x21e7ccba9d0>"
      ]
     },
     "execution_count": 3223,
     "metadata": {},
     "output_type": "execute_result"
    },
    {
     "data": {
      "image/png": "[encoded data removed]",
      "text/plain": [
       "<Figure size 1152x576 with 1 Axes>"
      ]
     },
     "metadata": {
      "needs_background": "light"
     },
     "output_type": "display_data"
    }
   ],
   "source": [
    "fig, graph = plt.subplots(figsize=(16, 8))\n",
    "\n",
    "graph.set_xlabel(\"Проекция полного углового момента на ось z, $J_Z$\", fontsize=24)\n",
    "graph.set_ylabel(\"Количество многочастичных состояний\", fontsize=20)\n",
    "\n",
    "graph.xaxis.set_major_locator(ticker.MultipleLocator(2))\n",
    "graph.grid(which='major', color='k')\n",
    "graph.minorticks_on()\n",
    "graph.grid(which='minor', color='gray', linestyle=':')\n",
    "\n",
    "graph.scatter(axis_J_array_rho, rho_array_parity_total[current_energy], color='blue', linewidths=4)\n",
    "\n",
    "# graph.set_yscale('log')\n",
    "\n",
    "textHeight = max(rho_array_parity_total[current_energy]) / 3\n",
    "reversedMeV = '{\\text{МэВ}}^{-1}'\n",
    "graph.text(15, textHeight, f'Количество N и P: {N_n}\\n'\n",
    "                    f'$U$: 2.0 $\\hbar \\omega$\\n'\n",
    "                    f'a = 4.53 МэВ', fontsize=20,\n",
    "           bbox={'facecolor': 'white', 'alpha': 1, 'pad': 10})\n",
    "graph.legend()"
   ]
  },
  {
   "cell_type": "markdown",
   "metadata": {},
   "source": [
    "# Плотность уровней в зависимости от энергии"
   ]
  },
  {
   "cell_type": "code",
   "execution_count": 3224,
   "metadata": {},
   "outputs": [],
   "source": [
    "rho_array_energy_total = []\n",
    "\n",
    "for energy in range(len(U_axis)):\n",
    "    rho_array_energy_total.append(sum(rho_array_parity_total[energy * energy_step]))\n"
   ]
  },
  {
   "cell_type": "markdown",
   "metadata": {},
   "source": [
    "## Аналитическая формула $\\rho(U)$"
   ]
  },
  {
   "cell_type": "code",
   "execution_count": 3225,
   "metadata": {},
   "outputs": [
    {
     "name": "stdout",
     "output_type": "stream",
     "text": [
      "K 0.030330121200250002\n",
      "R_squared 29.36802449523755\n"
     ]
    }
   ],
   "source": [
    "hw = 40 * pow(A, -1 / 3)\n",
    "# a = 3.8\n",
    "\n",
    "r_0 = 1.4\n",
    "R_squared = (r_0 ** 2) * (A ** (2 / 3))\n",
    "K = 197 * 197 / (4 / 5 * 939 * A * R_squared)\n",
    "\n",
    "print(\"K\", K)\n",
    "print(\"R_squared\", R_squared)"
   ]
  },
  {
   "cell_type": "code",
   "execution_count": 3226,
   "metadata": {},
   "outputs": [],
   "source": [
    "def rho_U_formula(U, a):\n",
    "    return np.sqrt(K) * np.exp(2 * np.sqrt(a * U)) / (12 * pow(U, 3/2))"
   ]
  },
  {
   "cell_type": "code",
   "execution_count": 3227,
   "metadata": {},
   "outputs": [],
   "source": [
    "rho_U_formula_range = np.arange(0.5, U, 0.5).tolist()"
   ]
  },
  {
   "cell_type": "code",
   "execution_count": 3228,
   "metadata": {},
   "outputs": [],
   "source": [
    "rho_U_formula_values = []\n",
    "for i in range(len(rho_U_formula_range)):\n",
    "    rho_U_formula_values.append(rho_U_formula(rho_U_formula_range[i], a))"
   ]
  },
  {
   "cell_type": "markdown",
   "metadata": {},
   "source": [
    "## График"
   ]
  },
  {
   "cell_type": "code",
   "execution_count": 3229,
   "metadata": {},
   "outputs": [
    {
     "data": {
      "text/plain": [
       "<matplotlib.legend.Legend at 0x21e7cc90e20>"
      ]
     },
     "execution_count": 3229,
     "metadata": {},
     "output_type": "execute_result"
    },
    {
     "data": {
      "image/png": "[encoded data removed]",
      "text/plain": [
       "<Figure size 1152x576 with 1 Axes>"
      ]
     },
     "metadata": {
      "needs_background": "light"
     },
     "output_type": "display_data"
    }
   ],
   "source": [
    "fig, graph = plt.subplots(figsize=(16, 8))\n",
    "\n",
    "graph.set_xlabel(\"Энергия возбуждения U, МэВ\", fontsize=24)\n",
    "graph.set_ylabel(\"Количество уровней\", fontsize=20)\n",
    "\n",
    "# graph.xaxis.set_major_locator(ticker.MultipleLocator(2))\n",
    "graph.yaxis.set_major_locator(ticker.MultipleLocator(1))\n",
    "graph.grid(which='major', color='gray', linestyle=':')\n",
    "graph.minorticks_on()\n",
    "# graph.grid(which='minor', axis='both', color='gray', linestyle=':')\n",
    "\n",
    "graph.scatter(U_axis, rho_array_energy_total, linewidths=3, color='blue', label='$\\Delta N / \\Delta U$')\n",
    "graph.plot(rho_U_formula_range, rho_U_formula_values, 'k', label='$ρ(U)$')\n",
    "\n",
    "graph.set_yscale('log')\n",
    "\n",
    "textHeight = math.log(max(rho_array_energy_total) / 3)/4\n",
    "graph.text(23, textHeight, f'Модель HF+BCS\\n'\n",
    "                    f'{A}Ni\\n'\n",
    "                    f'N = {N_n}\\n'\n",
    "                    f'Z = {N_p}\\n'\n",
    "                    f'$\\Delta_p$ = {round(DP, ndigits=2)} МэВ\\n'\n",
    "                    f'$\\Delta_n$ = {round(DN, ndigits=2)} МэВ\\n'\n",
    "                    f'a = {a} МэВ${{}}^{{-1}}$',\n",
    "           bbox={'facecolor': 'white', 'alpha': 1, 'pad': 10}, fontsize=20)\n",
    "graph.legend()"
   ]
  },
  {
   "cell_type": "code",
   "execution_count": null,
   "metadata": {},
   "outputs": [],
   "source": []
  },
  {
   "cell_type": "code",
   "execution_count": null,
   "metadata": {},
   "outputs": [],
   "source": []
  },
  {
   "cell_type": "code",
   "execution_count": null,
   "metadata": {},
   "outputs": [],
   "source": []
  },
  {
   "cell_type": "code",
   "execution_count": null,
   "metadata": {},
   "outputs": [],
   "source": []
  },
  {
   "cell_type": "code",
   "execution_count": null,
   "metadata": {},
   "outputs": [],
   "source": []
  },
  {
   "cell_type": "code",
   "execution_count": null,
   "metadata": {},
   "outputs": [],
   "source": []
  },
  {
   "cell_type": "markdown",
   "metadata": {},
   "source": [
    "# Код, который, возможно, каким-то образом пригодится в будущем"
   ]
  },
  {
   "cell_type": "markdown",
   "metadata": {},
   "source": [
    "### IAEA"
   ]
  },
  {
   "cell_type": "code",
   "execution_count": 3230,
   "metadata": {},
   "outputs": [],
   "source": [
    "# body = {\n",
    "#     'fields': 'levels',\n",
    "#     'nuclides': nucleus\n",
    "#     }\n",
    "\n",
    "# r = requests.get('https://nds.iaea.org/relnsd/v1/data', params = body)\n",
    "# lines = r.text.split('\\n')\n",
    "# data = []\n",
    "\n",
    "# for i in range(len(lines)):\n",
    "#     if (len(lines[i])):\n",
    "#         data.append(lines[i].split(','))\n",
    "#         # print(data[i])"
   ]
  },
  {
   "cell_type": "code",
   "execution_count": 3231,
   "metadata": {},
   "outputs": [],
   "source": [
    "# energy = []\n",
    "\n",
    "# for i in range(1, len(data)):\n",
    "#     energy.append(float(data[i][5]))"
   ]
  },
  {
   "cell_type": "code",
   "execution_count": 3232,
   "metadata": {},
   "outputs": [],
   "source": [
    "# step = 1000 # 1 MeV\n",
    "\n",
    "# rho = [0 for i in range(int(energy[-1]/step)+1)]\n",
    "\n",
    "# # print(rho)\n",
    "\n",
    "# for i in range(len(energy)):\n",
    "\n",
    "#     index = int(energy[i]/step)\n",
    "\n",
    "#     rho[index] += 1\n",
    "\n",
    "# print(rho)"
   ]
  },
  {
   "cell_type": "code",
   "execution_count": 3233,
   "metadata": {},
   "outputs": [],
   "source": [
    "# axis = [i for i in range(int(energy[-1]/step)+1)]"
   ]
  },
  {
   "cell_type": "markdown",
   "metadata": {},
   "source": [
    "## Plot"
   ]
  },
  {
   "cell_type": "code",
   "execution_count": 3234,
   "metadata": {},
   "outputs": [],
   "source": [
    "# fig, graph = plt.subplots(figsize=(18, 9))\n",
    "\n",
    "# graph.set_xlabel(\"Энергия возбуждения U, МэВ\", fontsize=24, fontweight=\"bold\")\n",
    "# graph.set_ylabel(\"Количество уровней\", fontsize=18)\n",
    "\n",
    "# # graph.xaxis.set_major_locator(ticker.MultipleLocator(2))\n",
    "# graph.yaxis.set_major_locator(ticker.MultipleLocator(1))\n",
    "# graph.grid(which='major', color='k')\n",
    "# graph.minorticks_on()\n",
    "# graph.grid(which='minor', axis='both', color='gray', linestyle=':')\n",
    "\n",
    "# graph.plot(rho_U_formula_range, rho_U_formula_values, 'k', label='Analytical formula')\n",
    "# graph.scatter(axis, rho, linewidths=1, color='blue', label='IAEA levels')\n",
    "# graph.scatter(U_axis, rho_array_energy_total, linewidths=1, color='red', label='my 40Ca levels' )\n",
    "\n",
    "# graph.set_yscale('log')\n",
    "# # graph.yaxis.set_major_locator(ticker.MultipleLocator(1))\n",
    "\n",
    "# graph.set_xlim([-1, 30])\n",
    "\n",
    "# graph.text(1, 1e3, f' {A}{element[N_p]}\\n a = {a} МэВ$^{{-1}}$',\n",
    "#                       fontweight = 'bold',\n",
    "#            bbox={'facecolor': 'white', 'alpha': 1, 'pad': 10}, fontsize=16)\n",
    "# graph.legend()"
   ]
  },
  {
   "cell_type": "markdown",
   "metadata": {},
   "source": [
    "### Спаривание нуклонов. Алгоритм"
   ]
  },
  {
   "cell_type": "code",
   "execution_count": 3235,
   "metadata": {},
   "outputs": [],
   "source": [
    "# PAIRING ALGORITHM. 1ST ATTEMPT\n",
    "\n",
    "# def ens_energy_pairing(ensemble):\n",
    "#     summ = 0\n",
    "\n",
    "#     # calculate ground state bound particles' energy\n",
    "#     if nucl_type == 'n':\n",
    "#         N = N_n\n",
    "#     elif nucl_type == 'p':\n",
    "#         N = N_p\n",
    "\n",
    "#     # for i in range(0, N, 2):\n",
    "#     #     if(ensemble[i] == 1 and ensemble[i+1] == 1):\n",
    "#     #         print('inside')\n",
    "#     #         summ += particles[i].get_energy() * 2\n",
    "#     #         if particles[i].get_energy() != particles[i+1].get_energy():\n",
    "#     #             raise Exception(\"ERROR Bound patricles have different energies\")\n",
    "#     # print('gs', summ)\n",
    "\n",
    "#     # calculate quasiparticles' energy\n",
    "#     checked_hole = N-1\n",
    "#     for id_ex_particle in range(len(ensemble)-1, N-1, -1):\n",
    "#         if ensemble[id_ex_particle] == 0:\n",
    "#             continue\n",
    "\n",
    "#         # нашли частицу, где ensemble[id_ex_particle] == 1\n",
    "#         for id_ex_hole in range(checked_hole, -1, -1):\n",
    "#             if ensemble[id_ex_hole] == 0:\n",
    "#                 summ += math.sqrt( (particles[id_ex_particle].get_energy() - particles[id_ex_hole].get_energy())**2 + D**2 )\n",
    "#                 checked_hole -= 1\n",
    "#                 break\n",
    "#             else:\n",
    "#                 # есть частица в основном состоянии. Нужно определить, спарена ли она, и расчитать её энергию\n",
    "\n",
    "#                 print('inside else')\n",
    "#                 if id_ex_hole%2 == 0: # если мы на чётной позиции (левая частица в паре)\n",
    "\n",
    "#                     # if ensemble[id_ex_hole+1] == 1: # если есть рядом частица # МЫ УЖЕ ОТРАБОТАЛИ ЭТОТ СЛУЧАЙ\n",
    "#                     #     summ += particles[id_ex_hole].get_energy() * 2\n",
    "\n",
    "#                     #     if particles[id_ex_hole].get_energy() != particles[id_ex_hole+1].get_energy():\n",
    "#                     #         raise Exception(\"ERROR Bound patricles have different energies (GS)\")\n",
    "                        \n",
    "#                     if ensemble[id_ex_hole+1] == 0:\n",
    "#                         summ += D\n",
    "\n",
    "#                 checked_hole -= 1\n",
    "\n",
    "    \n",
    "#     # если вышли, но не посчитали левую частицу в паре из-за break около checked_hole\n",
    "#     if ensemble[id_ex_hole] == 1 and ensemble[id_ex_hole+1] == 0:\n",
    "#         summ += D\n",
    "\n",
    "\n",
    "#     return summ\n"
   ]
  },
  {
   "cell_type": "markdown",
   "metadata": {},
   "source": [
    "### Конвертирование [1,0,...] в [2,4,2,6,...]"
   ]
  },
  {
   "cell_type": "code",
   "execution_count": 3236,
   "metadata": {},
   "outputs": [],
   "source": [
    "# Конвертирование [1,0,...] в [2,4,2,6,...], т.е. массива чисел заполнения в массив по энергетическим уровням.\n",
    "# Но нужен массив init_info из предыдущих версий\n",
    "\n",
    "# def convert(ens):\n",
    "#     level_array = [] # [2,4,2,6,...]\n",
    "#     level_shift = 0\n",
    "\n",
    "#     for level in init_info:\n",
    "#         n_particles = 0\n",
    "\n",
    "#         # print(level_shift)\n",
    "#         for i in range(level[0]*2):\n",
    "#             n_particles += ens[i+level_shift]\n",
    "\n",
    "#         level_array.append(n_particles)\n",
    "#         level_shift += level[0]*2\n",
    "\n",
    "#     return level_array\n",
    "       \n",
    "# proton_converted = {}\n",
    "# neutron_converted = {}\n",
    "\n",
    "# # Test\n",
    "# convert([1,0,0,0,1,1,1,0,1,0,1,0,0,0,0,0,0,0,0,0,0,0,0,0,0,0,0,0,0,0,0,0,0,0,0,0,0,0,0,0,0,0,0,0,0,0,0,0,0,0,0,0,0,0,0,0,0,0,0,0,0,0,0,0,0,0,0,0,0,0,0,0,0,0,0,0,0,0,0,0,0,0,0,0,0,0,0,0,0,0,0,0,0,0,0,0,0,0,0,0,0,0,0,0,0,0,0])"
   ]
  },
  {
   "cell_type": "markdown",
   "metadata": {},
   "source": [
    "### HF BCS part"
   ]
  },
  {
   "cell_type": "markdown",
   "metadata": {},
   "source": [
    "cccccccccccccc Ni58 (+3n +3p states) cccccccccccccccccccc\n",
    "data ln/31/,l/15,16,0/,\n",
    "*alo/2,4,2,6,2,4,8,0,0,0,0,0,0,0,0,\n",
    "*2,4,2,6,2,4,8,2,0,0,0,0,0,0,0,0,9*0./\n",
    "data al/0.,1.,1.,2.,0.,2.,3.,1.,3.,1.,4.,2.,4.,0.,2.,\n",
    "*0.,1.,1.,2.,0.,2.,3.,1.,3.,1.,4.,2.,4.,0.,2.,5.,9*0./\n",
    "data aj/.5,1.5,.5,2.5,.5,1.5,3.5,1.5,2.5,0.5,4.5,2.5,3.5,0.5,1.5,\n",
    "*.5,1.5,.5,2.5,.5,1.5,3.5,1.5,2.5,0.5,4.5,2.5,3.5,0.5,1.5,5.5,9*0./\n",
    "data en/-60.,-50.,-45.,-40.,-35.,-30.,-25.,-10.,-5.,-1.,-1.,\n",
    "*-1.,-1,-1,-1,\n",
    "*-60.,-50.,-45.,-40.,-35.,-30.,-25.,-20.,-15.,-10.,-10.,-10.,-10.,\n",
    "*-10.,-10.,-10.,9*0./\n",
    "data h1,h2,n,ht,rt/.015,.125,794,.02,.39/\n",
    "data bf/2.6,2.4,2.4,2.1,2.1,1.9,1.8,1.7,1.7,1.6,1.6,1.5,1.5,1.4,\n",
    "*1.4,\n",
    "*2.6,2.4,2.3,2.1,2.0,1.9,1.8,1.7,1.6,1.5,1.4,1.3,1.2,1.2,1.2,1.2,\n",
    "*9*0./"
   ]
  },
  {
   "cell_type": "code",
   "execution_count": 3237,
   "metadata": {},
   "outputs": [],
   "source": [
    "# proton_converted_sorted = collections.OrderedDict(sorted(proton_converted.items()))\n",
    "# proton_values = list(val for val in proton_converted_sorted.values())\n",
    "# proton_keys = list(val for val in proton_converted_sorted.keys())\n",
    "\n",
    "# i = 0\n",
    "# while i < len(proton_values)-1:\n",
    "#     j = i+1\n",
    "#     while j < len(proton_values):\n",
    "#         if np.array_equal(proton_values[i], proton_values[j]):\n",
    "#             proton_keys.remove(proton_keys[j])\n",
    "#             proton_values.remove(proton_values[j])\n",
    "#             j -= 1\n",
    "#         j += 1\n",
    "#     i += 1\n",
    "\n",
    "# # There should be 3 free spaces in protons, not 4.as_integer_ratio\n",
    "\n",
    "# i = 0\n",
    "# while i < len(proton_values):\n",
    "#     if proton_values[i][10] != 0:\n",
    "#         proton_keys.remove(proton_keys[i])\n",
    "#         proton_values.remove(proton_values[i])\n",
    "#         i -= 1\n",
    "#     else:\n",
    "#         proton_values[i] = proton_values[i][:-1]\n",
    "\n",
    "#     i += 1\n",
    "\n",
    "\n",
    "# neutron_converted_sorted = collections.OrderedDict(sorted(neutron_converted.items()))\n",
    "# neutron_values = list(val for val in neutron_converted_sorted.values())\n",
    "# # for i in range(len(neutron_values)):\n",
    "# #     neutron_values[i] = ''.join(str(x) for x in neutron_values[i])\n",
    "# # neutron_values = list(set(neutron_values))\n",
    "# neutron_keys = list(val for val in neutron_converted_sorted.keys())\n",
    "\n",
    "# i = 0\n",
    "# while i < len(proton_values)-1:\n",
    "#     j = i+1\n",
    "#     while j < len(proton_values):\n",
    "#         if np.array_equal(proton_values[i], proton_values[j]):\n",
    "#             proton_keys.remove(proton_keys[j])\n",
    "#             proton_values.remove(proton_values[j])\n",
    "#             j -= 1\n",
    "#         j += 1\n",
    "#     i += 1\n",
    "\n",
    "\n",
    "# converted_sorted = {} # {energy, [protons, neutrons]}\n",
    "\n",
    "# for i in range(len(proton_values)):\n",
    "#     for j in range(len(neutron_values)):\n",
    "#         converted_sorted[proton_keys[i]+neutron_keys[j]] = proton_values[i] + neutron_values[j]\n",
    "\n",
    "\n",
    "\n",
    "# converted_sorted = collections.OrderedDict(sorted(converted_sorted.items()))\n",
    "# values = list(val for val in converted_sorted.values())\n",
    "# keys = list(val for val in converted_sorted.keys())\n",
    "\n",
    "\n",
    "# index = 1\n",
    "# print('c     *alo/' + ','.join(str(x) for x in values[0]) + ',0,18*0./    c', 0, keys[0])\n",
    "# for i in range(1, len(values)):\n",
    "#     if values[i] != values[i-1]:\n",
    "#         if sum(values[i]) != N_p+N_n:\n",
    "#             raise Exception('number error')\n",
    "        \n",
    "#         if keys[i] < 11.0:\n",
    "#             print('c     *alo/' + ','.join(str(x) for x in values[i]) + ',0,18*0./    c', index, keys[i])\n",
    "#             index += 1\n"
   ]
  },
  {
   "cell_type": "code",
   "execution_count": null,
   "metadata": {},
   "outputs": [],
   "source": []
  },
  {
   "cell_type": "code",
   "execution_count": null,
   "metadata": {},
   "outputs": [],
   "source": []
  },
  {
   "cell_type": "code",
   "execution_count": null,
   "metadata": {},
   "outputs": [],
   "source": []
  },
  {
   "cell_type": "code",
   "execution_count": null,
   "metadata": {},
   "outputs": [],
   "source": []
  },
  {
   "cell_type": "code",
   "execution_count": null,
   "metadata": {},
   "outputs": [],
   "source": []
  },
  {
   "cell_type": "code",
   "execution_count": null,
   "metadata": {},
   "outputs": [],
   "source": []
  }
 ],
 "metadata": {
  "kernelspec": {
   "display_name": "Python 3",
   "language": "python",
   "name": "python3"
  },
  "language_info": {
   "codemirror_mode": {
    "name": "ipython",
    "version": 3
   },
   "file_extension": ".py",
   "mimetype": "text/x-python",
   "name": "python",
   "nbconvert_exporter": "python",
   "pygments_lexer": "ipython3",
   "version": "3.9.6"
  },
  "orig_nbformat": 4
 },
 "nbformat": 4,
 "nbformat_minor": 2
}
