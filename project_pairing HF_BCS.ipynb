{
 "cells": [
  {
   "cell_type": "code",
   "execution_count": 1,
   "metadata": {},
   "outputs": [],
   "source": [
    "import math\n",
    "import numpy as np\n",
    "import matplotlib.pyplot as plt\n",
    "import matplotlib.ticker as ticker\n",
    "from mpl_toolkits.mplot3d import Axes3D\n",
    "import re"
   ]
  },
  {
   "cell_type": "markdown",
   "metadata": {},
   "source": [
    "# Входные параметры\n",
    "\n",
    "[nucleus] - определённое ядро, для которого нужно вычислить плотность уровней. Записывается в строковом формате: 39K, 40Ca, 58Ni и т.п. Регистр не важен.\n",
    "\n",
    "[U] - энергия, вплоть до которой нужно вычислить плотность уровней. Формат: целое число в МэВ.\n",
    "\n",
    "[file] - название файла, из которого извлекается информация об одночастичных состояниях ядра.\n",
    "\n",
    "[pairs_2Delta] - булева переменная. Если True, то в расчёте учитывается, что пару нуклонов можно разъединить, но при этом оставить нуклоны в своих одночастичных состояниях. Если False, то это предположение не будет учитываться.\n",
    "\n",
    "# Внутренние переменные\n",
    "\n",
    "[A]- массовое число, определяемое из [nucleus]\n",
    "\n",
    "[N_p]- число протонов, определяемое из [nucleus]\n",
    "\n",
    "[N_n] - аналогично.\n",
    "\n",
    "[p_levels]- количество энергетических уровней для протонов\n",
    "\n",
    "[n_levels] - аналогично.\n",
    "\n",
    "[DP] - энергия спаривания для протонов\n",
    "\n",
    "[DN] - аналогично.\n",
    "\n",
    "[GP] - параметр силы парного взаимодействия для протонов.\n",
    "\n",
    "[GN] - аналогично.\n",
    "\n",
    "[E_0_proton] - энергия основного состояния для протонов.\n",
    "\n",
    "[E_0_neutron] - аналогично.\n",
    "\n",
    "[E_F_proton] - энергия Ферми для протонов.\n",
    "\n",
    "[E_F_neutron] - аналогично.\n",
    "\n",
    "[energy_step] - шаг в распределении по энергии в МэВ. Обычно это целое число.\n",
    "\n",
    "[j2z_limit] - максимальное значение удвоенной проекции углового момента. Если у некоторого многочастичного состояния будет рассчитано j2z > j2z_limit или -j2z < -j2z_limit, то возникнет ошибка. Значение j2z_limit выбирается с запасом; обычно оно равно 50.\n",
    "\n",
    "[level_count] - массив количеств многочастичных состояний в интервалах шириной [energy_step], соответствующих энергии от 0 до $int(\\frac{U_{max}}{\\text{energy\\_step}})$.\n",
    "\n",
    "[dN[n]_over_dU_over_d2jz_pariry[P]] - словарь (dictionary) для нейтронов [n], в котором ключами являются энергии возбуждения с шагом [energy_step], а значениями - массивы, каждый индекс которого соответствует определённой проекции углового момента 2jz. Указывая энергию и проекцию углового момента, можно получить количество многочастичных состояний с положительной чётностью [P] с заданными параметрами. Например, dNn_over_dU_over_d2jz_pariryP[7][56] выдаст количество многочастичных состояний в интервале энергий [7, 8) МэВ, с проекцией углового момента $J_Z$ - [j2z_limit] = 6/2 = 3 и с положительной чётностью $P=1$.\n",
    "\n",
    "[dNn_over_dU_over_d2jz_pariryN] - аналогично.\n",
    "\n",
    "[dNp_over_dU_over_d2jz_pariryP] - аналогично.\n",
    "\n",
    "[dNp_over_dU_over_d2jz_pariryN] - аналогично.\n",
    "\n",
    "[dNp_over_dU] - словарь (dictionary) для протонов, в котором ключами являются энергии возбуждения с шагом [energy_step], а значениями - числа, количества многочастичных состояний в определённых интервалах энергий. Например, dNp_over_dU[7] выдаст количество многочастичных состояний в интервале энергий [7, 8) МэВ.\n",
    "\n",
    "[dNn_over_dU] - аналогично.\n",
    "\n",
    "[N_states] - в расчёте для протонов принимает значение [proton_nstates], для нейтронов - [neutron_nstates].\n",
    "\n",
    "[E_F] - в расчёте для протонов принимает значение [E_F_proton], для нейтронов - [E_F_neutron].\n",
    "\n",
    "[nucl_type] - в расчёте для протонов принимает строковое значение 'p', для нейтронов - 'n'.\n",
    "\n",
    "[E_0] - в расчёте для протонов принимает значение [E_0_proton], для нейтронов - [E_0_neutron].\n",
    "\n",
    "[N] - в расчёте для протонов принимает значение [N_p], для нейтронов - [N_n].\n",
    "\n",
    "[parity] - в расчёте для протонов принимает значение [proton_parity], для нейтронов - [neutron_parity].\n",
    "\n",
    "[j2z] - в расчёте для протонов принимает значение [proton_j2z], для нейтронов - [neutron_j2z].\n",
    "\n",
    "[D] - в расчёте для протонов принимает значение [DP], для нейтронов - [DN].\n",
    "\n",
    "[E] - в расчёте для протонов принимает значение [proton_energies], для нейтронов - [neutron_energies].\n",
    "\n",
    "[array] - массив чисел заполнения одночастичных состояний, состоящий из нулей (состояние не занято) и единиц (состояние занято). Когда производится расчёт для протонов, длина массива равна [proton_nstates], в случае нейтронов - [neutron_nstates].\n",
    "\n",
    "[iteration_array] - вспомогательный массив...\n",
    "\n",
    "[array_energy_pairing] - функция, которая рассчитывает энергию многочастичного состояния с учётом спаривания нуклонов. Возвращает массив, в котором каждый элемент является двумерным массивом [sum, n]. Здесь sum - энергия многочастичного состояния, n - количество многочастичных состояний, соответствующий определённому количеству разъединённых пар. Например, в массиве [[100, 1], [110, a], [120, b]] будет суммарно 1+a+b многочастичных состояний. Первый элемент [100, 1] соответствует случаю, когда разрыв пары не учитывается. Во втором элементе [110, a] разъединена одна пара, что даёт a многочастичных состояний. В третьем элементе [120, b] разъединены две пары, что даёт b многочастичных состояний.\n",
    "\n",
    "[array_parity] - функция, которая рассчитывает чётность многочастичного состояния. Возвращает 1, если чётность положительна, и -1, если отрицательна. Использует в расчёте [parity].\n",
    "\n",
    "[array_j2z] - функция, которая рассчитывает удвоенную проекцию полного углового момента многочастичного состояния. Использует в расчёте [j2z].\n",
    "\n",
    "\n",
    "\n",
    "\n"
   ]
  },
  {
   "cell_type": "code",
   "execution_count": 2,
   "metadata": {},
   "outputs": [],
   "source": [
    "nucleus = '58Ni'\n",
    "U = 30\n",
    "file = 'SLy4/Ni58_BCSd/Ni58_SLy4.1'\n",
    "pairs_2Delta = False # True of False\n",
    "new_Delta_flag = False"
   ]
  },
  {
   "cell_type": "code",
   "execution_count": 3,
   "metadata": {},
   "outputs": [],
   "source": [
    "# Определение массового числа [A], числа протонов [N_p] и нейтронов [N_n] из [nucleus]\n",
    "\n",
    "element = { 11: 'na', 12: 'mg', 13: 'al', 14: 'si', 15: 'p', 16: 's', 17: 'cl', 18: 'ar', 19: 'k', 20: 'ca', 21: 'sc', 22: 'ti', 23: 'v', 24: 'cr', 25: 'mn', 26: 'fe', 27: 'co', 28: 'ni', 29: 'cu', 30: 'zn', 31: 'ga', 32: 'ge', 33: 'as', 34: 'se', 35: 'br', 36: 'kr', 37: 'rb', 38: 'sr', 39: 'y', 40: 'zr', 41: 'nb', 42: 'mo', 43: 'tc', 44: 'ru', 45: 'rh', 46: 'pd', 47: 'ag', 48: 'cd', 49: 'in', 50: 'sn'}\n",
    "\n",
    "num_len = len(re.findall(r'\\d', nucleus))\n",
    "A = int(nucleus[0:num_len])\n",
    "N_p = list(element.keys())[list(element.values()).index(nucleus[num_len:].lower())]\n",
    "N_n = A - N_p"
   ]
  },
  {
   "cell_type": "markdown",
   "metadata": {},
   "source": [
    "# Определение изначальных параметров\n",
    "\n",
    "Ni58: \n",
    "p_levels = 10\n",
    "n_levels = 12\n",
    "\n",
    "Ni60: \n",
    "p_levels = 10\n",
    "n_levels = 11\n",
    "\n",
    "Ni62: \n",
    "p_levels = 10\n",
    "n_levels = 11\n",
    "\n",
    "Ni64: \n",
    "p_levels = 9\n",
    "n_levels = 11"
   ]
  },
  {
   "cell_type": "code",
   "execution_count": 4,
   "metadata": {},
   "outputs": [],
   "source": [
    "p_levels = 10\n",
    "n_levels = 12\n",
    "\n",
    "with open(file) as file_text_data:\n",
    "    lines = [line.rstrip() for line in file_text_data]\n",
    "\n",
    "p_lines = lines[123:123+p_levels]\n",
    "n_lines = lines[123+p_levels:123+p_levels+n_levels]\n",
    "\n",
    "proton_nstates = 0 # Полное количество одночастичных состояний протонов\n",
    "proton_energies = [] # Массив энергий одночастичных состояний протонов\n",
    "proton_j2 = [] # Массив удвоенных (целых) значений угловых моментов протонов\n",
    "proton_j2z = [] # Массив удвоенных (целых) значений проеций угловых моментов протонов\n",
    "proton_allocation = [] # Массив вероятностей заселённости V^2 протонов\n",
    "proton_parity = [] # Массив чётностей одночастичных состояний протонов\n",
    "\n",
    "p_lines = sorted(p_lines, key = lambda line: float(line.split()[3])) # sort by energies\n",
    "\n",
    "for line in p_lines:\n",
    "    line = line.split()\n",
    "    j2 = int(float(line[2])*2)\n",
    "\n",
    "    for j2z_ in range(j2+1): # 2j+1 одночастичных состояний на одном уровне\n",
    "        proton_nstates += 1\n",
    "        proton_energies.append(float(line[3]))\n",
    "        proton_j2.append(j2)\n",
    "        proton_allocation.append(float(line[5])/(j2+1))\n",
    "        proton_parity.append((1,-1)[int(float(line[1]))%2])\n",
    "\n",
    "    for i in range(int((j2+1)/2)):\n",
    "        proton_j2z.append(j2 - i * 2)\n",
    "        proton_j2z.append(-j2 + i * 2)\n",
    "\n",
    "neutron_nstates = 0 # Полное количество одночастичных состояний нейтронов\n",
    "neutron_energies = [] # Массив энергий одночастичных состояний нейтронов\n",
    "neutron_j2 = [] # Массив удвоенных (целых) значений угловых моментов нейтронов\n",
    "neutron_j2z = [] # Массив удвоенных (целых) значений проеций угловых моментов нейтронов\n",
    "neutron_allocation = [] # Массив вероятностей заселённости V^2 нейтронов\n",
    "neutron_parity = [] # Массив чётностей одночастичных состояний нейтронов\n",
    "\n",
    "n_lines = sorted(n_lines, key = lambda line: float(line.split()[3])) # sort by energies\n",
    "\n",
    "for line in n_lines:\n",
    "    line = line.split()\n",
    "    j2 = int(float(line[2])*2)\n",
    "\n",
    "    for j2z_ in range(j2+1): # 2j+1 одночастичных состояний на одном уровне\n",
    "        neutron_nstates += 1\n",
    "        neutron_energies.append(float(line[3]))\n",
    "        neutron_j2.append(j2)\n",
    "        neutron_allocation.append(float(line[5])/(j2+1))\n",
    "        neutron_parity.append((1,-1)[int(float(line[1]))%2])\n",
    "\n",
    "    for i in range(int((j2+1)/2)):\n",
    "        neutron_j2z.append(j2 - i * 2)\n",
    "        neutron_j2z.append(-j2 + i * 2)\n",
    "\n"
   ]
  },
  {
   "cell_type": "code",
   "execution_count": 5,
   "metadata": {},
   "outputs": [
    {
     "name": "stdout",
     "output_type": "stream",
     "text": [
      "order: 0\n",
      "energy: -44.60983\n",
      "j2_level 1\n",
      "j2z 1\n",
      "parity 1\n",
      "==========\n",
      "order: 1\n",
      "energy: -44.60983\n",
      "j2_level 1\n",
      "j2z -1\n",
      "parity 1\n",
      "==========\n",
      "order: 2\n",
      "energy: -32.55986\n",
      "j2_level 3\n",
      "j2z 3\n",
      "parity -1\n",
      "==========\n",
      "order: 3\n",
      "energy: -32.55986\n",
      "j2_level 3\n",
      "j2z -3\n",
      "parity -1\n",
      "==========\n",
      "order: 4\n",
      "energy: -32.55986\n",
      "j2_level 3\n",
      "j2z 1\n",
      "parity -1\n",
      "==========\n",
      "order: 5\n",
      "energy: -32.55986\n",
      "j2_level 3\n",
      "j2z -1\n",
      "parity -1\n",
      "==========\n",
      "order: 6\n",
      "energy: -30.04427\n",
      "j2_level 1\n",
      "j2z 1\n",
      "parity -1\n",
      "==========\n",
      "order: 7\n",
      "energy: -30.04427\n",
      "j2_level 1\n",
      "j2z -1\n",
      "parity -1\n",
      "==========\n",
      "order: 8\n",
      "energy: -20.29924\n",
      "j2_level 5\n",
      "j2z 5\n",
      "parity 1\n",
      "==========\n",
      "order: 9\n",
      "energy: -20.29924\n",
      "j2_level 5\n",
      "j2z -5\n",
      "parity 1\n",
      "==========\n",
      "order: 10\n",
      "energy: -20.29924\n",
      "j2_level 5\n",
      "j2z 3\n",
      "parity 1\n",
      "==========\n",
      "order: 11\n",
      "energy: -20.29924\n",
      "j2_level 5\n",
      "j2z -3\n",
      "parity 1\n",
      "==========\n",
      "order: 12\n",
      "energy: -20.29924\n",
      "j2_level 5\n",
      "j2z 1\n",
      "parity 1\n",
      "==========\n",
      "order: 13\n",
      "energy: -20.29924\n",
      "j2_level 5\n",
      "j2z -1\n",
      "parity 1\n",
      "==========\n",
      "order: 14\n",
      "energy: -15.42518\n",
      "j2_level 1\n",
      "j2z 1\n",
      "parity 1\n",
      "==========\n",
      "order: 15\n",
      "energy: -15.42518\n",
      "j2_level 1\n",
      "j2z -1\n",
      "parity 1\n",
      "==========\n",
      "order: 16\n",
      "energy: -14.91464\n",
      "j2_level 3\n",
      "j2z 3\n",
      "parity 1\n",
      "==========\n",
      "order: 17\n",
      "energy: -14.91464\n",
      "j2_level 3\n",
      "j2z -3\n",
      "parity 1\n",
      "==========\n",
      "order: 18\n",
      "energy: -14.91464\n",
      "j2_level 3\n",
      "j2z 1\n",
      "parity 1\n",
      "==========\n",
      "order: 19\n",
      "energy: -14.91464\n",
      "j2_level 3\n",
      "j2z -1\n",
      "parity 1\n",
      "==========\n",
      "order: 20\n",
      "energy: -8.3867\n",
      "j2_level 7\n",
      "j2z 7\n",
      "parity -1\n",
      "==========\n",
      "order: 21\n",
      "energy: -8.3867\n",
      "j2_level 7\n",
      "j2z -7\n",
      "parity -1\n",
      "==========\n",
      "order: 22\n",
      "energy: -8.3867\n",
      "j2_level 7\n",
      "j2z 5\n",
      "parity -1\n",
      "==========\n",
      "order: 23\n",
      "energy: -8.3867\n",
      "j2_level 7\n",
      "j2z -5\n",
      "parity -1\n",
      "==========\n",
      "order: 24\n",
      "energy: -8.3867\n",
      "j2_level 7\n",
      "j2z 3\n",
      "parity -1\n",
      "==========\n",
      "order: 25\n",
      "energy: -8.3867\n",
      "j2_level 7\n",
      "j2z -3\n",
      "parity -1\n",
      "==========\n",
      "order: 26\n",
      "energy: -8.3867\n",
      "j2_level 7\n",
      "j2z 1\n",
      "parity -1\n",
      "==========\n",
      "order: 27\n",
      "energy: -8.3867\n",
      "j2_level 7\n",
      "j2z -1\n",
      "parity -1\n",
      "==========\n",
      "order: 28\n",
      "energy: -3.49181\n",
      "j2_level 3\n",
      "j2z 3\n",
      "parity -1\n",
      "==========\n",
      "order: 29\n",
      "energy: -3.49181\n",
      "j2_level 3\n",
      "j2z -3\n",
      "parity -1\n",
      "==========\n",
      "order: 30\n",
      "energy: -3.49181\n",
      "j2_level 3\n",
      "j2z 1\n",
      "parity -1\n",
      "==========\n",
      "order: 31\n",
      "energy: -3.49181\n",
      "j2_level 3\n",
      "j2z -1\n",
      "parity -1\n",
      "==========\n",
      "order: 32\n",
      "energy: -1.5101\n",
      "j2_level 1\n",
      "j2z 1\n",
      "parity -1\n",
      "==========\n",
      "order: 33\n",
      "energy: -1.5101\n",
      "j2_level 1\n",
      "j2z -1\n",
      "parity -1\n",
      "==========\n",
      "order: 34\n",
      "energy: -0.49065\n",
      "j2_level 5\n",
      "j2z 5\n",
      "parity -1\n",
      "==========\n",
      "order: 35\n",
      "energy: -0.49065\n",
      "j2_level 5\n",
      "j2z -5\n",
      "parity -1\n",
      "==========\n",
      "order: 36\n",
      "energy: -0.49065\n",
      "j2_level 5\n",
      "j2z 3\n",
      "parity -1\n",
      "==========\n",
      "order: 37\n",
      "energy: -0.49065\n",
      "j2_level 5\n",
      "j2z -3\n",
      "parity -1\n",
      "==========\n",
      "order: 38\n",
      "energy: -0.49065\n",
      "j2_level 5\n",
      "j2z 1\n",
      "parity -1\n",
      "==========\n",
      "order: 39\n",
      "energy: -0.49065\n",
      "j2_level 5\n",
      "j2z -1\n",
      "parity -1\n",
      "==========\n"
     ]
    }
   ],
   "source": [
    "# Вывод набора одночастичных состояний протонов\n",
    "\n",
    "for i in range(proton_nstates):\n",
    "    print('order:', i)\n",
    "    print('energy:', proton_energies[i])\n",
    "    print('j2_level', proton_j2[i])\n",
    "    print('j2z', proton_j2z[i])\n",
    "    print('parity', proton_parity[i])\n",
    "    print('==========')"
   ]
  },
  {
   "cell_type": "code",
   "execution_count": 6,
   "metadata": {},
   "outputs": [
    {
     "name": "stdout",
     "output_type": "stream",
     "text": [
      "order: 0\n",
      "energy: -54.03312\n",
      "j2_level 1\n",
      "j2z 1\n",
      "parity 1\n",
      "==========\n",
      "order: 1\n",
      "energy: -54.03312\n",
      "j2_level 1\n",
      "j2z -1\n",
      "parity 1\n",
      "==========\n",
      "order: 2\n",
      "energy: -41.38649\n",
      "j2_level 3\n",
      "j2z 3\n",
      "parity -1\n",
      "==========\n",
      "order: 3\n",
      "energy: -41.38649\n",
      "j2_level 3\n",
      "j2z -3\n",
      "parity -1\n",
      "==========\n",
      "order: 4\n",
      "energy: -41.38649\n",
      "j2_level 3\n",
      "j2z 1\n",
      "parity -1\n",
      "==========\n",
      "order: 5\n",
      "energy: -41.38649\n",
      "j2_level 3\n",
      "j2z -1\n",
      "parity -1\n",
      "==========\n",
      "order: 6\n",
      "energy: -38.71349\n",
      "j2_level 1\n",
      "j2z 1\n",
      "parity -1\n",
      "==========\n",
      "order: 7\n",
      "energy: -38.71349\n",
      "j2_level 1\n",
      "j2z -1\n",
      "parity -1\n",
      "==========\n",
      "order: 8\n",
      "energy: -28.54095\n",
      "j2_level 5\n",
      "j2z 5\n",
      "parity 1\n",
      "==========\n",
      "order: 9\n",
      "energy: -28.54095\n",
      "j2_level 5\n",
      "j2z -5\n",
      "parity 1\n",
      "==========\n",
      "order: 10\n",
      "energy: -28.54095\n",
      "j2_level 5\n",
      "j2z 3\n",
      "parity 1\n",
      "==========\n",
      "order: 11\n",
      "energy: -28.54095\n",
      "j2_level 5\n",
      "j2z -3\n",
      "parity 1\n",
      "==========\n",
      "order: 12\n",
      "energy: -28.54095\n",
      "j2_level 5\n",
      "j2z 1\n",
      "parity 1\n",
      "==========\n",
      "order: 13\n",
      "energy: -28.54095\n",
      "j2_level 5\n",
      "j2z -1\n",
      "parity 1\n",
      "==========\n",
      "order: 14\n",
      "energy: -23.47966\n",
      "j2_level 1\n",
      "j2z 1\n",
      "parity 1\n",
      "==========\n",
      "order: 15\n",
      "energy: -23.47966\n",
      "j2_level 1\n",
      "j2z -1\n",
      "parity 1\n",
      "==========\n",
      "order: 16\n",
      "energy: -22.91058\n",
      "j2_level 3\n",
      "j2z 3\n",
      "parity 1\n",
      "==========\n",
      "order: 17\n",
      "energy: -22.91058\n",
      "j2_level 3\n",
      "j2z -3\n",
      "parity 1\n",
      "==========\n",
      "order: 18\n",
      "energy: -22.91058\n",
      "j2_level 3\n",
      "j2z 1\n",
      "parity 1\n",
      "==========\n",
      "order: 19\n",
      "energy: -22.91058\n",
      "j2_level 3\n",
      "j2z -1\n",
      "parity 1\n",
      "==========\n",
      "order: 20\n",
      "energy: -16.11873\n",
      "j2_level 7\n",
      "j2z 7\n",
      "parity -1\n",
      "==========\n",
      "order: 21\n",
      "energy: -16.11873\n",
      "j2_level 7\n",
      "j2z -7\n",
      "parity -1\n",
      "==========\n",
      "order: 22\n",
      "energy: -16.11873\n",
      "j2_level 7\n",
      "j2z 5\n",
      "parity -1\n",
      "==========\n",
      "order: 23\n",
      "energy: -16.11873\n",
      "j2_level 7\n",
      "j2z -5\n",
      "parity -1\n",
      "==========\n",
      "order: 24\n",
      "energy: -16.11873\n",
      "j2_level 7\n",
      "j2z 3\n",
      "parity -1\n",
      "==========\n",
      "order: 25\n",
      "energy: -16.11873\n",
      "j2_level 7\n",
      "j2z -3\n",
      "parity -1\n",
      "==========\n",
      "order: 26\n",
      "energy: -16.11873\n",
      "j2_level 7\n",
      "j2z 1\n",
      "parity -1\n",
      "==========\n",
      "order: 27\n",
      "energy: -16.11873\n",
      "j2_level 7\n",
      "j2z -1\n",
      "parity -1\n",
      "==========\n",
      "order: 28\n",
      "energy: -11.1063\n",
      "j2_level 3\n",
      "j2z 3\n",
      "parity -1\n",
      "==========\n",
      "order: 29\n",
      "energy: -11.1063\n",
      "j2_level 3\n",
      "j2z -3\n",
      "parity -1\n",
      "==========\n",
      "order: 30\n",
      "energy: -11.1063\n",
      "j2_level 3\n",
      "j2z 1\n",
      "parity -1\n",
      "==========\n",
      "order: 31\n",
      "energy: -11.1063\n",
      "j2_level 3\n",
      "j2z -1\n",
      "parity -1\n",
      "==========\n",
      "order: 32\n",
      "energy: -8.91193\n",
      "j2_level 1\n",
      "j2z 1\n",
      "parity -1\n",
      "==========\n",
      "order: 33\n",
      "energy: -8.91193\n",
      "j2_level 1\n",
      "j2z -1\n",
      "parity -1\n",
      "==========\n",
      "order: 34\n",
      "energy: -7.86761\n",
      "j2_level 5\n",
      "j2z 5\n",
      "parity -1\n",
      "==========\n",
      "order: 35\n",
      "energy: -7.86761\n",
      "j2_level 5\n",
      "j2z -5\n",
      "parity -1\n",
      "==========\n",
      "order: 36\n",
      "energy: -7.86761\n",
      "j2_level 5\n",
      "j2z 3\n",
      "parity -1\n",
      "==========\n",
      "order: 37\n",
      "energy: -7.86761\n",
      "j2_level 5\n",
      "j2z -3\n",
      "parity -1\n",
      "==========\n",
      "order: 38\n",
      "energy: -7.86761\n",
      "j2_level 5\n",
      "j2z 1\n",
      "parity -1\n",
      "==========\n",
      "order: 39\n",
      "energy: -7.86761\n",
      "j2_level 5\n",
      "j2z -1\n",
      "parity -1\n",
      "==========\n",
      "order: 40\n",
      "energy: -4.17186\n",
      "j2_level 9\n",
      "j2z 9\n",
      "parity 1\n",
      "==========\n",
      "order: 41\n",
      "energy: -4.17186\n",
      "j2_level 9\n",
      "j2z -9\n",
      "parity 1\n",
      "==========\n",
      "order: 42\n",
      "energy: -4.17186\n",
      "j2_level 9\n",
      "j2z 7\n",
      "parity 1\n",
      "==========\n",
      "order: 43\n",
      "energy: -4.17186\n",
      "j2_level 9\n",
      "j2z -7\n",
      "parity 1\n",
      "==========\n",
      "order: 44\n",
      "energy: -4.17186\n",
      "j2_level 9\n",
      "j2z 5\n",
      "parity 1\n",
      "==========\n",
      "order: 45\n",
      "energy: -4.17186\n",
      "j2_level 9\n",
      "j2z -5\n",
      "parity 1\n",
      "==========\n",
      "order: 46\n",
      "energy: -4.17186\n",
      "j2_level 9\n",
      "j2z 3\n",
      "parity 1\n",
      "==========\n",
      "order: 47\n",
      "energy: -4.17186\n",
      "j2_level 9\n",
      "j2z -3\n",
      "parity 1\n",
      "==========\n",
      "order: 48\n",
      "energy: -4.17186\n",
      "j2_level 9\n",
      "j2z 1\n",
      "parity 1\n",
      "==========\n",
      "order: 49\n",
      "energy: -4.17186\n",
      "j2_level 9\n",
      "j2z -1\n",
      "parity 1\n",
      "==========\n",
      "order: 50\n",
      "energy: -0.20021\n",
      "j2_level 5\n",
      "j2z 5\n",
      "parity 1\n",
      "==========\n",
      "order: 51\n",
      "energy: -0.20021\n",
      "j2_level 5\n",
      "j2z -5\n",
      "parity 1\n",
      "==========\n",
      "order: 52\n",
      "energy: -0.20021\n",
      "j2_level 5\n",
      "j2z 3\n",
      "parity 1\n",
      "==========\n",
      "order: 53\n",
      "energy: -0.20021\n",
      "j2_level 5\n",
      "j2z -3\n",
      "parity 1\n",
      "==========\n",
      "order: 54\n",
      "energy: -0.20021\n",
      "j2_level 5\n",
      "j2z 1\n",
      "parity 1\n",
      "==========\n",
      "order: 55\n",
      "energy: -0.20021\n",
      "j2_level 5\n",
      "j2z -1\n",
      "parity 1\n",
      "==========\n"
     ]
    }
   ],
   "source": [
    "# Вывод набора одночастичных состояний нейтронов\n",
    "\n",
    "for i in range(neutron_nstates):\n",
    "    print('order:', i)\n",
    "    print('energy:', neutron_energies[i])\n",
    "    print('j2_level', neutron_j2[i])\n",
    "    print('j2z', neutron_j2z[i])\n",
    "    print('parity', neutron_parity[i])\n",
    "    print('==========')"
   ]
  },
  {
   "cell_type": "markdown",
   "metadata": {},
   "source": [
    "# Энергия спаривания $\\Delta$\n",
    "\n",
    "## Разные варианты определения $\\Delta$:"
   ]
  },
  {
   "cell_type": "code",
   "execution_count": 7,
   "metadata": {},
   "outputs": [
    {
     "name": "stdout",
     "output_type": "stream",
     "text": [
      "0.0 0.0\n"
     ]
    }
   ],
   "source": [
    "# 1st variant\n",
    "# D = 12 / math.sqrt(A)\n",
    "\n",
    "# 2nd\n",
    "# D = 0.0\n",
    "DP = 0.0\n",
    "DN = 0.0\n",
    "\n",
    "# 3rd\n",
    "# M56Ni = 55.942132\n",
    "# M57Ni = 56.9397935\n",
    "# M58Ni = 57.9353429\n",
    "# M59Ni = 58.9343467\n",
    "# D = ((M57Ni + M59Ni)/2 - M58Ni) * 931.5\n",
    "\n",
    "# 4th\n",
    "# D = (M57Ni - (M56Ni + M58Ni)/2) * 931.5\n",
    "\n",
    "# 5th\n",
    "# DP = float(lines[145].split(',')[1][5:].strip())\n",
    "# DN = float(lines[146].split(',')[1][5:].strip())\n",
    "\n",
    "print(DP, DN)"
   ]
  },
  {
   "cell_type": "markdown",
   "metadata": {},
   "source": [
    "## Параметр силы парного взаимодействия  $G$"
   ]
  },
  {
   "cell_type": "code",
   "execution_count": 8,
   "metadata": {},
   "outputs": [
    {
     "name": "stdout",
     "output_type": "stream",
     "text": [
      "0.58976 0.39717\n"
     ]
    }
   ],
   "source": [
    "GP = float(lines[145].split(',')[0][5:].strip())\n",
    "GN = float(lines[146].split(',')[0][5:].strip())\n",
    "\n",
    "print(GP, GN)"
   ]
  },
  {
   "cell_type": "markdown",
   "metadata": {},
   "source": [
    "### Задание уровня Ферми"
   ]
  },
  {
   "cell_type": "code",
   "execution_count": 9,
   "metadata": {},
   "outputs": [
    {
     "name": "stdout",
     "output_type": "stream",
     "text": [
      "-558.9456000000002 -812.0489600000002\n",
      "-5.61763 -11.27333\n"
     ]
    }
   ],
   "source": [
    "E_0_proton = 0\n",
    "for i in range(N_p):\n",
    "    E_0_proton += proton_energies[i]\n",
    "\n",
    "E_0_neutron = 0\n",
    "for i in range(N_n):\n",
    "    E_0_neutron += neutron_energies[i]\n",
    "\n",
    "# E_F_proton = proton_energies[N_p - 1]\n",
    "# E_F_neutron = neutron_energies[N_n - 1]\n",
    "\n",
    "# Из файла Ni_SGII.1\n",
    "E_F_proton = float(lines[145].split(',')[2][7:].strip())\n",
    "E_F_neutron = float(lines[146].split(',')[2][7:].strip())\n",
    "\n",
    "print(E_0_proton, E_0_neutron)\n",
    "print(E_F_proton, E_F_neutron)"
   ]
  },
  {
   "cell_type": "markdown",
   "metadata": {},
   "source": [
    "# Алгоритм перебора многочастичных состояний"
   ]
  },
  {
   "cell_type": "code",
   "execution_count": 10,
   "metadata": {},
   "outputs": [],
   "source": [
    "energy_step = 1 # MeV\n",
    "\n",
    "# Общие параметры\n",
    "global j2z_limit\n",
    "\n",
    "# Вычисляемые распределения\n",
    "global dNn_over_dU_over_d2jz_pariryP, dNn_over_dU_over_d2jz_pariryN, dNp_over_dU_over_d2jz_pariryP, dNp_over_dU_over_d2jz_pariryN\n",
    "global dNp_over_dU, dNn_over_dU\n",
    "\n",
    "# Параметры рассчёта, отличающиеся для протонов и нейтронов\n",
    "global N_states, E_F, nucl_type, E_0, N, parity, j2z, D, E, G, allocation\n",
    "\n",
    "# Внутренние переменные, использующиеся в алгоритме\n",
    "global array, iteration_array\n",
    "\n",
    "# Функции\n",
    "global array_energy_pairing, array_parity, array_j2z # array_energy"
   ]
  },
  {
   "cell_type": "code",
   "execution_count": 11,
   "metadata": {},
   "outputs": [],
   "source": [
    "not_valid_energies = []"
   ]
  },
  {
   "cell_type": "code",
   "execution_count": 12,
   "metadata": {},
   "outputs": [],
   "source": [
    "def add_count(calculated_array_energy_pairing):\n",
    "    for n_broken_pairs in range(len(calculated_array_energy_pairing)):\n",
    "        U_interval_float = calculated_array_energy_pairing[n_broken_pairs][0] /energy_step\n",
    "\n",
    "        U_interval = int(U_interval_float)\n",
    "\n",
    "        Number_of_states = calculated_array_energy_pairing[n_broken_pairs][1]\n",
    "\n",
    "        if U_interval > U:\n",
    "            not_valid_energies.append(U_interval_float)\n",
    "            return\n",
    "        \n",
    "        if(U_interval < 0):\n",
    "            print(\"ERROR U_interval < 0\", U_interval)\n",
    "\n",
    "        if nucl_type == 'n':\n",
    "            if array_parity() == 1:\n",
    "                dNn_over_dU_over_d2jz_pariryP[U_interval*energy_step][array_j2z() + j2z_limit] += Number_of_states\n",
    "            else:\n",
    "                dNn_over_dU_over_d2jz_pariryN[U_interval*energy_step][array_j2z() + j2z_limit] += Number_of_states\n",
    "\n",
    "        elif nucl_type == 'p':\n",
    "            if array_parity() == 1:\n",
    "                dNp_over_dU_over_d2jz_pariryP[U_interval*energy_step][array_j2z() + j2z_limit] += Number_of_states\n",
    "            else:\n",
    "                dNp_over_dU_over_d2jz_pariryN[U_interval*energy_step][array_j2z() + j2z_limit] += Number_of_states\n",
    "        else:\n",
    "            raise TypeError('nucl_type is incorrect')\n",
    "        "
   ]
  },
  {
   "cell_type": "code",
   "execution_count": 13,
   "metadata": {},
   "outputs": [],
   "source": [
    "def binom(n,k):\n",
    "    numerator = 1\n",
    "    for i in range(n-k+1, n+1, 1):\n",
    "        numerator *= i\n",
    "    denominator = 1\n",
    "    for i in range(1, k+1):\n",
    "        denominator *= i\n",
    "    return int(numerator / denominator)"
   ]
  },
  {
   "cell_type": "code",
   "execution_count": 14,
   "metadata": {},
   "outputs": [],
   "source": [
    "def array_energy():\n",
    "    summ = 0\n",
    "    for i in range(len(array)):\n",
    "        summ += array[i] * E[i]\n",
    "    return summ\n",
    "\n",
    "def array_energy_pairing():\n",
    "    summ = 0\n",
    "    energy_array = []\n",
    "\n",
    "    if new_Delta_flag == True:\n",
    "        newD = 0\n",
    "        for i in range(0, N, 2):\n",
    "            N_particles = array[i] + array[i+1]\n",
    "            if N_particles == 2:\n",
    "                newD += 2 * G * math.sqrt(1 - allocation[i]**2) * allocation[i]\n",
    "    else:\n",
    "        newD = D\n",
    "\n",
    "    for i in range(0, N, 2):\n",
    "        N_particles = array[i] + array[i+1]\n",
    "\n",
    "        if N_particles == 1: # [0 1] или [1 0]\n",
    "            summ += math.sqrt( (E_F - E[i])**2 + newD**2 )\n",
    "            summ += newD\n",
    "        \n",
    "        if N_particles == 0:\n",
    "            summ += math.sqrt( (E_F - E[i])**2 + newD**2 ) * 2\n",
    "\n",
    "    for i in range(N, len(array), 1):\n",
    "        summ += array[i] * math.sqrt( (E[i] - E_F)**2 + newD**2 )\n",
    "\n",
    "    energy_array.append([summ, 1]) # [energy, number of many-body states]\n",
    "\n",
    "    # Учёт раъединённых пар нуклонов без перестановок\n",
    "    if pairs_2Delta:\n",
    "        N_pairs = 0\n",
    "        for i in range(0, N, 2):\n",
    "            N_particles = array[i] + array[i+1]\n",
    "            if N_particles == 2:\n",
    "                N_pairs += 1\n",
    "\n",
    "        for k in range(1, N_pairs+1):\n",
    "            energy_array.append([summ + 2 * D * k , binom(N_pairs, k)])\n",
    "\n",
    "\n",
    "    return energy_array\n"
   ]
  },
  {
   "cell_type": "code",
   "execution_count": 15,
   "metadata": {},
   "outputs": [],
   "source": [
    "def array_j2z():\n",
    "    summ = 0\n",
    "    for i in range(len(array)):\n",
    "        summ += array[i] * j2z[i]\n",
    "    return summ"
   ]
  },
  {
   "cell_type": "code",
   "execution_count": 16,
   "metadata": {},
   "outputs": [],
   "source": [
    "def array_parity():\n",
    "    prod = 1\n",
    "    for i in range(len(array)):\n",
    "        if array[i] == 1:\n",
    "            prod *= parity[i]\n",
    "\n",
    "    return prod"
   ]
  },
  {
   "cell_type": "code",
   "execution_count": 17,
   "metadata": {},
   "outputs": [],
   "source": [
    "def array_print(array):\n",
    "    message = '['\n",
    "    for i in range(0, len(array), 2):\n",
    "        message += f'[{array[i]}, {array[i+1]}],'\n",
    "\n",
    "    message += ']'\n",
    "    print(message)"
   ]
  },
  {
   "cell_type": "code",
   "execution_count": 18,
   "metadata": {},
   "outputs": [],
   "source": [
    "def validate():\n",
    "    particles = 0\n",
    "    for i in range(N_states):\n",
    "        if(array[i] == 1):\n",
    "            particles += 1\n",
    "    if particles != N:\n",
    "        print(\"VALIDATION ERROR\")\n",
    "\n",
    "    if (array_j2z() % 2 == 0 and N % 2 != 0) or (array_j2z() % 2 != 0 and N % 2 == 0):\n",
    "        print(f\"{array_j2z()} {array}\\n error\")"
   ]
  },
  {
   "cell_type": "code",
   "execution_count": 19,
   "metadata": {},
   "outputs": [],
   "source": [
    "def ALGORITHM_CORE(n):\n",
    "    global array\n",
    "    if n == 1:\n",
    "        # validate()\n",
    "        calculated = array_energy_pairing()\n",
    "        if calculated[0][0] <= U:\n",
    "            add_count(calculated)\n",
    "\n",
    "        remember_ens = array.copy()\n",
    "        for i in range(iteration_array[0]):\n",
    "            array[iteration_array[0]-i], array[iteration_array[0]-i-1] = 1, 0\n",
    "            # validate()\n",
    "            calculated = array_energy_pairing()\n",
    "            if calculated[0][0] <= U:\n",
    "                add_count(calculated)\n",
    "\n",
    "            else:\n",
    "                break\n",
    "\n",
    "        array = remember_ens.copy()\n",
    "        array[iteration_array[0] + 1], array[iteration_array[0] - 1] = 1, 0\n",
    "        iteration_array[0] -= 1\n",
    "\n",
    "    else:\n",
    "        iteration_array[n - 2] = iteration_array[n - 1]\n",
    "        # validate()\n",
    "        for i in range(iteration_array[n - 1]):\n",
    "            ALGORITHM_CORE(n - 1)\n",
    "            if array_energy_pairing()[0][0] > U:\n",
    "                break\n",
    "\n",
    "        if n != N_states - N:\n",
    "            array[iteration_array[n - 1] + n] = 1\n",
    "            for i in range(n + 1):\n",
    "                array[iteration_array[n - 1] - 1 + i] = 0\n",
    "\n",
    "            for i in range(iteration_array[n - 1] - 1):\n",
    "                array[i] = 1\n",
    "\n",
    "            # validate()\n",
    "            iteration_array[n - 1] -= 1\n",
    "\n",
    "            "
   ]
  },
  {
   "cell_type": "markdown",
   "metadata": {},
   "source": [
    "## Подготовка распределений"
   ]
  },
  {
   "cell_type": "code",
   "execution_count": 20,
   "metadata": {},
   "outputs": [],
   "source": [
    "dNn_over_dU_over_d2jz_pariryP = {}\n",
    "dNn_over_dU_over_d2jz_pariryN = {}\n",
    "dNp_over_dU_over_d2jz_pariryP = {}\n",
    "dNp_over_dU_over_d2jz_pariryN = {}\n",
    "\n",
    "j2z_limit = 50 # в одну сторону\n",
    "\n",
    "for i in range(0, U+energy_step, energy_step):\n",
    "    dNn_over_dU_over_d2jz_pariryP[i] = [0 for k in range(2*j2z_limit+1)]\n",
    "    dNn_over_dU_over_d2jz_pariryN[i] = [0 for k in range(2*j2z_limit+1)]\n",
    "    dNp_over_dU_over_d2jz_pariryP[i] = [0 for k in range(2*j2z_limit+1)]\n",
    "    dNp_over_dU_over_d2jz_pariryN[i] = [0 for k in range(2*j2z_limit+1)]\n"
   ]
  },
  {
   "cell_type": "markdown",
   "metadata": {},
   "source": [
    "## Начало расчёта"
   ]
  },
  {
   "cell_type": "code",
   "execution_count": 21,
   "metadata": {},
   "outputs": [
    {
     "name": "stdout",
     "output_type": "stream",
     "text": [
      "proton started\n",
      "neutron started\n"
     ]
    }
   ],
   "source": [
    "#################### PROTON ####################\n",
    "\n",
    "nucl_type = \"p\"\n",
    "N_states = proton_nstates\n",
    "N = N_p\n",
    "E = proton_energies\n",
    "E_F = E_F_proton\n",
    "E_0 = E_0_proton\n",
    "parity = proton_parity\n",
    "j2z = proton_j2z\n",
    "D = DP\n",
    "G = GP\n",
    "allocation = proton_allocation\n",
    "\n",
    "iteration_array = []\n",
    "for i in range(N_states - N):\n",
    "    iteration_array.append(N)\n",
    "\n",
    "array = [0 for i in range(N_states)]\n",
    "for i in range(N):\n",
    "    array[i] = 1\n",
    "\n",
    "print('proton started')\n",
    "\n",
    "ALGORITHM_CORE(N_states - N)\n",
    "\n",
    "#################### NEUTRON ####################\n",
    "\n",
    "nucl_type = \"n\"\n",
    "N_states = neutron_nstates\n",
    "N = N_n\n",
    "E = neutron_energies\n",
    "E_F = E_F_neutron\n",
    "E_0 = E_0_neutron\n",
    "parity = neutron_parity\n",
    "j2z = neutron_j2z\n",
    "D = DN\n",
    "G = GN\n",
    "allocation = neutron_allocation\n",
    "\n",
    "iteration_array = []\n",
    "for i in range(N_states - N):\n",
    "    iteration_array.append(N)\n",
    "\n",
    "array = [0 for i in range(N_states)]\n",
    "for i in range(N):\n",
    "    array[i] = 1\n",
    "\n",
    "print('neutron started')\n",
    "\n",
    "ALGORITHM_CORE(N_states - N)"
   ]
  },
  {
   "cell_type": "code",
   "execution_count": 22,
   "metadata": {},
   "outputs": [
    {
     "name": "stdout",
     "output_type": "stream",
     "text": [
      "0\n"
     ]
    }
   ],
   "source": [
    "print(len(not_valid_energies))"
   ]
  },
  {
   "cell_type": "markdown",
   "metadata": {},
   "source": [
    "## Проверка на сохранение проекции угловго момента"
   ]
  },
  {
   "cell_type": "code",
   "execution_count": 23,
   "metadata": {},
   "outputs": [],
   "source": [
    "energy = 0\n",
    "while energy <= U:\n",
    "    for jz in range(j2z_limit+2, 2*j2z_limit+1, 2):\n",
    "        if dNp_over_dU_over_d2jz_pariryN[energy][jz] != dNp_over_dU_over_d2jz_pariryN[energy][2*j2z_limit - jz]:\n",
    "            print(f\"Error, jz = {jz} proton N, energy {energy}\")\n",
    "        if dNp_over_dU_over_d2jz_pariryP[energy][jz] != dNp_over_dU_over_d2jz_pariryP[energy][2*j2z_limit - jz]:\n",
    "            print(f\"Error, jz = {jz} proton P, energy {energy}\")\n",
    "        if dNn_over_dU_over_d2jz_pariryN[energy][jz] != dNn_over_dU_over_d2jz_pariryN[energy][2*j2z_limit - jz]:\n",
    "            print(f\"Error, jz = {jz} neutron N, energy {energy}\")\n",
    "        if dNn_over_dU_over_d2jz_pariryP[energy][jz] != dNn_over_dU_over_d2jz_pariryP[energy][2*j2z_limit - jz]:\n",
    "            print(f\"Error, jz = {jz} neurton P, energy {energy}\")\n",
    "    energy += energy_step"
   ]
  },
  {
   "cell_type": "code",
   "execution_count": 24,
   "metadata": {},
   "outputs": [],
   "source": [
    "# for i in range(int(U/energy_step)):\n",
    "#     print(dNp_over_dU_over_d2jz_pariryP[i*energy_step])\n"
   ]
  },
  {
   "cell_type": "markdown",
   "metadata": {},
   "source": [
    "# Анализ"
   ]
  },
  {
   "cell_type": "code",
   "execution_count": 25,
   "metadata": {},
   "outputs": [],
   "source": [
    "# Параметр плотности одночастичных уровней\n",
    "a = 5.44"
   ]
  },
  {
   "cell_type": "markdown",
   "metadata": {},
   "source": [
    "## Ось энергий"
   ]
  },
  {
   "cell_type": "code",
   "execution_count": 26,
   "metadata": {},
   "outputs": [
    {
     "name": "stdout",
     "output_type": "stream",
     "text": [
      "U_axis [0.5, 1.5, 2.5, 3.5, 4.5, 5.5, 6.5, 7.5, 8.5, 9.5, 10.5, 11.5, 12.5, 13.5, 14.5, 15.5, 16.5, 17.5, 18.5, 19.5, 20.5, 21.5, 22.5, 23.5, 24.5, 25.5, 26.5, 27.5, 28.5, 29.5]\n"
     ]
    }
   ],
   "source": [
    "U_axis = [i + energy_step/2 for i in range(0, int(U), energy_step)]\n",
    "U_axis = [x for x in U_axis]  # MeV\n",
    "print(f'U_axis {U_axis}')"
   ]
  },
  {
   "cell_type": "markdown",
   "metadata": {},
   "source": [
    "## Получение dNn/dU и dNp/dU"
   ]
  },
  {
   "cell_type": "code",
   "execution_count": 27,
   "metadata": {},
   "outputs": [],
   "source": [
    "dNn_over_dU = {}\n",
    "dNn_over_dU_over_pariryP = {}\n",
    "dNn_over_dU_over_pariryN = {}\n",
    "dNp_over_dU = {}\n",
    "dNp_over_dU_over_pariryP = {}\n",
    "dNp_over_dU_over_pariryN = {}\n",
    "\n",
    "for energy_index in range(len(U_axis)):\n",
    "    energy = energy_index * energy_step # KeV\n",
    "\n",
    "    dNn_over_dU_over_pariryP[energy] = 0\n",
    "    dNn_over_dU_over_pariryN[energy] = 0\n",
    "    dNp_over_dU_over_pariryP[energy] = 0\n",
    "    dNp_over_dU_over_pariryN[energy] = 0\n",
    "\n",
    "    for i in range(len(dNn_over_dU_over_d2jz_pariryP[0])): # Убираем d2jz\n",
    "        dNn_over_dU_over_pariryP[energy] += dNn_over_dU_over_d2jz_pariryP[energy][i]\n",
    "        dNn_over_dU_over_pariryN[energy] += dNn_over_dU_over_d2jz_pariryN[energy][i]\n",
    "\n",
    "        dNp_over_dU_over_pariryP[energy] += dNp_over_dU_over_d2jz_pariryP[energy][i]\n",
    "        dNp_over_dU_over_pariryN[energy] += dNp_over_dU_over_d2jz_pariryN[energy][i]\n",
    "\n",
    "    dNn_over_dU[energy] = dNn_over_dU_over_pariryP[energy] + dNn_over_dU_over_pariryN[energy]\n",
    "    dNp_over_dU[energy] = dNp_over_dU_over_pariryP[energy] + dNp_over_dU_over_pariryN[energy]"
   ]
  },
  {
   "cell_type": "code",
   "execution_count": 28,
   "metadata": {},
   "outputs": [
    {
     "name": "stdout",
     "output_type": "stream",
     "text": [
      "6, 1\n",
      "0, 0\n",
      "8, 0\n",
      "24, 0\n",
      "0, 32\n",
      "33, 0\n",
      "12, 16\n",
      "151, 48\n",
      "288, 0\n",
      "36, 168\n",
      "296, 0\n",
      "544, 248\n",
      "880, 672\n",
      "740, 40\n",
      "1161, 596\n",
      "4044, 420\n",
      "3296, 984\n",
      "1748, 2016\n",
      "2452, 620\n",
      "11620, 3946\n",
      "16628, 3408\n",
      "6924, 2432\n",
      "16903, 4116\n",
      "28958, 3994\n",
      "39571, 12288\n",
      "29640, 7236\n",
      "49318, 11670\n",
      "117886, 19809\n",
      "99382, 12242\n",
      "87178, 23629\n"
     ]
    }
   ],
   "source": [
    "for e in range(len(U_axis)):\n",
    "    print(f'{dNn_over_dU[e * energy_step]}, {dNp_over_dU[e * energy_step]}')"
   ]
  },
  {
   "cell_type": "markdown",
   "metadata": {},
   "source": [
    "## Получение dN/dU"
   ]
  },
  {
   "cell_type": "code",
   "execution_count": 29,
   "metadata": {},
   "outputs": [
    {
     "name": "stdout",
     "output_type": "stream",
     "text": [
      "begin 0\n",
      "begin 1\n",
      "begin 2\n",
      "begin 3\n",
      "begin 4\n",
      "begin 5\n",
      "begin 6\n",
      "begin 7\n",
      "begin 8\n",
      "begin 9\n",
      "begin 10\n",
      "begin 11\n",
      "begin 12\n",
      "begin 13\n",
      "begin 14\n",
      "begin 15\n",
      "begin 16\n",
      "begin 17\n",
      "begin 18\n",
      "begin 19\n",
      "begin 20\n",
      "begin 21\n",
      "begin 22\n",
      "begin 23\n",
      "begin 24\n",
      "begin 25\n",
      "begin 26\n",
      "begin 27\n",
      "begin 28\n",
      "begin 29\n"
     ]
    }
   ],
   "source": [
    "dN_over_dU = {}\n",
    "dN_over_dU_parityP = {}\n",
    "dN_over_dU_parityN = {}\n",
    "\n",
    "for energy_index in range(len(U_axis)):\n",
    "    energy = energy_index * energy_step\n",
    "\n",
    "    dN_over_dU[energy] = 0\n",
    "    dN_over_dU_parityP[energy] = 0\n",
    "    dN_over_dU_parityN[energy] = 0\n",
    "\n",
    "    print(f'begin {energy}')\n",
    "    for e in range(energy_index + 1):\n",
    "        # print(f'N_n {dNn_over_dU[e * energy_step]}, E_n {e*energy_step}, N_p {dNp_over_dU[energy - e * energy_step]}, E_p {energy - e*energy_step}')\n",
    "        dN_over_dU[energy] += dNn_over_dU[e * energy_step] * dNp_over_dU[energy - e * energy_step]\n",
    "\n",
    "        dN_over_dU_parityP[energy] += dNn_over_dU_over_pariryP[e * energy_step] * dNp_over_dU_over_pariryP[energy - e * energy_step]\n",
    "        dN_over_dU_parityP[energy] += dNn_over_dU_over_pariryN[e * energy_step] * dNp_over_dU_over_pariryN[energy - e * energy_step]\n",
    "\n",
    "        dN_over_dU_parityN[energy] += dNn_over_dU_over_pariryN[e * energy_step] * dNp_over_dU_over_pariryP[energy - e * energy_step]\n",
    "        dN_over_dU_parityN[energy] += dNn_over_dU_over_pariryP[e * energy_step] * dNp_over_dU_over_pariryN[energy - e * energy_step]"
   ]
  },
  {
   "cell_type": "markdown",
   "metadata": {},
   "source": [
    "### Конвертация словарей (dict) в массивы (array)"
   ]
  },
  {
   "cell_type": "code",
   "execution_count": 30,
   "metadata": {},
   "outputs": [],
   "source": [
    "dN_over_dU_arr = []\n",
    "dN_over_dU_parityP_arr = []\n",
    "dN_over_dU_parityN_arr = []\n",
    "\n",
    "for i in range(len(dN_over_dU)):\n",
    "    dN_over_dU_arr.append(dN_over_dU[i * energy_step])\n",
    "    dN_over_dU_parityP_arr.append(dN_over_dU_parityP[i * energy_step])\n",
    "    dN_over_dU_parityN_arr.append(dN_over_dU_parityN[i * energy_step])\n",
    "    "
   ]
  },
  {
   "cell_type": "markdown",
   "metadata": {},
   "source": [
    "# Сглаживание dN/dE"
   ]
  },
  {
   "cell_type": "markdown",
   "metadata": {},
   "source": [
    "### Сглаживание линейное по 3 точкам"
   ]
  },
  {
   "cell_type": "code",
   "execution_count": 146,
   "metadata": {},
   "outputs": [],
   "source": [
    "smoothing = 3\n",
    "dN_over_dU_arr_smooth = []\n",
    "U_axis_smooth = []\n",
    "\n",
    "# for i in range(1, len(Jz_array_parityP)-smoothing+2):\n",
    "#     Jz_array_parityP_smooth[i] = 0\n",
    "#     Jz_array_parityN_smooth[i] = 0\n",
    "#     for j in range(0, smoothing):\n",
    "#         Jz_array_parityP_smooth[i] += np.array(Jz_array_parityP[i-1+j])\n",
    "#         Jz_array_parityN_smooth[i] += np.array(Jz_array_parityN[i-1+j])\n",
    "#     Jz_array_parityP_smooth[i] = list(np.int64(Jz_array_parityP_smooth[i]/smoothing))\n",
    "#     Jz_array_parityN_smooth[i] = list(np.int64(Jz_array_parityN_smooth[i]/smoothing))\n",
    "\n",
    "dN_over_dU_arr_smooth.append(dN_over_dU_arr[0])\n",
    "\n",
    "for i in range(1, len(dN_over_dU_arr)-smoothing+2):\n",
    "\n",
    "    aver_value = 0\n",
    "    # aver_axis = 0\n",
    "    for j in range(smoothing):\n",
    "        aver_value += dN_over_dU_arr[i-1+j]\n",
    "        # aver_axis += U_axis[i+j]\n",
    "\n",
    "    dN_over_dU_arr_smooth.append(aver_value/smoothing)\n",
    "    # U_axis_smooth.append(aver_axis/smoothing)\n",
    "\n",
    "dN_over_dU_arr_smooth.append(dN_over_dU_arr[-1])"
   ]
  },
  {
   "cell_type": "code",
   "execution_count": 148,
   "metadata": {},
   "outputs": [
    {
     "data": {
      "text/plain": [
       "30"
      ]
     },
     "execution_count": 148,
     "metadata": {},
     "output_type": "execute_result"
    }
   ],
   "source": [
    "len(dN_over_dU_arr_smooth)"
   ]
  },
  {
   "cell_type": "markdown",
   "metadata": {},
   "source": [
    "### Сглаживание экспоненциальное из [2013 Uhrenholt]\n",
    "\n",
    "$\\rho(U_b) = \\sum\\limits_{a} \\rho(U_a) \\frac{1}{2} \\left[ \n",
    "    erf\\left( \\frac{U_a + \\Delta E/2 - U_b}{\\sqrt{2}\\sigma} \\right) -\n",
    "    erf\\left( \\frac{U_a - \\Delta E/2 - U_b}{\\sqrt{2}\\sigma} \\right) \n",
    "    \\right]$\n",
    "\n",
    "$\\sigma = \\frac{\\Gamma}{2\\sqrt{2 \\ln(2)}}$\n",
    "\n",
    "$\\Gamma = 0.039 \\left( \\frac{A}{160} \\right)^{-1/2} E^{3/2}$ MeV"
   ]
  },
  {
   "cell_type": "code",
   "execution_count": 32,
   "metadata": {},
   "outputs": [
    {
     "name": "stdout",
     "output_type": "stream",
     "text": [
      "6.0 6\n",
      "8.00001702960147 8\n",
      "24.418280977928482 24\n",
      "182.6981188170404 192\n",
      "71.9079931114271 33\n",
      "433.4970981007129 364\n",
      "908.0730103847287 1207\n",
      "1141.896373546049 416\n",
      "2185.89163864465 2868\n",
      "4621.42278284879 1832\n",
      "9496.454438292378 8736\n",
      "15249.800974052105 19936\n",
      "25862.202596535095 7108\n",
      "44477.94832689916 42937\n",
      "75227.16252143019 56836\n",
      "128398.01867481112 83104\n",
      "216160.09950033933 151636\n",
      "354142.30051523127 154348\n",
      "573482.3462225469 501300\n",
      "923655.4791423952 570896\n",
      "1460335.068981252 628800\n",
      "2204882.05328979 1261867\n",
      "3088392.1099250135 1838534\n",
      "3948626.8795952657 3252861\n",
      "4604452.700553711 3421124\n",
      "4942457.374300082 5796928\n",
      "4949557.505984919 10199536\n",
      "4689089.898843692 11892152\n",
      "4256053.377235204 16402184\n"
     ]
    }
   ],
   "source": [
    "dN_over_dU_arr_smooth_erf = []\n",
    "\n",
    "for i in range(len(U_axis)):\n",
    "    if U_axis[i] == 0:\n",
    "        dN_over_dU_arr_smooth_erf.append(0)\n",
    "        continue\n",
    "\n",
    "    Г = 0.039 * (A/160)**(-1/2) * U_axis[i]**(3/2)\n",
    "    sigma = Г/(2*math.sqrt(2*math.log(2)))\n",
    "\n",
    "    # print('iter', i)\n",
    "\n",
    "    summ = 0\n",
    "    for j in range(len(dN_over_dU_arr)):\n",
    "        # if i == j:\n",
    "        #     continue\n",
    "\n",
    "        erf1 = math.erf((U_axis[j]+0.5-U_axis[i])/(math.sqrt(2)*sigma))\n",
    "        erf2 = math.erf((U_axis[j]-0.5-U_axis[i])/(math.sqrt(2)*sigma))\n",
    "        summ += dN_over_dU_arr[j] * (erf1 - erf2) / 2 \n",
    "        # print('    j =', j, erf1)\n",
    "\n",
    "    if summ < 1:\n",
    "        dN_over_dU_arr_smooth_erf.append(0)\n",
    "        continue\n",
    "\n",
    "    dN_over_dU_arr_smooth_erf.append(summ)\n",
    "    print(dN_over_dU_arr_smooth_erf[i], dN_over_dU_arr[i])\n"
   ]
  },
  {
   "cell_type": "code",
   "execution_count": 33,
   "metadata": {},
   "outputs": [
    {
     "data": {
      "text/plain": [
       "28"
      ]
     },
     "execution_count": 33,
     "metadata": {},
     "output_type": "execute_result"
    }
   ],
   "source": [
    "len(dN_over_dU_arr_smooth)"
   ]
  },
  {
   "cell_type": "markdown",
   "metadata": {},
   "source": [
    "# Графики для плотности многочастичных состояний"
   ]
  },
  {
   "cell_type": "markdown",
   "metadata": {},
   "source": [
    "## Аналитическая формула (2.46 Соколов)\n",
    "\n",
    "$\n",
    "\\omega(U) = \n",
    "\\frac{\\sqrt{\\pi}}{12}\n",
    "\\frac{\\exp(2\\sqrt{aU})}{a^{1/4}U^{5/4}}\n",
    "$"
   ]
  },
  {
   "cell_type": "code",
   "execution_count": 34,
   "metadata": {},
   "outputs": [],
   "source": [
    "def Sokolov_246_formula(U):\n",
    "    frac = math.sqrt(math.pi) / 12\n",
    "    exp = math.exp(2 * math.sqrt(a * U))\n",
    "    bottom = pow(a, 1 / 4) * pow(U, 5 / 4)\n",
    "    return frac * exp / bottom"
   ]
  },
  {
   "cell_type": "code",
   "execution_count": 35,
   "metadata": {},
   "outputs": [],
   "source": [
    "Sokolov_246_formula_range = np.arange(1.0, U, 0.1).tolist()\n",
    "\n",
    "Sokolov_246_formula_values = []\n",
    "for i in range(len(Sokolov_246_formula_range)):\n",
    "    Sokolov_246_formula_values.append(Sokolov_246_formula(Sokolov_246_formula_range[i]))"
   ]
  },
  {
   "cell_type": "code",
   "execution_count": 149,
   "metadata": {},
   "outputs": [
    {
     "data": {
      "text/plain": [
       "<matplotlib.legend.Legend at 0x2b0b30b5d90>"
      ]
     },
     "execution_count": 149,
     "metadata": {},
     "output_type": "execute_result"
    },
    {
     "data": {
      "image/png": "[encoded data removed]",
      "text/plain": [
       "<Figure size 1152x576 with 1 Axes>"
      ]
     },
     "metadata": {
      "needs_background": "light"
     },
     "output_type": "display_data"
    }
   ],
   "source": [
    "fig, graph = plt.subplots(figsize=(16, 8))\n",
    "\n",
    "# dN_over_dU_arr_OSC58Ni = [6, 0, 24, 8, 224, 67, 1345, 620, 3232, 5120, 20317, 17872, 43816, 107376, 150712, 309314, 529284, 1007912, 1178196, 3021540]\n",
    "# graph.scatter(U_axis, dN_over_dU_arr_OSC58Ni, linewidths=3, color='r' )\n",
    "\n",
    "graph.set_xlabel(\"Энергия возбуждения U, МэВ\", fontsize=24) # fontweight=\"bold\"\n",
    "graph.set_ylabel(f\"Количество многочастичных состояний\", fontsize=18)\n",
    "\n",
    "plt.rcParams.update({'font.size': 22})\n",
    "\n",
    "# graph.xaxis.set_major_locator(ticker.MultipleLocator(2))\n",
    "graph.yaxis.set_major_locator(ticker.MultipleLocator(1))\n",
    "graph.grid(which='major', color='gray', linestyle=':')\n",
    "graph.minorticks_on()\n",
    "# graph.grid(which='minor', axis='both', color='gray', linestyle=':')\n",
    "\n",
    "graph.plot(Sokolov_246_formula_range, Sokolov_246_formula_values, 'k', label='$\\omega(U)$')\n",
    "# graph.scatter(U_axis, dN_over_dU_arr, linewidths=3, color='blue', label='$\\Delta N / \\Delta U$' )\n",
    "\n",
    "# graph.scatter(U_axis, dN_over_dU_arr_smooth_erf, linewidths=3, color='red', label='Формула (21) в 2013 Uhrenholt')\n",
    "graph.scatter(U_axis, dN_over_dU_arr_smooth, linewidths=3, color='blue', label='$\\langle \\Delta N / \\Delta U \\\\rangle$' )\n",
    "\n",
    "graph.set_yscale('log')\n",
    "\n",
    "textHeight = math.log(max(dN_over_dU_arr) )*1e1\n",
    "graph.text(20, textHeight, f'Модель HF+BCS\\n'\n",
    "                    f'{A}Ni\\n'\n",
    "                    f'N = {N_n}\\n'\n",
    "                    f'Z = {N_p}\\n'\n",
    "                    f'a = {a} МэВ${{}}^{{-1}}$',\n",
    "           bbox={'facecolor': 'white', 'alpha': 1, 'pad': 10}, fontsize=20)\n",
    "graph.legend()\n",
    "\n",
    "                    # f'$\\Delta_p$ = {round(DP, ndigits=2)} МэВ\\n'\n",
    "                    # f'$\\Delta_n$ = {round(DN, ndigits=2)} МэВ\\n'\n",
    "                    \n",
    "# Рассеять по энергетическому интервалу\n"
   ]
  },
  {
   "cell_type": "code",
   "execution_count": 39,
   "metadata": {},
   "outputs": [
    {
     "data": {
      "text/plain": [
       "1.0267034719117576"
      ]
     },
     "execution_count": 39,
     "metadata": {},
     "output_type": "execute_result"
    }
   ],
   "source": [
    "(sum(dN_over_dU_arr_smooth) + dN_over_dU_arr[0] + dN_over_dU_arr[-1])/sum(dN_over_dU_arr)"
   ]
  },
  {
   "cell_type": "code",
   "execution_count": 41,
   "metadata": {},
   "outputs": [
    {
     "data": {
      "text/plain": [
       "<matplotlib.legend.Legend at 0x2b0a646a6a0>"
      ]
     },
     "execution_count": 41,
     "metadata": {},
     "output_type": "execute_result"
    },
    {
     "data": {
      "image/png": "[encoded data removed]",
      "text/plain": [
       "<Figure size 1152x576 with 1 Axes>"
      ]
     },
     "metadata": {
      "needs_background": "light"
     },
     "output_type": "display_data"
    }
   ],
   "source": [
    "fig, graph = plt.subplots(figsize=(16, 8))\n",
    "\n",
    "graph.set_xlabel(\"Энергия возбуждения U, МэВ\", fontsize=24)\n",
    "graph.set_ylabel(f\"Количество многочастичных состояний\", fontsize=18)\n",
    "\n",
    "plt.rcParams.update({'font.size': 22})\n",
    "\n",
    "graph.yaxis.set_major_locator(ticker.MultipleLocator(1))\n",
    "graph.grid(which='major', color='gray', linestyle=':')\n",
    "# graph.minorticks_on()\n",
    "# graph.grid(which='minor', axis='both', color='gray', linestyle=':')\n",
    "\n",
    "graph.plot(Sokolov_246_formula_range, Sokolov_246_formula_values, 'k')\n",
    "graph.scatter(U_axis, dN_over_dU_parityP_arr, linewidths=3, color='red', label='P = +1' )\n",
    "graph.scatter(U_axis, dN_over_dU_parityN_arr, linewidths=3, color='blue', label='P = -1' )\n",
    "\n",
    "graph.set_yscale('log')\n",
    "\n",
    "textHeight = math.log(max(dN_over_dU_parityP_arr) / 3)\n",
    "graph.text(20, textHeight, f'Модель HF+BCS\\n'\n",
    "                    f'{A}Ni\\n'\n",
    "                    f'N = {N_n}\\n'\n",
    "                    f'Z = {N_p}\\n'\n",
    "                    f'a = {a} МэВ${{}}^{{-1}}$',\n",
    "           bbox={'facecolor': 'white', 'alpha': 1, 'pad': 10}, fontsize=20)\n",
    "graph.legend()\n"
   ]
  },
  {
   "cell_type": "markdown",
   "metadata": {},
   "source": [
    "# Массив $J_Z$"
   ]
  },
  {
   "cell_type": "code",
   "execution_count": 42,
   "metadata": {},
   "outputs": [
    {
     "name": "stdout",
     "output_type": "stream",
     "text": [
      "finished 0 of out 30\n",
      "finished 1 of out 30\n",
      "finished 2 of out 30\n",
      "finished 3 of out 30\n",
      "finished 4 of out 30\n",
      "finished 5 of out 30\n",
      "finished 6 of out 30\n",
      "finished 7 of out 30\n",
      "finished 8 of out 30\n",
      "finished 9 of out 30\n",
      "finished 10 of out 30\n",
      "finished 11 of out 30\n",
      "finished 12 of out 30\n",
      "finished 13 of out 30\n",
      "finished 14 of out 30\n",
      "finished 15 of out 30\n",
      "finished 16 of out 30\n",
      "finished 17 of out 30\n",
      "finished 18 of out 30\n",
      "finished 19 of out 30\n",
      "finished 20 of out 30\n",
      "finished 21 of out 30\n",
      "finished 22 of out 30\n",
      "finished 23 of out 30\n",
      "finished 24 of out 30\n",
      "finished 25 of out 30\n",
      "finished 26 of out 30\n",
      "finished 27 of out 30\n",
      "finished 28 of out 30\n",
      "finished 29 of out 30\n",
      "finished 30 of out 30\n"
     ]
    }
   ],
   "source": [
    "J2z_array_parityP = {}\n",
    "J2z_array_parityN = {}\n",
    "\n",
    "# Требуется уточнение. Возможно, здесь ошибка. Для чётно-чётных ядер верно.\n",
    "if N_n % 2 == 0:\n",
    "    if N_p % 2 == 0:\n",
    "        J_iter_lim = j2z_limit # N even P even\n",
    "    else:\n",
    "        J_iter_lim = j2z_limit - 1 # N even P odd\n",
    "else:\n",
    "    if N_p % 2 == 0:\n",
    "        J_iter_lim = j2z_limit # N odd P even\n",
    "    else:\n",
    "        J_iter_lim = j2z_limit - 1 # N odd P odd\n",
    "\n",
    "for energy in range(int(U / energy_step) + 1):\n",
    "    energy = energy * energy_step\n",
    "    tmp_J2z_array_P = []\n",
    "    tmp_J2z_array_N = []\n",
    "    for J2z in range(-j2z_limit, j2z_limit + 1):\n",
    "        E_neutron = 0\n",
    "        E_proton = energy\n",
    "        J2z = abs(J2z)\n",
    "        total_states_pariryP = 0\n",
    "        total_states_pariryN = 0\n",
    "        while E_neutron <= energy:\n",
    "            for i in range(-J_iter_lim, J_iter_lim + 1 - J2z, 2):\n",
    "                x1 = dNn_over_dU_over_d2jz_pariryP[E_neutron][j2z_limit + i + J2z]\n",
    "                x2 = dNp_over_dU_over_d2jz_pariryP[E_proton][j2z_limit - i]\n",
    "                total_states_pariryP += x1 * x2\n",
    "\n",
    "                x1 = dNn_over_dU_over_d2jz_pariryN[E_neutron][j2z_limit + i + J2z]\n",
    "                x2 = dNp_over_dU_over_d2jz_pariryN[E_proton][j2z_limit - i]\n",
    "                total_states_pariryP += x1 * x2\n",
    "\n",
    "                x1 = dNn_over_dU_over_d2jz_pariryN[E_neutron][j2z_limit + i + J2z]\n",
    "                x2 = dNp_over_dU_over_d2jz_pariryP[E_proton][j2z_limit - i]\n",
    "                total_states_pariryN += x1 * x2\n",
    "\n",
    "                x1 = dNn_over_dU_over_d2jz_pariryP[E_neutron][j2z_limit + i + J2z]\n",
    "                x2 = dNp_over_dU_over_d2jz_pariryN[E_proton][j2z_limit - i]\n",
    "                total_states_pariryN += x1 * x2\n",
    "                # print(f\"(energy) {energy  : < 4} (J2z) {J2z : < 4} (j2z_limit + i + J2z) {j2z_limit + i + J2z : < 4} (j2z_limit - i) {j2z_limit - i : < 4} {total_states_pariryP != 0}\")\n",
    "\n",
    "            E_neutron += energy_step\n",
    "            E_proton -= energy_step\n",
    "\n",
    "        tmp_J2z_array_P.append(total_states_pariryP)\n",
    "        tmp_J2z_array_N.append(total_states_pariryN)\n",
    "\n",
    "    print(f\"finished {energy} of out {int(U)}\")\n",
    "\n",
    "    J2z_array_parityP[energy] = tmp_J2z_array_P\n",
    "    J2z_array_parityN[energy] = tmp_J2z_array_N\n",
    "    \n",
    "# Убираем все нулевые элементы на нечётных (или чётных) местах\n",
    "\n",
    "Jz_array_parityP = J2z_array_parityP\n",
    "Jz_array_parityN = J2z_array_parityN\n",
    "\n",
    "del J2z_array_parityP\n",
    "del J2z_array_parityN\n",
    "\n",
    "if A % 2 == 0:\n",
    "    start_selection = 1 # Удаление элементов +1, -1, +3, -3, ...\n",
    "else:\n",
    "    start_selection = 0 # Удаление элементов 0, +1, -1, ...\n",
    "\n",
    "for energy in range(int(U / energy_step) + 1):\n",
    "    energy = energy * energy_step\n",
    "    del Jz_array_parityP[energy][start_selection::2]\n",
    "    del Jz_array_parityN[energy][start_selection::2]"
   ]
  },
  {
   "cell_type": "code",
   "execution_count": 43,
   "metadata": {},
   "outputs": [
    {
     "name": "stdout",
     "output_type": "stream",
     "text": [
      "51\n"
     ]
    }
   ],
   "source": [
    "if A % 2 == 0:\n",
    "    lim = 1\n",
    "    length = int((len(Jz_array_parityP[0]) - 1) / 2)\n",
    "    axis_J_array = [i for i in range(-length, length + 1)]\n",
    "else:\n",
    "    lim = 0\n",
    "\n",
    "    length = int((len(Jz_array_parityP[0]) - 1) / 2)\n",
    "    axis_J_array = [(i + 0.5) for i in range(-length - 1, length + 1)]\n",
    "\n",
    "print(len(axis_J_array))"
   ]
  },
  {
   "cell_type": "code",
   "execution_count": 44,
   "metadata": {},
   "outputs": [
    {
     "name": "stdout",
     "output_type": "stream",
     "text": [
      "[0, 0, 0, 0, 0, 0, 0, 0, 0, 0, 0, 0, 0, 0, 0, 0, 0, 0, 0, 0, 0, 0, 0, 1, 1, 2, 1, 1, 0, 0, 0, 0, 0, 0, 0, 0, 0, 0, 0, 0, 0, 0, 0, 0, 0, 0, 0, 0, 0, 0, 0]\n",
      "[0, 0, 0, 0, 0, 0, 0, 0, 0, 0, 0, 0, 0, 0, 0, 0, 0, 0, 0, 0, 0, 0, 0, 0, 0, 0, 0, 0, 0, 0, 0, 0, 0, 0, 0, 0, 0, 0, 0, 0, 0, 0, 0, 0, 0, 0, 0, 0, 0, 0, 0]\n",
      "[0, 0, 0, 0, 0, 0, 0, 0, 0, 0, 0, 0, 0, 0, 0, 0, 0, 0, 0, 0, 0, 0, 0, 1, 2, 2, 2, 1, 0, 0, 0, 0, 0, 0, 0, 0, 0, 0, 0, 0, 0, 0, 0, 0, 0, 0, 0, 0, 0, 0, 0]\n",
      "[0, 0, 0, 0, 0, 0, 0, 0, 0, 0, 0, 0, 0, 0, 0, 0, 0, 0, 0, 0, 0, 1, 2, 3, 4, 4, 4, 3, 2, 1, 0, 0, 0, 0, 0, 0, 0, 0, 0, 0, 0, 0, 0, 0, 0, 0, 0, 0, 0, 0, 0]\n",
      "[0, 0, 0, 0, 0, 0, 0, 0, 0, 0, 0, 0, 0, 0, 0, 0, 0, 0, 1, 3, 7, 12, 17, 21, 23, 24, 23, 21, 17, 12, 7, 3, 1, 0, 0, 0, 0, 0, 0, 0, 0, 0, 0, 0, 0, 0, 0, 0, 0, 0, 0]\n",
      "[0, 0, 0, 0, 0, 0, 0, 0, 0, 0, 0, 0, 0, 0, 0, 0, 0, 0, 0, 0, 1, 2, 3, 4, 4, 5, 4, 4, 3, 2, 1, 0, 0, 0, 0, 0, 0, 0, 0, 0, 0, 0, 0, 0, 0, 0, 0, 0, 0, 0, 0]\n",
      "[0, 0, 0, 0, 0, 0, 0, 0, 0, 0, 0, 0, 0, 0, 0, 0, 0, 0, 1, 5, 12, 22, 33, 41, 45, 46, 45, 41, 33, 22, 12, 5, 1, 0, 0, 0, 0, 0, 0, 0, 0, 0, 0, 0, 0, 0, 0, 0, 0, 0, 0]\n",
      "[0, 0, 0, 0, 0, 0, 0, 0, 0, 0, 0, 0, 0, 0, 0, 0, 1, 5, 13, 28, 48, 73, 97, 118, 132, 137, 132, 118, 97, 73, 48, 28, 13, 5, 1, 0, 0, 0, 0, 0, 0, 0, 0, 0, 0, 0, 0, 0, 0, 0, 0]\n",
      "[0, 0, 0, 0, 0, 0, 0, 0, 0, 0, 0, 0, 0, 0, 0, 0, 0, 1, 3, 8, 16, 26, 36, 44, 49, 50, 49, 44, 36, 26, 16, 8, 3, 1, 0, 0, 0, 0, 0, 0, 0, 0, 0, 0, 0, 0, 0, 0, 0, 0, 0]\n",
      "[0, 0, 0, 0, 0, 0, 0, 0, 0, 0, 0, 0, 0, 0, 0, 2, 7, 21, 45, 82, 127, 179, 227, 274, 302, 316, 302, 274, 227, 179, 127, 82, 45, 21, 7, 2, 0, 0, 0, 0, 0, 0, 0, 0, 0, 0, 0, 0, 0, 0, 0]\n",
      "[0, 0, 0, 0, 0, 0, 0, 0, 0, 0, 0, 0, 0, 0, 0, 1, 4, 12, 27, 49, 77, 111, 144, 172, 190, 198, 190, 172, 144, 111, 77, 49, 27, 12, 4, 1, 0, 0, 0, 0, 0, 0, 0, 0, 0, 0, 0, 0, 0, 0, 0]\n",
      "[0, 0, 0, 0, 0, 0, 0, 0, 0, 0, 0, 0, 0, 0, 1, 7, 26, 65, 130, 221, 331, 450, 568, 672, 744, 770, 744, 672, 568, 450, 331, 221, 130, 65, 26, 7, 1, 0, 0, 0, 0, 0, 0, 0, 0, 0, 0, 0, 0, 0, 0]\n",
      "[0, 0, 0, 0, 0, 0, 0, 0, 0, 0, 0, 0, 1, 7, 25, 67, 143, 266, 440, 666, 931, 1213, 1483, 1707, 1857, 1908, 1857, 1707, 1483, 1213, 931, 666, 440, 266, 143, 67, 25, 7, 1, 0, 0, 0, 0, 0, 0, 0, 0, 0, 0, 0, 0]\n",
      "[0, 0, 0, 0, 0, 0, 0, 0, 0, 0, 0, 0, 0, 0, 0, 4, 17, 47, 97, 168, 252, 347, 440, 522, 578, 600, 578, 522, 440, 347, 252, 168, 97, 47, 17, 4, 0, 0, 0, 0, 0, 0, 0, 0, 0, 0, 0, 0, 0, 0, 0]\n",
      "[0, 0, 0, 0, 0, 0, 0, 0, 0, 0, 0, 0, 2, 13, 49, 129, 279, 519, 855, 1289, 1794, 2336, 2849, 3280, 3560, 3661, 3560, 3280, 2849, 2336, 1794, 1289, 855, 519, 279, 129, 49, 13, 2, 0, 0, 0, 0, 0, 0, 0, 0, 0, 0, 0, 0]\n",
      "[0, 0, 0, 0, 0, 0, 0, 0, 0, 0, 0, 3, 14, 45, 115, 249, 471, 805, 1254, 1816, 2453, 3123, 3747, 4268, 4604, 4726, 4604, 4268, 3747, 3123, 2453, 1816, 1254, 805, 471, 249, 115, 45, 14, 3, 0, 0, 0, 0, 0, 0, 0, 0, 0, 0, 0]\n",
      "[0, 0, 0, 0, 0, 0, 0, 0, 0, 0, 0, 1, 8, 36, 106, 252, 496, 871, 1379, 2021, 2754, 3532, 4259, 4862, 5252, 5394, 5252, 4862, 4259, 3532, 2754, 2021, 1379, 871, 496, 252, 106, 36, 8, 1, 0, 0, 0, 0, 0, 0, 0, 0, 0, 0, 0]\n",
      "[0, 0, 0, 0, 0, 0, 0, 0, 0, 1, 7, 30, 92, 231, 491, 939, 1625, 2597, 3856, 5373, 7061, 8788, 10391, 11696, 12547, 12842, 12547, 11696, 10391, 8788, 7061, 5373, 3856, 2597, 1625, 939, 491, 231, 92, 30, 7, 1, 0, 0, 0, 0, 0, 0, 0, 0, 0]\n",
      "[0, 0, 0, 0, 0, 0, 0, 0, 0, 0, 1, 6, 27, 88, 229, 493, 926, 1564, 2424, 3492, 4707, 5972, 7152, 8114, 8741, 8960, 8741, 8114, 7152, 5972, 4707, 3492, 2424, 1564, 926, 493, 229, 88, 27, 6, 1, 0, 0, 0, 0, 0, 0, 0, 0, 0, 0]\n",
      "[0, 0, 0, 0, 0, 0, 0, 0, 0, 4, 23, 91, 266, 639, 1324, 2452, 4143, 6483, 9476, 13042, 16961, 20947, 24608, 27581, 29509, 30186, 29509, 27581, 24608, 20947, 16961, 13042, 9476, 6483, 4143, 2452, 1324, 639, 266, 91, 23, 4, 0, 0, 0, 0, 0, 0, 0, 0, 0]\n",
      "[0, 0, 0, 0, 0, 0, 0, 1, 8, 34, 110, 288, 656, 1333, 2470, 4217, 6707, 10015, 14125, 18903, 24067, 29236, 33933, 37709, 40148, 41000, 40148, 37709, 33933, 29236, 24067, 18903, 14125, 10015, 6707, 4217, 2470, 1333, 656, 288, 110, 34, 8, 1, 0, 0, 0, 0, 0, 0, 0]\n",
      "[0, 0, 0, 0, 0, 0, 0, 0, 0, 3, 23, 94, 278, 669, 1381, 2553, 4306, 6732, 9838, 13529, 17588, 21699, 25479, 28535, 30521, 31212, 30521, 28535, 25479, 21699, 17588, 13529, 9838, 6732, 4306, 2553, 1381, 669, 278, 94, 23, 3, 0, 0, 0, 0, 0, 0, 0, 0, 0]\n",
      "[0, 0, 0, 0, 0, 0, 0, 2, 16, 70, 222, 583, 1315, 2657, 4876, 8269, 13067, 19413, 27245, 36300, 46054, 55790, 64640, 71756, 76368, 77973, 76368, 71756, 64640, 55790, 46054, 36300, 27245, 19413, 13067, 8269, 4876, 2657, 1315, 583, 222, 70, 16, 2, 0, 0, 0, 0, 0, 0, 0]\n",
      "[0, 0, 0, 0, 0, 0, 1, 8, 35, 121, 339, 832, 1791, 3504, 6281, 10481, 16362, 24094, 33557, 44435, 56059, 67630, 78108, 86538, 91974, 93878, 91974, 86538, 78108, 67630, 56059, 44435, 33557, 24094, 16362, 10481, 6281, 3504, 1791, 832, 339, 121, 35, 8, 1, 0, 0, 0, 0, 0, 0]\n",
      "[0, 0, 0, 0, 0, 0, 1, 11, 58, 212, 602, 1449, 3072, 5892, 10390, 17055, 26264, 38193, 52677, 69193, 86782, 104195, 119927, 132519, 140655, 143483, 140655, 132519, 119927, 104195, 86782, 69193, 52677, 38193, 26264, 17055, 10390, 5892, 3072, 1449, 602, 212, 58, 11, 1, 0, 0, 0, 0, 0, 0]\n",
      "[0, 0, 0, 0, 0, 3, 17, 71, 222, 595, 1396, 2958, 5723, 10274, 17243, 27280, 40826, 58077, 78691, 101917, 126389, 150474, 172129, 189454, 200611, 204504, 200611, 189454, 172129, 150474, 126389, 101917, 78691, 58077, 40826, 27280, 17243, 10274, 5723, 2958, 1396, 595, 222, 71, 17, 3, 0, 0, 0, 0, 0]\n",
      "[0, 0, 0, 0, 0, 0, 4, 29, 123, 399, 1057, 2441, 5039, 9510, 16583, 27010, 41327, 59783, 82084, 107430, 134355, 160981, 185026, 204270, 216694, 221014, 216694, 204270, 185026, 160981, 134355, 107430, 82084, 59783, 41327, 27010, 16583, 9510, 5039, 2441, 1057, 399, 123, 29, 4, 0, 0, 0, 0, 0, 0]\n",
      "[0, 0, 0, 0, 1, 10, 53, 199, 599, 1542, 3505, 7215, 13640, 23977, 39505, 61424, 90560, 127133, 170457, 218850, 269610, 319212, 363642, 398922, 421620, 429460, 421620, 398922, 363642, 319212, 269610, 218850, 170457, 127133, 90560, 61424, 39505, 23977, 13640, 7215, 3505, 1542, 599, 199, 53, 10, 1, 0, 0, 0, 0]\n",
      "[0, 0, 0, 1, 10, 47, 166, 486, 1244, 2850, 5953, 11500, 20739, 35174, 56370, 85736, 124160, 171743, 227501, 289266, 353627, 416213, 472043, 516243, 544632, 554436, 544632, 516243, 472043, 416213, 353627, 289266, 227501, 171743, 124160, 85736, 56370, 35174, 20739, 11500, 5953, 2850, 1244, 486, 166, 47, 10, 1, 0, 0, 0]\n",
      "[0, 0, 0, 0, 0, 11, 65, 260, 789, 2029, 4597, 9434, 17790, 31221, 51349, 79709, 117320, 164481, 220311, 282747, 348266, 412383, 469803, 515423, 544730, 554880, 544730, 515423, 469803, 412383, 348266, 282747, 220311, 164481, 117320, 79709, 51349, 31221, 17790, 9434, 4597, 2029, 789, 260, 65, 11, 0, 0, 0, 0, 0]\n",
      "[0, 0, 0, 1, 14, 77, 287, 862, 2221, 5095, 10634, 20509, 36886, 62331, 99470, 150633, 217257, 299526, 395720, 502171, 612941, 720540, 816322, 892037, 940541, 957292, 940541, 892037, 816322, 720540, 612941, 502171, 395720, 299526, 217257, 150633, 99470, 62331, 36886, 20509, 10634, 5095, 2221, 862, 287, 77, 14, 1, 0, 0, 0]\n"
     ]
    }
   ],
   "source": [
    "for i in range(U+energy_step):\n",
    "    print(Jz_array_parityP[i])\n"
   ]
  },
  {
   "cell_type": "markdown",
   "metadata": {},
   "source": [
    "## Линейное сглаживание по 3 точкам по энергии"
   ]
  },
  {
   "cell_type": "code",
   "execution_count": null,
   "metadata": {},
   "outputs": [
    {
     "name": "stdout",
     "output_type": "stream",
     "text": [
      "[0, 0, 0, 0, 0, 0, 0, 0, 0, 0, 0, 0, 0, 0, 0, 0, 0, 0, 0, 0, 0, 0, 0, 1, 1, 2, 1, 1, 0, 0, 0, 0, 0, 0, 0, 0, 0, 0, 0, 0, 0, 0, 0, 0, 0, 0, 0, 0, 0, 0, 0]\n",
      "[0, 0, 0, 0, 0, 0, 0, 0, 0, 0, 0, 0, 0, 0, 0, 0, 0, 0, 0, 0, 0, 0, 0, 0, 1, 1, 1, 0, 0, 0, 0, 0, 0, 0, 0, 0, 0, 0, 0, 0, 0, 0, 0, 0, 0, 0, 0, 0, 0, 0, 0]\n",
      "[0, 0, 0, 0, 0, 0, 0, 0, 0, 0, 0, 0, 0, 0, 0, 0, 0, 0, 0, 0, 0, 0, 0, 1, 2, 2, 2, 1, 0, 0, 0, 0, 0, 0, 0, 0, 0, 0, 0, 0, 0, 0, 0, 0, 0, 0, 0, 0, 0, 0, 0]\n",
      "[0, 0, 0, 0, 0, 0, 0, 0, 0, 0, 0, 0, 0, 0, 0, 0, 0, 0, 0, 1, 2, 4, 6, 8, 9, 10, 9, 8, 6, 4, 2, 1, 0, 0, 0, 0, 0, 0, 0, 0, 0, 0, 0, 0, 0, 0, 0, 0, 0, 0, 0]\n",
      "[0, 0, 0, 0, 0, 0, 0, 0, 0, 0, 0, 0, 0, 0, 0, 0, 0, 0, 0, 1, 2, 5, 7, 9, 10, 11, 10, 9, 7, 5, 2, 1, 0, 0, 0, 0, 0, 0, 0, 0, 0, 0, 0, 0, 0, 0, 0, 0, 0, 0, 0]\n",
      "[0, 0, 0, 0, 0, 0, 0, 0, 0, 0, 0, 0, 0, 0, 0, 0, 0, 0, 0, 2, 6, 12, 17, 22, 24, 25, 24, 22, 17, 12, 6, 2, 0, 0, 0, 0, 0, 0, 0, 0, 0, 0, 0, 0, 0, 0, 0, 0, 0, 0, 0]\n",
      "[0, 0, 0, 0, 0, 0, 0, 0, 0, 0, 0, 0, 0, 0, 0, 0, 0, 1, 4, 11, 20, 32, 44, 54, 60, 62, 60, 54, 44, 32, 20, 11, 4, 1, 0, 0, 0, 0, 0, 0, 0, 0, 0, 0, 0, 0, 0, 0, 0, 0, 0]\n",
      "[0, 0, 0, 0, 0, 0, 0, 0, 0, 0, 0, 0, 0, 0, 0, 0, 0, 2, 5, 13, 25, 40, 55, 67, 75, 77, 75, 67, 55, 40, 25, 13, 5, 2, 0, 0, 0, 0, 0, 0, 0, 0, 0, 0, 0, 0, 0, 0, 0, 0, 0]\n",
      "[0, 0, 0, 0, 0, 0, 0, 0, 0, 0, 0, 0, 0, 0, 0, 0, 2, 9, 20, 39, 63, 92, 120, 145, 161, 167, 161, 145, 120, 92, 63, 39, 20, 9, 2, 0, 0, 0, 0, 0, 0, 0, 0, 0, 0, 0, 0, 0, 0, 0, 0]\n",
      "[0, 0, 0, 0, 0, 0, 0, 0, 0, 0, 0, 0, 0, 0, 0, 1, 3, 11, 25, 46, 73, 105, 135, 163, 180, 188, 180, 163, 135, 105, 73, 46, 25, 11, 3, 1, 0, 0, 0, 0, 0, 0, 0, 0, 0, 0, 0, 0, 0, 0, 0]\n",
      "[0, 0, 0, 0, 0, 0, 0, 0, 0, 0, 0, 0, 0, 0, 0, 3, 12, 32, 67, 117, 178, 246, 313, 372, 412, 428, 412, 372, 313, 246, 178, 117, 67, 32, 12, 3, 0, 0, 0, 0, 0, 0, 0, 0, 0, 0, 0, 0, 0, 0, 0]\n",
      "[0, 0, 0, 0, 0, 0, 0, 0, 0, 0, 0, 0, 0, 2, 8, 25, 57, 114, 199, 312, 446, 591, 731, 850, 930, 958, 930, 850, 731, 591, 446, 312, 199, 114, 57, 25, 8, 2, 0, 0, 0, 0, 0, 0, 0, 0, 0, 0, 0, 0, 0]\n",
      "[0, 0, 0, 0, 0, 0, 0, 0, 0, 0, 0, 0, 0, 2, 8, 26, 62, 126, 222, 351, 504, 670, 830, 967, 1059, 1092, 1059, 967, 830, 670, 504, 351, 222, 126, 62, 26, 8, 2, 0, 0, 0, 0, 0, 0, 0, 0, 0, 0, 0, 0, 0]\n",
      "[0, 0, 0, 0, 0, 0, 0, 0, 0, 0, 0, 0, 1, 6, 24, 66, 146, 277, 464, 707, 992, 1298, 1590, 1836, 1998, 2056, 1998, 1836, 1590, 1298, 992, 707, 464, 277, 146, 66, 24, 6, 1, 0, 0, 0, 0, 0, 0, 0, 0, 0, 0, 0, 0]\n",
      "[0, 0, 0, 0, 0, 0, 0, 0, 0, 0, 0, 1, 5, 19, 54, 127, 255, 457, 735, 1091, 1499, 1935, 2345, 2690, 2914, 2995, 2914, 2690, 2345, 1935, 1499, 1091, 735, 457, 255, 127, 54, 19, 5, 1, 0, 0, 0, 0, 0, 0, 0, 0, 0, 0, 0]\n",
      "[0, 0, 0, 0, 0, 0, 0, 0, 0, 0, 0, 1, 8, 31, 90, 210, 415, 731, 1162, 1708, 2333, 2997, 3618, 4136, 4472, 4593, 4472, 4136, 3618, 2997, 2333, 1708, 1162, 731, 415, 210, 90, 31, 8, 1, 0, 0, 0, 0, 0, 0, 0, 0, 0, 0, 0]\n",
      "[0, 0, 0, 0, 0, 0, 0, 0, 0, 0, 2, 11, 38, 104, 237, 480, 864, 1424, 2163, 3070, 4089, 5147, 6132, 6942, 7467, 7654, 7467, 6942, 6132, 5147, 4089, 3070, 2163, 1424, 864, 480, 237, 104, 38, 11, 2, 0, 0, 0, 0, 0, 0, 0, 0, 0, 0]\n",
      "[0, 0, 0, 0, 0, 0, 0, 0, 0, 0, 2, 12, 42, 118, 275, 561, 1015, 1677, 2553, 3628, 4840, 6097, 7267, 8224, 8846, 9065, 8846, 8224, 7267, 6097, 4840, 3628, 2553, 1677, 1015, 561, 275, 118, 42, 12, 2, 0, 0, 0, 0, 0, 0, 0, 0, 0, 0]\n",
      "[0, 0, 0, 0, 0, 0, 0, 0, 0, 1, 10, 42, 128, 319, 681, 1294, 2231, 3548, 5252, 7302, 9576, 11902, 14050, 15797, 16932, 17329, 16932, 15797, 14050, 11902, 9576, 7302, 5252, 3548, 2231, 1294, 681, 319, 128, 42, 10, 1, 0, 0, 0, 0, 0, 0, 0, 0, 0]\n",
      "[0, 0, 0, 0, 0, 0, 0, 0, 2, 12, 44, 128, 316, 686, 1341, 2387, 3925, 6020, 8675, 11812, 15245, 18718, 21897, 24468, 26132, 26715, 26132, 24468, 21897, 18718, 15245, 11812, 8675, 6020, 3925, 2387, 1341, 686, 316, 128, 44, 12, 2, 0, 0, 0, 0, 0, 0, 0, 0]\n",
      "[0, 0, 0, 0, 0, 0, 0, 0, 2, 13, 52, 157, 400, 880, 1725, 3074, 5052, 7743, 11146, 15158, 19538, 23960, 28006, 31275, 33392, 34132, 33392, 31275, 28006, 23960, 19538, 15158, 11146, 7743, 5052, 3074, 1725, 880, 400, 157, 52, 13, 2, 0, 0, 0, 0, 0, 0, 0, 0]\n",
      "[0, 0, 0, 0, 0, 0, 0, 1, 8, 35, 118, 321, 749, 1553, 2909, 5013, 8026, 12053, 17069, 22910, 29236, 35575, 41350, 46000, 49012, 50061, 49012, 46000, 41350, 35575, 29236, 22910, 17069, 12053, 8026, 5013, 2909, 1553, 749, 321, 118, 35, 8, 1, 0, 0, 0, 0, 0, 0, 0]\n",
      "[0, 0, 0, 0, 0, 0, 0, 3, 17, 64, 194, 503, 1128, 2276, 4179, 7101, 11245, 16746, 23546, 31421, 39900, 48373, 56075, 62276, 66287, 67687, 66287, 62276, 56075, 48373, 39900, 31421, 23546, 16746, 11245, 7101, 4179, 2276, 1128, 503, 194, 64, 17, 3, 0, 0, 0, 0, 0, 0, 0]\n",
      "[0, 0, 0, 0, 0, 0, 0, 7, 36, 134, 387, 954, 2059, 4017, 7182, 11935, 18564, 27233, 37826, 49976, 62965, 75871, 87558, 96937, 102999, 105111, 102999, 96937, 87558, 75871, 62965, 49976, 37826, 27233, 18564, 11935, 7182, 4017, 2059, 954, 387, 134, 36, 7, 0, 0, 0, 0, 0, 0, 0]\n",
      "[0, 0, 0, 0, 0, 1, 6, 30, 105, 309, 779, 1746, 3528, 6556, 11304, 18272, 27817, 40121, 54975, 71848, 89743, 107433, 123388, 136170, 144413, 147288, 144413, 136170, 123388, 107433, 89743, 71848, 54975, 40121, 27817, 18272, 11304, 6556, 3528, 1746, 779, 309, 105, 30, 6, 1, 0, 0, 0, 0, 0]\n",
      "[0, 0, 0, 0, 0, 1, 7, 37, 134, 402, 1018, 2282, 4611, 8558, 14738, 23781, 36139, 52017, 71150, 92846, 115842, 138550, 159027, 175414, 185986, 189667, 185986, 175414, 159027, 138550, 115842, 92846, 71150, 52017, 36139, 23781, 14738, 8558, 4611, 2282, 1018, 402, 134, 37, 7, 1, 0, 0, 0, 0, 0]\n",
      "[0, 0, 0, 0, 0, 4, 24, 99, 314, 845, 1986, 4204, 8134, 14587, 24443, 38571, 57571, 81664, 110410, 142732, 176784, 210222, 240265, 264215, 279641, 284992, 279641, 264215, 240265, 210222, 176784, 142732, 110410, 81664, 57571, 38571, 24443, 14587, 8134, 4204, 1986, 845, 314, 99, 24, 4, 0, 0, 0, 0, 0]\n",
      "[0, 0, 0, 0, 3, 19, 74, 238, 655, 1597, 3505, 7052, 13139, 22887, 37486, 58056, 85349, 119553, 160014, 205182, 252530, 298802, 340237, 373145, 394315, 401636, 394315, 373145, 340237, 298802, 252530, 205182, 160014, 119553, 85349, 58056, 37486, 22887, 13139, 7052, 3505, 1597, 655, 238, 74, 19, 3, 0, 0, 0, 0]\n",
      "[0, 0, 0, 0, 3, 22, 94, 315, 877, 2140, 4685, 9383, 17389, 30124, 49074, 75623, 110680, 154452, 206089, 263621, 323834, 382602, 435162, 476862, 503660, 512925, 503660, 476862, 435162, 382602, 323834, 263621, 206089, 154452, 110680, 75623, 49074, 30124, 17389, 9383, 4685, 2140, 877, 315, 94, 22, 3, 0, 0, 0, 0]\n",
      "[0, 0, 0, 0, 8, 45, 172, 536, 1418, 3324, 7061, 13814, 25138, 42908, 69063, 105359, 152912, 211916, 281177, 358061, 438278, 516378, 586056, 641234, 676634, 688869, 676634, 641234, 586056, 516378, 438278, 358061, 281177, 211916, 152912, 105359, 69063, 42908, 25138, 13814, 7061, 3324, 1418, 536, 172, 45, 8, 0, 0, 0, 0]\n"
     ]
    }
   ],
   "source": [
    "smoothing = 3\n",
    "Jz_array_parityP_smooth = {}\n",
    "Jz_array_parityN_smooth = {}\n",
    "\n",
    "Jz_array_parityP_smooth[0] = Jz_array_parityP[0]\n",
    "Jz_array_parityN_smooth[0] = Jz_array_parityN[0]\n",
    "\n",
    "for i in range(1, len(Jz_array_parityP)-smoothing+2):\n",
    "    Jz_array_parityP_smooth[i] = 0\n",
    "    Jz_array_parityN_smooth[i] = 0\n",
    "\n",
    "    for j in range(0, smoothing):\n",
    "        Jz_array_parityP_smooth[i] += np.array(Jz_array_parityP[i-1+j])\n",
    "        Jz_array_parityN_smooth[i] += np.array(Jz_array_parityN[i-1+j])\n",
    "\n",
    "    Jz_array_parityP_smooth[i] = list(np.int64(Jz_array_parityP_smooth[i]/smoothing))\n",
    "    Jz_array_parityN_smooth[i] = list(np.int64(Jz_array_parityN_smooth[i]/smoothing))\n",
    "\n",
    "\n",
    "Jz_array_parityP_smooth[U] = Jz_array_parityP[U]\n",
    "Jz_array_parityN_smooth[U] = Jz_array_parityN[U]\n",
    "\n",
    "for i in range(U):\n",
    "    print(Jz_array_parityP_smooth[i])"
   ]
  },
  {
   "cell_type": "code",
   "execution_count": 137,
   "metadata": {},
   "outputs": [
    {
     "data": {
      "text/plain": [
       "<matplotlib.legend.Legend at 0x2b0b07ec430>"
      ]
     },
     "execution_count": 137,
     "metadata": {},
     "output_type": "execute_result"
    },
    {
     "data": {
      "image/png": "[encoded data removed]",
      "text/plain": [
       "<Figure size 1152x576 with 1 Axes>"
      ]
     },
     "metadata": {
      "needs_background": "light"
     },
     "output_type": "display_data"
    }
   ],
   "source": [
    "current_energy = 15\n",
    "fig, graph = plt.subplots(figsize=(16, 8))\n",
    "\n",
    "graph.set_xlabel(\"Проекция углового момента $J_Z$\", fontsize=24)\n",
    "graph.set_ylabel(\"Количество многочастичных состояний\", fontsize=20)\n",
    "\n",
    "# plt.rcParams.update({'font.size': 20})\n",
    "\n",
    "graph.xaxis.set_major_locator(ticker.MultipleLocator(4))\n",
    "graph.grid(which='major', color='k')\n",
    "graph.minorticks_on()\n",
    "graph.grid(axis='x', which='minor', color='gray', linestyle=':')\n",
    "\n",
    "# graph.scatter(axis_J_array, Jz_array_parityP[current_energy], color='red', linewidths=1, label='P = +1')\n",
    "# graph.scatter(axis_J_array, Jz_array_parityN[current_energy], color='blue', linewidths=1, label='P = -1')\n",
    "\n",
    "graph.scatter(axis_J_array, Jz_array_parityP_smooth[current_energy], color='red', linewidths=1, label='P = +1')\n",
    "graph.scatter(axis_J_array, Jz_array_parityN_smooth[current_energy], color='blue', linewidths=1, label='P = -1')\n",
    "\n",
    "# graph.set_yscale('log')\n",
    "\n",
    "textHeight = max(Jz_array_parityP[current_energy][int(j2z_limit/2)], Jz_array_parityN[current_energy][int(j2z_limit/2)]) / 3\n",
    "graph.text(12, textHeight, f'Модель HF+BCS\\n'\n",
    "                    f'{A}Ni\\n'\n",
    "                    f'N = {N_n}\\n'\n",
    "                    f'Z = {N_p}\\n'\n",
    "                    f'E = 15.5 МэВ',\n",
    "           bbox={'facecolor': 'white', 'alpha': 1, 'pad': 10}, fontsize=20)\n",
    "\n",
    "formatter = ticker.ScalarFormatter(useMathText=True)\n",
    "formatter.set_scientific(True)\n",
    "formatter.set_powerlimits((-1,1))\n",
    "graph.yaxis.set_major_formatter(formatter)\n",
    "graph.legend()"
   ]
  },
  {
   "cell_type": "markdown",
   "metadata": {},
   "source": [
    "# Плотность уровней"
   ]
  },
  {
   "cell_type": "code",
   "execution_count": 46,
   "metadata": {},
   "outputs": [],
   "source": [
    "start_index = int(len(Jz_array_parityP[0]) / 2) # Возможно, это j2z_limit/2"
   ]
  },
  {
   "cell_type": "code",
   "execution_count": 47,
   "metadata": {},
   "outputs": [
    {
     "name": "stdout",
     "output_type": "stream",
     "text": [
      "0\n"
     ]
    }
   ],
   "source": [
    "ad_1_or_0 = 1\n",
    "if (A%2 == 0):\n",
    "    ad_1_or_0 = 0\n",
    "print(ad_1_or_0)"
   ]
  },
  {
   "cell_type": "code",
   "execution_count": 48,
   "metadata": {},
   "outputs": [],
   "source": [
    "rho_array_parityP = {}\n",
    "rho_array_parityN = {}\n",
    "\n",
    "for energy in range(int(U / energy_step) + 1):\n",
    "    energy = energy * energy_step\n",
    "    tmp_parity_array_P = []\n",
    "    tmp_parity_array_N = []\n",
    "\n",
    "    for jz in range(start_index, start_index * 2 - ad_1_or_0): # !!! for 43sc -1\n",
    "        p = Jz_array_parityP[energy]\n",
    "        n = Jz_array_parityN[energy]\n",
    "\n",
    "        tmp_parity_array_P.append(p[jz] - p[jz + 1])\n",
    "        tmp_parity_array_N.append(n[jz] - n[jz + 1])\n",
    "\n",
    "    rho_array_parityP[energy] = tmp_parity_array_P\n",
    "    rho_array_parityN[energy] = tmp_parity_array_N\n"
   ]
  },
  {
   "cell_type": "markdown",
   "metadata": {},
   "source": [
    "## Суммирование по чётностям"
   ]
  },
  {
   "cell_type": "code",
   "execution_count": 49,
   "metadata": {},
   "outputs": [],
   "source": [
    "rho_array_parity_total = {}\n",
    "for energy in range(int(U / energy_step) + 1):\n",
    "    energy = energy * energy_step\n",
    "    tmp_parity_array = []\n",
    "    for i in range(len(rho_array_parityP[0])):\n",
    "        tmp_parity_array.append(rho_array_parityP[energy][i] + rho_array_parityN[energy][i])\n",
    "\n",
    "    rho_array_parity_total[energy] = tmp_parity_array"
   ]
  },
  {
   "cell_type": "markdown",
   "metadata": {},
   "source": [
    "## Ось энергий"
   ]
  },
  {
   "cell_type": "code",
   "execution_count": 50,
   "metadata": {},
   "outputs": [
    {
     "name": "stdout",
     "output_type": "stream",
     "text": [
      "[0, 1, 2, 3, 4, 5, 6, 7, 8, 9, 10, 11, 12, 13, 14, 15, 16, 17, 18, 19, 20, 21, 22, 23, 24]\n"
     ]
    }
   ],
   "source": [
    "length = int((len(Jz_array_parityP[0]) - 1) / 2)\n",
    "axis_J_array_rho = [i for i in range(length)]\n",
    "print(axis_J_array_rho)"
   ]
  },
  {
   "cell_type": "markdown",
   "metadata": {},
   "source": [
    "## График. Плотность уровней в зависимости от $J_Z$"
   ]
  },
  {
   "cell_type": "code",
   "execution_count": 51,
   "metadata": {},
   "outputs": [
    {
     "name": "stderr",
     "output_type": "stream",
     "text": [
      "No artists with labels found to put in legend.  Note that artists whose label start with an underscore are ignored when legend() is called with no argument.\n"
     ]
    },
    {
     "data": {
      "text/plain": [
       "<matplotlib.legend.Legend at 0x2b0a6ece6d0>"
      ]
     },
     "execution_count": 51,
     "metadata": {},
     "output_type": "execute_result"
    },
    {
     "data": {
      "image/png": "[encoded data removed]",
      "text/plain": [
       "<Figure size 1152x576 with 1 Axes>"
      ]
     },
     "metadata": {
      "needs_background": "light"
     },
     "output_type": "display_data"
    }
   ],
   "source": [
    "fig, graph = plt.subplots(figsize=(16, 8))\n",
    "\n",
    "graph.set_xlabel(\"Проекция полного углового момента на ось z, $J_Z$\", fontsize=24)\n",
    "graph.set_ylabel(\"Количество многочастичных состояний\", fontsize=20)\n",
    "\n",
    "graph.xaxis.set_major_locator(ticker.MultipleLocator(2))\n",
    "graph.grid(which='major', color='k')\n",
    "graph.minorticks_on()\n",
    "graph.grid(which='minor', color='gray', linestyle=':')\n",
    "\n",
    "graph.scatter(axis_J_array_rho, rho_array_parity_total[current_energy], color='blue', linewidths=4)\n",
    "\n",
    "# graph.set_yscale('log')\n",
    "\n",
    "textHeight = max(rho_array_parity_total[current_energy]) / 3\n",
    "reversedMeV = '{\\text{МэВ}}^{-1}'\n",
    "graph.text(15, textHeight, f'Количество N и P: {N_n}\\n'\n",
    "                    f'$U$: 2.0 $\\hbar \\omega$\\n'\n",
    "                    f'a = 4.53 МэВ', fontsize=20,\n",
    "           bbox={'facecolor': 'white', 'alpha': 1, 'pad': 10})\n",
    "graph.legend()"
   ]
  },
  {
   "cell_type": "markdown",
   "metadata": {},
   "source": [
    "# Плотность уровней в зависимости от энергии"
   ]
  },
  {
   "cell_type": "code",
   "execution_count": 52,
   "metadata": {},
   "outputs": [],
   "source": [
    "rho_array_energy_total = []\n",
    "\n",
    "for energy in range(len(U_axis)):\n",
    "    rho_array_energy_total.append(sum(rho_array_parity_total[energy * energy_step]))\n"
   ]
  },
  {
   "cell_type": "markdown",
   "metadata": {},
   "source": [
    "## Аналитическая формула $\\rho(U)$"
   ]
  },
  {
   "cell_type": "code",
   "execution_count": 53,
   "metadata": {},
   "outputs": [
    {
     "name": "stdout",
     "output_type": "stream",
     "text": [
      "K 0.030330121200250002\n",
      "R_squared 29.36802449523755\n"
     ]
    }
   ],
   "source": [
    "hw = 40 * pow(A, -1 / 3)\n",
    "# a = 3.8\n",
    "\n",
    "r_0 = 1.4\n",
    "R_squared = (r_0 ** 2) * (A ** (2 / 3))\n",
    "K = 197 * 197 / (4 / 5 * 939 * A * R_squared)\n",
    "\n",
    "print(\"K\", K)\n",
    "print(\"R_squared\", R_squared)"
   ]
  },
  {
   "cell_type": "code",
   "execution_count": 54,
   "metadata": {},
   "outputs": [],
   "source": [
    "def rho_U_formula(U, a):\n",
    "    return np.sqrt(K) * np.exp(2 * np.sqrt(a * U)) / (12 * pow(U, 3/2))"
   ]
  },
  {
   "cell_type": "code",
   "execution_count": 55,
   "metadata": {},
   "outputs": [],
   "source": [
    "rho_U_formula_range = np.arange(0.5, U, 0.5).tolist()"
   ]
  },
  {
   "cell_type": "code",
   "execution_count": 56,
   "metadata": {},
   "outputs": [],
   "source": [
    "rho_U_formula_values = []\n",
    "for i in range(len(rho_U_formula_range)):\n",
    "    rho_U_formula_values.append(rho_U_formula(rho_U_formula_range[i], a))"
   ]
  },
  {
   "cell_type": "markdown",
   "metadata": {},
   "source": [
    "## График"
   ]
  },
  {
   "cell_type": "code",
   "execution_count": 57,
   "metadata": {},
   "outputs": [
    {
     "data": {
      "text/plain": [
       "<matplotlib.legend.Legend at 0x2b0a641b730>"
      ]
     },
     "execution_count": 57,
     "metadata": {},
     "output_type": "execute_result"
    },
    {
     "data": {
      "image/png": "[encoded data removed]",
      "text/plain": [
       "<Figure size 1152x576 with 1 Axes>"
      ]
     },
     "metadata": {
      "needs_background": "light"
     },
     "output_type": "display_data"
    }
   ],
   "source": [
    "fig, graph = plt.subplots(figsize=(16, 8))\n",
    "\n",
    "graph.set_xlabel(\"Энергия возбуждения U, МэВ\", fontsize=24)\n",
    "graph.set_ylabel(\"Количество уровней\", fontsize=20)\n",
    "\n",
    "# graph.xaxis.set_major_locator(ticker.MultipleLocator(2))\n",
    "graph.yaxis.set_major_locator(ticker.MultipleLocator(1))\n",
    "graph.grid(which='major', color='gray', linestyle=':')\n",
    "graph.minorticks_on()\n",
    "# graph.grid(which='minor', axis='both', color='gray', linestyle=':')\n",
    "\n",
    "graph.scatter(U_axis, rho_array_energy_total, linewidths=3, color='blue', label='$\\Delta N / \\Delta U$')\n",
    "graph.plot(rho_U_formula_range, rho_U_formula_values, 'k', label='$ρ(U)$')\n",
    "\n",
    "graph.set_yscale('log')\n",
    "\n",
    "textHeight = math.log(max(rho_array_energy_total) / 3)/4\n",
    "graph.text(23, textHeight, f'Модель HF+BCS\\n'\n",
    "                    f'{A}Ni\\n'\n",
    "                    f'N = {N_n}\\n'\n",
    "                    f'Z = {N_p}\\n'\n",
    "                    f'$\\Delta_p$ = {round(DP, ndigits=2)} МэВ\\n'\n",
    "                    f'$\\Delta_n$ = {round(DN, ndigits=2)} МэВ\\n'\n",
    "                    f'a = {a} МэВ${{}}^{{-1}}$',\n",
    "           bbox={'facecolor': 'white', 'alpha': 1, 'pad': 10}, fontsize=20)\n",
    "graph.legend()"
   ]
  },
  {
   "cell_type": "code",
   "execution_count": null,
   "metadata": {},
   "outputs": [],
   "source": []
  },
  {
   "cell_type": "code",
   "execution_count": null,
   "metadata": {},
   "outputs": [],
   "source": []
  },
  {
   "cell_type": "code",
   "execution_count": null,
   "metadata": {},
   "outputs": [],
   "source": []
  },
  {
   "cell_type": "code",
   "execution_count": null,
   "metadata": {},
   "outputs": [],
   "source": []
  },
  {
   "cell_type": "code",
   "execution_count": null,
   "metadata": {},
   "outputs": [],
   "source": []
  },
  {
   "cell_type": "code",
   "execution_count": null,
   "metadata": {},
   "outputs": [],
   "source": []
  },
  {
   "cell_type": "markdown",
   "metadata": {},
   "source": [
    "# Код, который, возможно, каким-то образом пригодится в будущем"
   ]
  },
  {
   "cell_type": "markdown",
   "metadata": {},
   "source": [
    "### IAEA"
   ]
  },
  {
   "cell_type": "code",
   "execution_count": 58,
   "metadata": {},
   "outputs": [],
   "source": [
    "# body = {\n",
    "#     'fields': 'levels',\n",
    "#     'nuclides': nucleus\n",
    "#     }\n",
    "\n",
    "# r = requests.get('https://nds.iaea.org/relnsd/v1/data', params = body)\n",
    "# lines = r.text.split('\\n')\n",
    "# data = []\n",
    "\n",
    "# for i in range(len(lines)):\n",
    "#     if (len(lines[i])):\n",
    "#         data.append(lines[i].split(','))\n",
    "#         # print(data[i])"
   ]
  },
  {
   "cell_type": "code",
   "execution_count": 59,
   "metadata": {},
   "outputs": [],
   "source": [
    "# energy = []\n",
    "\n",
    "# for i in range(1, len(data)):\n",
    "#     energy.append(float(data[i][5]))"
   ]
  },
  {
   "cell_type": "code",
   "execution_count": 60,
   "metadata": {},
   "outputs": [],
   "source": [
    "# step = 1000 # 1 MeV\n",
    "\n",
    "# rho = [0 for i in range(int(energy[-1]/step)+1)]\n",
    "\n",
    "# # print(rho)\n",
    "\n",
    "# for i in range(len(energy)):\n",
    "\n",
    "#     index = int(energy[i]/step)\n",
    "\n",
    "#     rho[index] += 1\n",
    "\n",
    "# print(rho)"
   ]
  },
  {
   "cell_type": "code",
   "execution_count": 61,
   "metadata": {},
   "outputs": [],
   "source": [
    "# axis = [i for i in range(int(energy[-1]/step)+1)]"
   ]
  },
  {
   "cell_type": "markdown",
   "metadata": {},
   "source": [
    "## Plot"
   ]
  },
  {
   "cell_type": "code",
   "execution_count": 62,
   "metadata": {},
   "outputs": [],
   "source": [
    "# fig, graph = plt.subplots(figsize=(18, 9))\n",
    "\n",
    "# graph.set_xlabel(\"Энергия возбуждения U, МэВ\", fontsize=24, fontweight=\"bold\")\n",
    "# graph.set_ylabel(\"Количество уровней\", fontsize=18)\n",
    "\n",
    "# # graph.xaxis.set_major_locator(ticker.MultipleLocator(2))\n",
    "# graph.yaxis.set_major_locator(ticker.MultipleLocator(1))\n",
    "# graph.grid(which='major', color='k')\n",
    "# graph.minorticks_on()\n",
    "# graph.grid(which='minor', axis='both', color='gray', linestyle=':')\n",
    "\n",
    "# graph.plot(rho_U_formula_range, rho_U_formula_values, 'k', label='Analytical formula')\n",
    "# graph.scatter(axis, rho, linewidths=1, color='blue', label='IAEA levels')\n",
    "# graph.scatter(U_axis, rho_array_energy_total, linewidths=1, color='red', label='my 40Ca levels' )\n",
    "\n",
    "# graph.set_yscale('log')\n",
    "# # graph.yaxis.set_major_locator(ticker.MultipleLocator(1))\n",
    "\n",
    "# graph.set_xlim([-1, 30])\n",
    "\n",
    "# graph.text(1, 1e3, f' {A}{element[N_p]}\\n a = {a} МэВ$^{{-1}}$',\n",
    "#                       fontweight = 'bold',\n",
    "#            bbox={'facecolor': 'white', 'alpha': 1, 'pad': 10}, fontsize=16)\n",
    "# graph.legend()"
   ]
  },
  {
   "cell_type": "markdown",
   "metadata": {},
   "source": [
    "### Спаривание нуклонов. Алгоритм"
   ]
  },
  {
   "cell_type": "code",
   "execution_count": 63,
   "metadata": {},
   "outputs": [],
   "source": [
    "# PAIRING ALGORITHM. 1ST ATTEMPT\n",
    "\n",
    "# def ens_energy_pairing(ensemble):\n",
    "#     summ = 0\n",
    "\n",
    "#     # calculate ground state bound particles' energy\n",
    "#     if nucl_type == 'n':\n",
    "#         N = N_n\n",
    "#     elif nucl_type == 'p':\n",
    "#         N = N_p\n",
    "\n",
    "#     # for i in range(0, N, 2):\n",
    "#     #     if(ensemble[i] == 1 and ensemble[i+1] == 1):\n",
    "#     #         print('inside')\n",
    "#     #         summ += particles[i].get_energy() * 2\n",
    "#     #         if particles[i].get_energy() != particles[i+1].get_energy():\n",
    "#     #             raise Exception(\"ERROR Bound patricles have different energies\")\n",
    "#     # print('gs', summ)\n",
    "\n",
    "#     # calculate quasiparticles' energy\n",
    "#     checked_hole = N-1\n",
    "#     for id_ex_particle in range(len(ensemble)-1, N-1, -1):\n",
    "#         if ensemble[id_ex_particle] == 0:\n",
    "#             continue\n",
    "\n",
    "#         # нашли частицу, где ensemble[id_ex_particle] == 1\n",
    "#         for id_ex_hole in range(checked_hole, -1, -1):\n",
    "#             if ensemble[id_ex_hole] == 0:\n",
    "#                 summ += math.sqrt( (particles[id_ex_particle].get_energy() - particles[id_ex_hole].get_energy())**2 + D**2 )\n",
    "#                 checked_hole -= 1\n",
    "#                 break\n",
    "#             else:\n",
    "#                 # есть частица в основном состоянии. Нужно определить, спарена ли она, и расчитать её энергию\n",
    "\n",
    "#                 print('inside else')\n",
    "#                 if id_ex_hole%2 == 0: # если мы на чётной позиции (левая частица в паре)\n",
    "\n",
    "#                     # if ensemble[id_ex_hole+1] == 1: # если есть рядом частица # МЫ УЖЕ ОТРАБОТАЛИ ЭТОТ СЛУЧАЙ\n",
    "#                     #     summ += particles[id_ex_hole].get_energy() * 2\n",
    "\n",
    "#                     #     if particles[id_ex_hole].get_energy() != particles[id_ex_hole+1].get_energy():\n",
    "#                     #         raise Exception(\"ERROR Bound patricles have different energies (GS)\")\n",
    "                        \n",
    "#                     if ensemble[id_ex_hole+1] == 0:\n",
    "#                         summ += D\n",
    "\n",
    "#                 checked_hole -= 1\n",
    "\n",
    "    \n",
    "#     # если вышли, но не посчитали левую частицу в паре из-за break около checked_hole\n",
    "#     if ensemble[id_ex_hole] == 1 and ensemble[id_ex_hole+1] == 0:\n",
    "#         summ += D\n",
    "\n",
    "\n",
    "#     return summ\n"
   ]
  },
  {
   "cell_type": "markdown",
   "metadata": {},
   "source": [
    "### Конвертирование [1,0,...] в [2,4,2,6,...]"
   ]
  },
  {
   "cell_type": "code",
   "execution_count": 64,
   "metadata": {},
   "outputs": [],
   "source": [
    "# Конвертирование [1,0,...] в [2,4,2,6,...], т.е. массива чисел заполнения в массив по энергетическим уровням.\n",
    "# Но нужен массив init_info из предыдущих версий\n",
    "\n",
    "# def convert(ens):\n",
    "#     level_array = [] # [2,4,2,6,...]\n",
    "#     level_shift = 0\n",
    "\n",
    "#     for level in init_info:\n",
    "#         n_particles = 0\n",
    "\n",
    "#         # print(level_shift)\n",
    "#         for i in range(level[0]*2):\n",
    "#             n_particles += ens[i+level_shift]\n",
    "\n",
    "#         level_array.append(n_particles)\n",
    "#         level_shift += level[0]*2\n",
    "\n",
    "#     return level_array\n",
    "       \n",
    "# proton_converted = {}\n",
    "# neutron_converted = {}\n",
    "\n",
    "# # Test\n",
    "# convert([1,0,0,0,1,1,1,0,1,0,1,0,0,0,0,0,0,0,0,0,0,0,0,0,0,0,0,0,0,0,0,0,0,0,0,0,0,0,0,0,0,0,0,0,0,0,0,0,0,0,0,0,0,0,0,0,0,0,0,0,0,0,0,0,0,0,0,0,0,0,0,0,0,0,0,0,0,0,0,0,0,0,0,0,0,0,0,0,0,0,0,0,0,0,0,0,0,0,0,0,0,0,0,0,0,0,0])"
   ]
  },
  {
   "cell_type": "markdown",
   "metadata": {},
   "source": [
    "### HF BCS part"
   ]
  },
  {
   "cell_type": "markdown",
   "metadata": {},
   "source": [
    "cccccccccccccc Ni58 (+3n +3p states) cccccccccccccccccccc\n",
    "data ln/31/,l/15,16,0/,\n",
    "*alo/2,4,2,6,2,4,8,0,0,0,0,0,0,0,0,\n",
    "*2,4,2,6,2,4,8,2,0,0,0,0,0,0,0,0,9*0./\n",
    "data al/0.,1.,1.,2.,0.,2.,3.,1.,3.,1.,4.,2.,4.,0.,2.,\n",
    "*0.,1.,1.,2.,0.,2.,3.,1.,3.,1.,4.,2.,4.,0.,2.,5.,9*0./\n",
    "data aj/.5,1.5,.5,2.5,.5,1.5,3.5,1.5,2.5,0.5,4.5,2.5,3.5,0.5,1.5,\n",
    "*.5,1.5,.5,2.5,.5,1.5,3.5,1.5,2.5,0.5,4.5,2.5,3.5,0.5,1.5,5.5,9*0./\n",
    "data en/-60.,-50.,-45.,-40.,-35.,-30.,-25.,-10.,-5.,-1.,-1.,\n",
    "*-1.,-1,-1,-1,\n",
    "*-60.,-50.,-45.,-40.,-35.,-30.,-25.,-20.,-15.,-10.,-10.,-10.,-10.,\n",
    "*-10.,-10.,-10.,9*0./\n",
    "data h1,h2,n,ht,rt/.015,.125,794,.02,.39/\n",
    "data bf/2.6,2.4,2.4,2.1,2.1,1.9,1.8,1.7,1.7,1.6,1.6,1.5,1.5,1.4,\n",
    "*1.4,\n",
    "*2.6,2.4,2.3,2.1,2.0,1.9,1.8,1.7,1.6,1.5,1.4,1.3,1.2,1.2,1.2,1.2,\n",
    "*9*0./"
   ]
  },
  {
   "cell_type": "code",
   "execution_count": 65,
   "metadata": {},
   "outputs": [],
   "source": [
    "# proton_converted_sorted = collections.OrderedDict(sorted(proton_converted.items()))\n",
    "# proton_values = list(val for val in proton_converted_sorted.values())\n",
    "# proton_keys = list(val for val in proton_converted_sorted.keys())\n",
    "\n",
    "# i = 0\n",
    "# while i < len(proton_values)-1:\n",
    "#     j = i+1\n",
    "#     while j < len(proton_values):\n",
    "#         if np.array_equal(proton_values[i], proton_values[j]):\n",
    "#             proton_keys.remove(proton_keys[j])\n",
    "#             proton_values.remove(proton_values[j])\n",
    "#             j -= 1\n",
    "#         j += 1\n",
    "#     i += 1\n",
    "\n",
    "# # There should be 3 free spaces in protons, not 4.as_integer_ratio\n",
    "\n",
    "# i = 0\n",
    "# while i < len(proton_values):\n",
    "#     if proton_values[i][10] != 0:\n",
    "#         proton_keys.remove(proton_keys[i])\n",
    "#         proton_values.remove(proton_values[i])\n",
    "#         i -= 1\n",
    "#     else:\n",
    "#         proton_values[i] = proton_values[i][:-1]\n",
    "\n",
    "#     i += 1\n",
    "\n",
    "\n",
    "# neutron_converted_sorted = collections.OrderedDict(sorted(neutron_converted.items()))\n",
    "# neutron_values = list(val for val in neutron_converted_sorted.values())\n",
    "# # for i in range(len(neutron_values)):\n",
    "# #     neutron_values[i] = ''.join(str(x) for x in neutron_values[i])\n",
    "# # neutron_values = list(set(neutron_values))\n",
    "# neutron_keys = list(val for val in neutron_converted_sorted.keys())\n",
    "\n",
    "# i = 0\n",
    "# while i < len(proton_values)-1:\n",
    "#     j = i+1\n",
    "#     while j < len(proton_values):\n",
    "#         if np.array_equal(proton_values[i], proton_values[j]):\n",
    "#             proton_keys.remove(proton_keys[j])\n",
    "#             proton_values.remove(proton_values[j])\n",
    "#             j -= 1\n",
    "#         j += 1\n",
    "#     i += 1\n",
    "\n",
    "\n",
    "# converted_sorted = {} # {energy, [protons, neutrons]}\n",
    "\n",
    "# for i in range(len(proton_values)):\n",
    "#     for j in range(len(neutron_values)):\n",
    "#         converted_sorted[proton_keys[i]+neutron_keys[j]] = proton_values[i] + neutron_values[j]\n",
    "\n",
    "\n",
    "\n",
    "# converted_sorted = collections.OrderedDict(sorted(converted_sorted.items()))\n",
    "# values = list(val for val in converted_sorted.values())\n",
    "# keys = list(val for val in converted_sorted.keys())\n",
    "\n",
    "\n",
    "# index = 1\n",
    "# print('c     *alo/' + ','.join(str(x) for x in values[0]) + ',0,18*0./    c', 0, keys[0])\n",
    "# for i in range(1, len(values)):\n",
    "#     if values[i] != values[i-1]:\n",
    "#         if sum(values[i]) != N_p+N_n:\n",
    "#             raise Exception('number error')\n",
    "        \n",
    "#         if keys[i] < 11.0:\n",
    "#             print('c     *alo/' + ','.join(str(x) for x in values[i]) + ',0,18*0./    c', index, keys[i])\n",
    "#             index += 1\n"
   ]
  },
  {
   "cell_type": "code",
   "execution_count": null,
   "metadata": {},
   "outputs": [],
   "source": []
  },
  {
   "cell_type": "code",
   "execution_count": null,
   "metadata": {},
   "outputs": [],
   "source": []
  },
  {
   "cell_type": "code",
   "execution_count": null,
   "metadata": {},
   "outputs": [],
   "source": []
  },
  {
   "cell_type": "code",
   "execution_count": null,
   "metadata": {},
   "outputs": [],
   "source": []
  },
  {
   "cell_type": "code",
   "execution_count": null,
   "metadata": {},
   "outputs": [],
   "source": []
  },
  {
   "cell_type": "code",
   "execution_count": null,
   "metadata": {},
   "outputs": [],
   "source": []
  }
 ],
 "metadata": {
  "kernelspec": {
   "display_name": "Python 3",
   "language": "python",
   "name": "python3"
  },
  "language_info": {
   "codemirror_mode": {
    "name": "ipython",
    "version": 3
   },
   "file_extension": ".py",
   "mimetype": "text/x-python",
   "name": "python",
   "nbconvert_exporter": "python",
   "pygments_lexer": "ipython3",
   "version": "3.9.6"
  },
  "orig_nbformat": 4
 },
 "nbformat": 4,
 "nbformat_minor": 2
}
